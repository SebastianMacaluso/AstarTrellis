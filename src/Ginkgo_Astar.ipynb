{
 "cells": [
  {
   "cell_type": "code",
   "execution_count": 1,
   "metadata": {},
   "outputs": [],
   "source": [
    "%load_ext autoreload\n",
    "%autoreload 2"
   ]
  },
  {
   "cell_type": "code",
   "execution_count": 2,
   "metadata": {},
   "outputs": [],
   "source": [
    "import os\n",
    "import pickle\n",
    "import string\n",
    "import time\n",
    "import logging\n",
    "import numpy as np\n",
    "import importlib\n",
    "\n",
    "\n",
    "# import run_a_star_iter_ginkgo as run_Astar"
   ]
  },
  {
   "cell_type": "code",
   "execution_count": 3,
   "metadata": {},
   "outputs": [],
   "source": [
    "# import jet_trellis_invM as jet_trellis\n",
    "# import run_physics_experiment_invM as rpe\n",
    "# import jet_node_invM as jet_node\n",
    "# # import likelihood\n",
    "# import hierarchical_trellis\n",
    "# import hierarchical_trellis_node"
   ]
  },
  {
   "cell_type": "code",
   "execution_count": 4,
   "metadata": {},
   "outputs": [],
   "source": [
    "%matplotlib inline\n",
    "import matplotlib.pyplot as plt\n",
    "plt.rcParams[\"figure.figsize\"] = (8, 8)\n",
    "\n",
    "import matplotlib as mpl\n",
    "from matplotlib import rcParams\n",
    "from matplotlib.colors import Normalize\n",
    "import matplotlib.cm as cm\n",
    "from matplotlib.colors import LogNorm\n",
    "from matplotlib import ticker\n",
    "from matplotlib import colors\n",
    "from matplotlib.patches import Ellipse\n",
    "from matplotlib import gridspec\n",
    "\n",
    "import matplotlib\n",
    "matplotlib.rc('font',**{'family':'serif','serif':['Times']})\n",
    "matplotlib.rc('text', usetex=True) \n",
    "matplotlib.rcParams.update({'font.size': 10})"
   ]
  },
  {
   "cell_type": "code",
   "execution_count": 5,
   "metadata": {},
   "outputs": [],
   "source": [
    "# from utils import get_logger\n",
    "# logger = get_logger(level=logging.WARNING)"
   ]
  },
  {
   "cell_type": "code",
   "execution_count": 5,
   "metadata": {},
   "outputs": [
    {
     "data": {
      "text/plain": [
       "<module 'run_physics_experiment_invM' from '/Users/sebastianmacaluso/Dropbox/Documents/Physics_projects/simulator/hierarchical-trellis/src/run_physics_experiment_invM.py'>"
      ]
     },
     "execution_count": 5,
     "metadata": {},
     "output_type": "execute_result"
    }
   ],
   "source": [
    "# importlib.reload(hierarchical_trellis)\n",
    "# importlib.reload(hierarchical_trellis_node)\n",
    "# importlib.reload(jet_node)\n",
    "# importlib.reload(jet_trellis)\n",
    "# importlib.reload(rpe)"
   ]
  },
  {
   "cell_type": "code",
   "execution_count": 7,
   "metadata": {},
   "outputs": [],
   "source": [
    "# from utils import get_logger\n",
    "# logger = get_logger(level=logging.WARNING)"
   ]
  },
  {
   "cell_type": "code",
   "execution_count": 4,
   "metadata": {},
   "outputs": [],
   "source": [
    "def load_jets(filename):\n",
    "    root_dir = \"/Users/sebastianmacaluso/Dropbox/Documents/Physics_projects/simulator/hierarchical-trellis/src/data/invMassGinkgo/\"\n",
    "    \n",
    "#     root_dir = \"/Users/sebastianmacaluso/Documents/PrinceData/invMassGinkgo/\"\n",
    "    filename = os.path.join(root_dir, filename)\n",
    "    with open(filename + \".pkl\", \"rb\") as fd:\n",
    "        Truth, BS, Greedy = pickle.load(fd, encoding='latin-1')\n",
    "    return Truth, BS, Greedy"
   ]
  },
  {
   "cell_type": "code",
   "execution_count": 5,
   "metadata": {},
   "outputs": [],
   "source": [
    "label = \"TruthBSGreedy_Trellis\".split(\"_\")[1]"
   ]
  },
  {
   "cell_type": "code",
   "execution_count": 6,
   "metadata": {},
   "outputs": [],
   "source": [
    "plotDir = \"plots/\""
   ]
  },
  {
   "cell_type": "code",
   "execution_count": null,
   "metadata": {},
   "outputs": [],
   "source": []
  },
  {
   "cell_type": "code",
   "execution_count": 7,
   "metadata": {},
   "outputs": [],
   "source": [
    "# gt_jets, bs_jets, greedy_jets = load_jets(\"TruthBSGreedy_Trellis\")\n",
    "# gt_jets, bs_jets, greedy_jets = load_jets(\"TruthBSmaxGreedy_9_leaves\")"
   ]
  },
  {
   "cell_type": "markdown",
   "metadata": {},
   "source": [
    "## Test dataset"
   ]
  },
  {
   "cell_type": "code",
   "execution_count": 6,
   "metadata": {},
   "outputs": [],
   "source": [
    "def load_jets(NleavesMin=4):\n",
    "    indir = \"data/\"\n",
    "    in_filename = os.path.join(indir, \"test_\"+str(NleavesMin)+\"_jets.pkl\")\n",
    "    with open(in_filename, \"rb\") as fd:\n",
    "        gt_jets = pickle.load(fd, encoding='latin-1')\n",
    "    return gt_jets"
   ]
  },
  {
   "cell_type": "code",
   "execution_count": 7,
   "metadata": {},
   "outputs": [],
   "source": [
    "gt_jets = load_jets(NleavesMin=4)"
   ]
  },
  {
   "cell_type": "code",
   "execution_count": 8,
   "metadata": {},
   "outputs": [
    {
     "data": {
      "text/plain": [
       "10"
      ]
     },
     "execution_count": 8,
     "metadata": {},
     "output_type": "execute_result"
    }
   ],
   "source": [
    "len(gt_jets)"
   ]
  },
  {
   "cell_type": "code",
   "execution_count": 13,
   "metadata": {},
   "outputs": [
    {
     "data": {
      "text/plain": [
       "{'root_id': 0,\n",
       " 'tree': array([[ 1,  6],\n",
       "        [ 2,  5],\n",
       "        [ 3,  4],\n",
       "        [-1, -1],\n",
       "        [-1, -1],\n",
       "        [-1, -1],\n",
       "        [-1, -1]]),\n",
       " 'content': array([[401.1234224 , 230.94010768, 230.94010768, 230.94010768],\n",
       "        [314.60120085, 180.422586  , 175.23301597, 188.33846754],\n",
       "        [ 81.00655526,  43.5310513 ,  45.61659103,  50.40192677],\n",
       "        [ 40.27664947,  21.97625825,  21.18900353,  26.18085261],\n",
       "        [ 40.72990009,  21.55478998,  24.42758429,  24.22107061],\n",
       "        [233.59463599, 136.89152919, 129.61641959, 137.93653502],\n",
       "        [ 86.52222155,  50.51752167,  55.7070917 ,  42.60164013]]),\n",
       " 'LambdaRoot': tensor(1.5000),\n",
       " 'Lambda': tensor(1.5000),\n",
       " 'Delta_0': tensor(900.),\n",
       " 'pt_cut': 16.0,\n",
       " 'algorithm': 'truth',\n",
       " 'deltas': array([900.        , 243.61775208,  45.8819809 ,   0.        ,\n",
       "          0.        ,   0.        ,   0.        ]),\n",
       " 'draws': array([None, tensor(0.2707), tensor(0.1883), tensor(0.1055),\n",
       "        tensor(0.5235), tensor(0.0033), tensor(0.0767)], dtype=object),\n",
       " 'leaves': array([[ 40.27664947,  21.97625825,  21.18900353,  26.18085261],\n",
       "        [ 40.72990009,  21.55478998,  24.42758429,  24.22107061],\n",
       "        [233.59463599, 136.89152919, 129.61641959, 137.93653502],\n",
       "        [ 86.52222155,  50.51752167,  55.7070917 ,  42.60164013]]),\n",
       " 'M_Hard': 30.0,\n",
       " 'logLH': array([-11.04165077,  -8.72781467,  -3.82242775,   0.        ,\n",
       "          0.        ,   0.        ,   0.        ]),\n",
       " 'dij': [[-11.041650772094727,\n",
       "   3.006523750261125e-07,\n",
       "   0.01901894436719187,\n",
       "   107.55783726057243],\n",
       "  [-8.727814674377441,\n",
       "   9.679300451388361e-08,\n",
       "   0.0034399950193375207,\n",
       "   13.676820963782887],\n",
       "  [-3.822427749633789,\n",
       "   8.295624028500934e-06,\n",
       "   0.00880427722925045,\n",
       "   8.204968292334529]],\n",
       " 'ConstPhi': [1.0713122875368377,\n",
       "  1.0840524096184243,\n",
       "  1.0407183861182243,\n",
       "  1.0423233486863985],\n",
       " 'PhiDelta': [-2.0885340189599977, 1.0217116953046832, 2.3198761032324833],\n",
       " 'PhiDeltaRel': [3.1369451536714292, 0.028381248913416757, 1.2421799187437528],\n",
       " 'sumlogLH': -23.591893196105957}"
      ]
     },
     "execution_count": 13,
     "metadata": {},
     "output_type": "execute_result"
    }
   ],
   "source": [
    "gt_jets[0]"
   ]
  },
  {
   "cell_type": "code",
   "execution_count": 22,
   "metadata": {},
   "outputs": [],
   "source": [
    "iStart = [i for i in range(len(gt_jets)) if 2<=len(gt_jets[i][\"leaves\"])<3][0]"
   ]
  },
  {
   "cell_type": "code",
   "execution_count": 23,
   "metadata": {},
   "outputs": [],
   "source": [
    "testset=gt_jets[iStart]"
   ]
  },
  {
   "cell_type": "code",
   "execution_count": 1,
   "metadata": {},
   "outputs": [],
   "source": [
    "import wandb"
   ]
  },
  {
   "cell_type": "code",
   "execution_count": 2,
   "metadata": {},
   "outputs": [
    {
     "data": {
      "text/plain": [
       "True"
      ]
     },
     "execution_count": 2,
     "metadata": {},
     "output_type": "execute_result"
    }
   ],
   "source": [
    "wandb.login()"
   ]
  },
  {
   "cell_type": "code",
   "execution_count": 3,
   "metadata": {},
   "outputs": [],
   "source": [
    "# from absl import app"
   ]
  },
  {
   "cell_type": "code",
   "execution_count": 2,
   "metadata": {},
   "outputs": [
    {
     "data": {
      "text/plain": [
       "array([1, 2, 5])"
      ]
     },
     "execution_count": 2,
     "metadata": {},
     "output_type": "execute_result"
    }
   ],
   "source": [
    "import numpy as np\n",
    "min(np.array([[1,2,5]]))"
   ]
  },
  {
   "cell_type": "code",
   "execution_count": 4,
   "metadata": {},
   "outputs": [],
   "source": [
    "import pickle\n",
    "import os\n",
    "import logging\n",
    "import numpy as np\n",
    "import sys\n",
    "\n",
    "# sys.path.append('../')\n",
    "\n",
    "from iter_trellis import IterCCTrellis, IterJetTrellis\n",
    "from trellis.iter_trellis import all_two_partitions, k_random_2_cuts, top_k_of_n_2_cuts\n",
    "# from trellis.tree import Tree\n",
    "# from trellis.build_graphs import build_graph_from\n",
    "\n",
    "import wandb\n",
    "\n",
    "\n",
    "from absl import flags\n",
    "from absl import logging\n",
    "from absl import app"
   ]
  },
  {
   "cell_type": "code",
   "execution_count": 5,
   "metadata": {},
   "outputs": [],
   "source": [
    "FLAGS = flags.FLAGS\n",
    "\n",
    "flags.DEFINE_integer('max_iter', 1000000000000, 'iterations')\n",
    "flags.DEFINE_integer('max_nodes', 10000000, 'nodes')\n",
    "flags.DEFINE_string('dataset', None, 'dataset file')\n",
    "flags.DEFINE_string('trellis_class', 'IterJetTrellis', 'dataset file')\n",
    "flags.DEFINE_string('exp_name', 'AStar', 'name')\n",
    "flags.DEFINE_string('output', 'exp_out', 'output directory')\n",
    "flags.DEFINE_integer('tree_num', 0, '')\n",
    "flags.DEFINE_integer('num_points', 12, '')\n",
    "flags.DEFINE_integer('seed', 42, '')\n",
    "flags.DEFINE_string('child_func', 'all_two_partitions', 'function used to get children when initializing nodes')\n",
    "flags.DEFINE_integer('num_repeated_map_values', 1, 'number of times the same MAP value is returned before halting')\n",
    "flags.DEFINE_integer('propagate_values_up', 0, 'whether to propagate f,g,h values during trellis extension.')\n",
    "\n",
    "\n",
    "# flags.DEFINE_string('graph_input', None, 'The data file to build the graph from in either xcluster or npy format.')\n",
    "# flags.DEFINE_string('graph_input_format', 'xcluster', 'Input data format = {xcluster|npy}')\n",
    "# flags.DEFINE_integer('graph_num_neighbors', -1, 'The number of neighbors to give each point in the graph. -1 to do fully connected.')\n",
    "# flags.DEFINE_integer('unit_norm', 1, 'Whether or not to unit norm the vectors (should always be true)')\n",
    "# flags.DEFINE_integer('batch_size', 100, 'Batchsize when computing nearest neighbors.')\n",
    "# flags.DEFINE_integer('graph_num_classes', 3, 'Number of classes of points to use.')\n",
    "# flags.DEFINE_float('graph_percent_of_points_for_classes', 0.20, 'Number of classes of points to use.')\n",
    "# flags.DEFINE_boolean('build_cc_graph', True, '')\n",
    "\n",
    "\n",
    "flags.DEFINE_integer('get_children_k', 5, '')\n",
    "flags.DEFINE_integer('get_children_n', 3, '')\n",
    "flags.DEFINE_integer('get_children_exact_size', 10, '')\n",
    "flags.DEFINE_integer('get_children_num_tries', 2, '')\n",
    "flags.DEFINE_integer('iter_approx_max_iter', 3, '')\n",
    "flags.DEFINE_integer('search_cap_size', 40, '')\n",
    "\n",
    "\n",
    "\n",
    "\n",
    "logging.set_verbosity(logging.INFO)"
   ]
  },
  {
   "cell_type": "code",
   "execution_count": 15,
   "metadata": {},
   "outputs": [],
   "source": [
    "class flags(object):\n",
    "    \n",
    "    def __init__(self,max_iter, max_nodes,dataset, trellis_class, exp_name, output , tree_num, num_points, seed, child_func, num_repeated_map_values, propagate_values_up):\n",
    "        self.max_iter= max_iter\n",
    "        self.max_nodes =max_nodes\n",
    "        self.dataset = dataset\n",
    "        self.trellis_class = trellis_class\n",
    "        self.exp_name= exp_name\n",
    "        self.output = output\n",
    "        self.tree_num = tree_num\n",
    "        self.num_points = num_points\n",
    "        self.seed= seed\n",
    "        self.child_func = child_func\n",
    "        self.num_repeated_map_values = num_repeated_map_values\n",
    "        self. propagate_values_up = propagate_values_up\n",
    "        \n",
    "\n",
    "    "
   ]
  },
  {
   "cell_type": "code",
   "execution_count": 16,
   "metadata": {},
   "outputs": [],
   "source": [
    "FLAGS= flags(max_iter = 10000000,max_nodes=10000000, dataset=None, trellis_class = 'IterJetTrellis', exp_name= 'AStar', output= 'exp_out' , tree_num=0, num_points =12, seed=42, child_func='all_two_partitions', num_repeated_map_values=1, propagate_values_up=0)"
   ]
  },
  {
   "cell_type": "code",
   "execution_count": null,
   "metadata": {},
   "outputs": [],
   "source": []
  },
  {
   "cell_type": "code",
   "execution_count": null,
   "metadata": {},
   "outputs": [
    {
     "data": {
      "text/html": [
       "\n",
       "                Logging results to <a href=\"https://wandb.com\" target=\"_blank\">Weights & Biases</a> <a href=\"https://docs.wandb.com/integrations/jupyter.html\" target=\"_blank\">(Documentation)</a>.<br/>\n",
       "                Project page: <a href=\"https://app.wandb.ai/sebas/AStar\" target=\"_blank\">https://app.wandb.ai/sebas/AStar</a><br/>\n",
       "                Run page: <a href=\"https://app.wandb.ai/sebas/AStar/runs/1parilv0\" target=\"_blank\">https://app.wandb.ai/sebas/AStar/runs/1parilv0</a><br/>\n",
       "            "
      ],
      "text/plain": [
       "<IPython.core.display.HTML object>"
      ]
     },
     "metadata": {},
     "output_type": "display_data"
    }
   ],
   "source": [
    "wandb.init(project=\"%s\" % (FLAGS.exp_name),\n",
    "           config={\n",
    "               \"batch_size\": 128,\n",
    "               \"learning_rate\": 0.01,\n",
    "               \"dataset\": \"CIFAR-100\",\n",
    "           })"
   ]
  },
  {
   "cell_type": "code",
   "execution_count": null,
   "metadata": {},
   "outputs": [],
   "source": [
    "%%wandb"
   ]
  },
  {
   "cell_type": "code",
   "execution_count": 14,
   "metadata": {},
   "outputs": [],
   "source": [
    "def main(argv):\n",
    "    logging.info('Running with args %s', str(argv))\n",
    "\n",
    "    wandb.init(project=\n",
    "              )\n",
    "    wandb.config.update(flags.FLAGS)\n",
    "    outprefix = os.path.join(FLAGS.output, wandb.env.get_project(), os.environ.get(wandb.env.SWEEP_ID, 'solo'),\n",
    "                             wandb.env.get_run())\n",
    "    logging.info('outprefix is %s', outprefix)\n",
    "    os.makedirs(outprefix, exist_ok=True)\n",
    "    np.random.seed(FLAGS.seed)\n",
    "\n",
    "\n",
    "#     graph, _, labels, _ = build_graph_from(FLAGS, FLAGS.tree_num)\n",
    "#     dataset_name = os.path.basename(FLAGS.graph_input)\n",
    "\n",
    "    logging.info('Running on a dataset (%s) with %s points from %s gt clusters', dataset_name, labels.shape[0],\n",
    "                 np.unique(labels).shape[0])\n",
    "\n",
    "    assert labels.shape[0] == FLAGS.num_points\n",
    "\n",
    "#     wandb.log({\n",
    "#         'tree_num': FLAGS.tree_num,\n",
    "#         'dataset_name': dataset_name,\n",
    "#         'num_points': FLAGS.num_points,\n",
    "#         'num_gt_clusters': labels.shape[0]\n",
    "#     })\n",
    "\n",
    "    if FLAGS.trellis_class == 'IterJetTrellis' or FLAGS.trellis_class == 'GreedyIterCCTrellis':\n",
    "        trellis = IterJetTrellis(leaves = gt_jets[0]['leaves'], propagate_values_up=FLAGS.propagate_values_up, max_nodes=FLAGS.max_nodes,  min_invM=gt_jets[0]['pt_cut'], Lambda= gt_jets[0]['Lambda'], LambdaRoot=gt_jets[0]['LambdaRoot'])\n",
    "#         trellis = IterCCTrellis(graph, propagate_values_up=FLAGS.propagate_values_up, max_nodes=FLAGS.max_nodes)\n",
    "\n",
    "\n",
    "        #Define _get_children as all 2 partitions or top k of n 2 cuts\n",
    "        if FLAGS.child_func == 'all_two_partitions':\n",
    "            _get_children = all_two_partitions\n",
    "        else:\n",
    "            def _get_children(elem):\n",
    "                return top_k_of_n_2_cuts(elem, graph=trellis.graph, all_pairs_max_size=15)\n",
    "        trellis._get_children = _get_children\n",
    "\n",
    "    else:\n",
    "        raise Exception(\"Unknown trellis %s\" % FLAGS.trellis_class)\n",
    "\n",
    "    wandb.log({'trellis_class': FLAGS.trellis_class,\n",
    "               'child_func': FLAGS.child_func,\n",
    "               'propagate_values_up': FLAGS.propagate_values_up})\n",
    "\n",
    "    # run search.\n",
    "    if FLAGS.trellis_class == 'IterJetTrellis' or FLAGS.trellis_class == 'GreedyIterCCTrellis' :\n",
    "        hc, f = trellis.execute_search(num_matches=FLAGS.num_repeated_map_values)\n",
    "    elif FLAGS.trellis_class == 'Greedy':\n",
    "        hc, f = trellis.execute_search()\n",
    "\n",
    "    wandb.log({'a_star_map': f})\n",
    "    print('FINAL HC:', hc)\n",
    "    print('FINAL f:', f)"
   ]
  },
  {
   "cell_type": "code",
   "execution_count": 16,
   "metadata": {},
   "outputs": [
    {
     "name": "stderr",
     "output_type": "stream",
     "text": [
      "FATAL Flags parsing error: Unknown command line flag 'f'\n",
      "Pass --helpshort or --helpfull to see help on flags.\n",
      "E1029 15:56:54.515222 4480251328 ultratb.py:152] Internal Python error in the inspect module.\n",
      "Below is the traceback from this internal error.\n",
      "\n",
      "I1029 15:56:54.516530 4480251328 ultratb.py:1185] \n",
      "Unfortunately, your original traceback can not be constructed.\n",
      "\n"
     ]
    },
    {
     "name": "stdout",
     "output_type": "stream",
     "text": [
      "Traceback (most recent call last):\n",
      "  File \"/Users/sebastianmacaluso/anaconda3/lib/python3.7/site-packages/absl/app.py\", line 158, in parse_flags_with_usage\n",
      "    return FLAGS(args)\n",
      "  File \"/Users/sebastianmacaluso/anaconda3/lib/python3.7/site-packages/absl/flags/_flagvalues.py\", line 633, in __call__\n",
      "    name, value, suggestions=suggestions)\n",
      "absl.flags._exceptions.UnrecognizedFlagError: Unknown command line flag 'f'\n",
      "\n",
      "During handling of the above exception, another exception occurred:\n",
      "\n",
      "Traceback (most recent call last):\n",
      "  File \"/Users/sebastianmacaluso/anaconda3/lib/python3.7/site-packages/IPython/core/interactiveshell.py\", line 3343, in run_code\n",
      "    exec(code_obj, self.user_global_ns, self.user_ns)\n",
      "  File \"<ipython-input-16-243392e41e8e>\", line 1, in <module>\n",
      "    app.run(main)\n",
      "  File \"/Users/sebastianmacaluso/anaconda3/lib/python3.7/site-packages/absl/app.py\", line 293, in run\n",
      "    flags_parser,\n",
      "  File \"/Users/sebastianmacaluso/anaconda3/lib/python3.7/site-packages/absl/app.py\", line 362, in _run_init\n",
      "    flags_parser=flags_parser,\n",
      "  File \"/Users/sebastianmacaluso/anaconda3/lib/python3.7/site-packages/absl/app.py\", line 212, in _register_and_parse_flags_with_usage\n",
      "    args_to_main = flags_parser(original_argv)\n",
      "  File \"/Users/sebastianmacaluso/anaconda3/lib/python3.7/site-packages/absl/app.py\", line 162, in parse_flags_with_usage\n",
      "    sys.exit(1)\n",
      "SystemExit: 1\n",
      "\n",
      "During handling of the above exception, another exception occurred:\n",
      "\n",
      "Traceback (most recent call last):\n",
      "  File \"/Users/sebastianmacaluso/anaconda3/lib/python3.7/site-packages/IPython/core/ultratb.py\", line 1169, in get_records\n",
      "    return _fixed_getinnerframes(etb, number_of_lines_of_context, tb_offset)\n",
      "  File \"/Users/sebastianmacaluso/anaconda3/lib/python3.7/site-packages/IPython/core/ultratb.py\", line 316, in wrapped\n",
      "    return f(*args, **kwargs)\n",
      "  File \"/Users/sebastianmacaluso/anaconda3/lib/python3.7/site-packages/IPython/core/ultratb.py\", line 350, in _fixed_getinnerframes\n",
      "    records = fix_frame_records_filenames(inspect.getinnerframes(etb, context))\n",
      "  File \"/Users/sebastianmacaluso/anaconda3/lib/python3.7/inspect.py\", line 1502, in getinnerframes\n",
      "    frameinfo = (tb.tb_frame,) + getframeinfo(tb, context)\n",
      "AttributeError: 'tuple' object has no attribute 'tb_frame'\n"
     ]
    },
    {
     "ename": "TypeError",
     "evalue": "object of type 'NoneType' has no len()",
     "output_type": "error",
     "traceback": [
      "\u001b[0;31m---------------------------------------------------------------------------\u001b[0m",
      "\u001b[0;31mUnrecognizedFlagError\u001b[0m                     Traceback (most recent call last)",
      "\u001b[0;32m~/anaconda3/lib/python3.7/site-packages/absl/app.py\u001b[0m in \u001b[0;36mparse_flags_with_usage\u001b[0;34m(args)\u001b[0m\n\u001b[1;32m    157\u001b[0m   \u001b[0;32mtry\u001b[0m\u001b[0;34m:\u001b[0m\u001b[0;34m\u001b[0m\u001b[0;34m\u001b[0m\u001b[0m\n\u001b[0;32m--> 158\u001b[0;31m     \u001b[0;32mreturn\u001b[0m \u001b[0mFLAGS\u001b[0m\u001b[0;34m(\u001b[0m\u001b[0margs\u001b[0m\u001b[0;34m)\u001b[0m\u001b[0;34m\u001b[0m\u001b[0;34m\u001b[0m\u001b[0m\n\u001b[0m\u001b[1;32m    159\u001b[0m   \u001b[0;32mexcept\u001b[0m \u001b[0mflags\u001b[0m\u001b[0;34m.\u001b[0m\u001b[0mError\u001b[0m \u001b[0;32mas\u001b[0m \u001b[0merror\u001b[0m\u001b[0;34m:\u001b[0m\u001b[0;34m\u001b[0m\u001b[0;34m\u001b[0m\u001b[0m\n",
      "\u001b[0;32m~/anaconda3/lib/python3.7/site-packages/absl/flags/_flagvalues.py\u001b[0m in \u001b[0;36m__call__\u001b[0;34m(self, argv, known_only)\u001b[0m\n\u001b[1;32m    632\u001b[0m       raise _exceptions.UnrecognizedFlagError(\n\u001b[0;32m--> 633\u001b[0;31m           name, value, suggestions=suggestions)\n\u001b[0m\u001b[1;32m    634\u001b[0m \u001b[0;34m\u001b[0m\u001b[0m\n",
      "\u001b[0;31mUnrecognizedFlagError\u001b[0m: Unknown command line flag 'f'",
      "\nDuring handling of the above exception, another exception occurred:\n",
      "\u001b[0;31mSystemExit\u001b[0m                                Traceback (most recent call last)",
      "    \u001b[0;31m[... skipping hidden 1 frame]\u001b[0m\n",
      "\u001b[0;32m<ipython-input-16-243392e41e8e>\u001b[0m in \u001b[0;36m<module>\u001b[0;34m\u001b[0m\n\u001b[0;32m----> 1\u001b[0;31m \u001b[0mapp\u001b[0m\u001b[0;34m.\u001b[0m\u001b[0mrun\u001b[0m\u001b[0;34m(\u001b[0m\u001b[0mmain\u001b[0m\u001b[0;34m)\u001b[0m\u001b[0;34m\u001b[0m\u001b[0;34m\u001b[0m\u001b[0m\n\u001b[0m",
      "\u001b[0;32m~/anaconda3/lib/python3.7/site-packages/absl/app.py\u001b[0m in \u001b[0;36mrun\u001b[0;34m(main, argv, flags_parser)\u001b[0m\n\u001b[1;32m    292\u001b[0m         \u001b[0msys\u001b[0m\u001b[0;34m.\u001b[0m\u001b[0margv\u001b[0m \u001b[0;32mif\u001b[0m \u001b[0margv\u001b[0m \u001b[0;32mis\u001b[0m \u001b[0;32mNone\u001b[0m \u001b[0;32melse\u001b[0m \u001b[0margv\u001b[0m\u001b[0;34m,\u001b[0m\u001b[0;34m\u001b[0m\u001b[0;34m\u001b[0m\u001b[0m\n\u001b[0;32m--> 293\u001b[0;31m         \u001b[0mflags_parser\u001b[0m\u001b[0;34m,\u001b[0m\u001b[0;34m\u001b[0m\u001b[0;34m\u001b[0m\u001b[0m\n\u001b[0m\u001b[1;32m    294\u001b[0m     )\n",
      "\u001b[0;32m~/anaconda3/lib/python3.7/site-packages/absl/app.py\u001b[0m in \u001b[0;36m_run_init\u001b[0;34m(argv, flags_parser)\u001b[0m\n\u001b[1;32m    361\u001b[0m       \u001b[0margv\u001b[0m\u001b[0;34m=\u001b[0m\u001b[0margv\u001b[0m\u001b[0;34m,\u001b[0m\u001b[0;34m\u001b[0m\u001b[0;34m\u001b[0m\u001b[0m\n\u001b[0;32m--> 362\u001b[0;31m       \u001b[0mflags_parser\u001b[0m\u001b[0;34m=\u001b[0m\u001b[0mflags_parser\u001b[0m\u001b[0;34m,\u001b[0m\u001b[0;34m\u001b[0m\u001b[0;34m\u001b[0m\u001b[0m\n\u001b[0m\u001b[1;32m    363\u001b[0m   )\n",
      "\u001b[0;32m~/anaconda3/lib/python3.7/site-packages/absl/app.py\u001b[0m in \u001b[0;36m_register_and_parse_flags_with_usage\u001b[0;34m(argv, flags_parser)\u001b[0m\n\u001b[1;32m    211\u001b[0m   \u001b[0moriginal_argv\u001b[0m \u001b[0;34m=\u001b[0m \u001b[0msys\u001b[0m\u001b[0;34m.\u001b[0m\u001b[0margv\u001b[0m \u001b[0;32mif\u001b[0m \u001b[0margv\u001b[0m \u001b[0;32mis\u001b[0m \u001b[0;32mNone\u001b[0m \u001b[0;32melse\u001b[0m \u001b[0margv\u001b[0m\u001b[0;34m\u001b[0m\u001b[0;34m\u001b[0m\u001b[0m\n\u001b[0;32m--> 212\u001b[0;31m   \u001b[0margs_to_main\u001b[0m \u001b[0;34m=\u001b[0m \u001b[0mflags_parser\u001b[0m\u001b[0;34m(\u001b[0m\u001b[0moriginal_argv\u001b[0m\u001b[0;34m)\u001b[0m\u001b[0;34m\u001b[0m\u001b[0;34m\u001b[0m\u001b[0m\n\u001b[0m\u001b[1;32m    213\u001b[0m   \u001b[0;32mif\u001b[0m \u001b[0;32mnot\u001b[0m \u001b[0mFLAGS\u001b[0m\u001b[0;34m.\u001b[0m\u001b[0mis_parsed\u001b[0m\u001b[0;34m(\u001b[0m\u001b[0;34m)\u001b[0m\u001b[0;34m:\u001b[0m\u001b[0;34m\u001b[0m\u001b[0;34m\u001b[0m\u001b[0m\n",
      "\u001b[0;32m~/anaconda3/lib/python3.7/site-packages/absl/app.py\u001b[0m in \u001b[0;36mparse_flags_with_usage\u001b[0;34m(args)\u001b[0m\n\u001b[1;32m    161\u001b[0m     \u001b[0msys\u001b[0m\u001b[0;34m.\u001b[0m\u001b[0mstderr\u001b[0m\u001b[0;34m.\u001b[0m\u001b[0mwrite\u001b[0m\u001b[0;34m(\u001b[0m\u001b[0;34m'Pass --helpshort or --helpfull to see help on flags.\\n'\u001b[0m\u001b[0;34m)\u001b[0m\u001b[0;34m\u001b[0m\u001b[0;34m\u001b[0m\u001b[0m\n\u001b[0;32m--> 162\u001b[0;31m     \u001b[0msys\u001b[0m\u001b[0;34m.\u001b[0m\u001b[0mexit\u001b[0m\u001b[0;34m(\u001b[0m\u001b[0;36m1\u001b[0m\u001b[0;34m)\u001b[0m\u001b[0;34m\u001b[0m\u001b[0;34m\u001b[0m\u001b[0m\n\u001b[0m\u001b[1;32m    163\u001b[0m \u001b[0;34m\u001b[0m\u001b[0m\n",
      "\u001b[0;31mSystemExit\u001b[0m: 1",
      "\nDuring handling of the above exception, another exception occurred:\n",
      "\u001b[0;31mTypeError\u001b[0m                                 Traceback (most recent call last)",
      "    \u001b[0;31m[... skipping hidden 1 frame]\u001b[0m\n",
      "\u001b[0;32m~/anaconda3/lib/python3.7/site-packages/IPython/core/interactiveshell.py\u001b[0m in \u001b[0;36mshowtraceback\u001b[0;34m(self, exc_tuple, filename, tb_offset, exception_only, running_compiled_code)\u001b[0m\n\u001b[1;32m   2036\u001b[0m                            'the full traceback.\\n']\n\u001b[1;32m   2037\u001b[0m                     stb.extend(self.InteractiveTB.get_exception_only(etype,\n\u001b[0;32m-> 2038\u001b[0;31m                                                                      value))\n\u001b[0m\u001b[1;32m   2039\u001b[0m                 \u001b[0;32melse\u001b[0m\u001b[0;34m:\u001b[0m\u001b[0;34m\u001b[0m\u001b[0;34m\u001b[0m\u001b[0m\n\u001b[1;32m   2040\u001b[0m                     \u001b[0;32mtry\u001b[0m\u001b[0;34m:\u001b[0m\u001b[0;34m\u001b[0m\u001b[0;34m\u001b[0m\u001b[0m\n",
      "\u001b[0;32m~/anaconda3/lib/python3.7/site-packages/IPython/core/ultratb.py\u001b[0m in \u001b[0;36mget_exception_only\u001b[0;34m(self, etype, value)\u001b[0m\n\u001b[1;32m    821\u001b[0m         \u001b[0mvalue\u001b[0m \u001b[0;34m:\u001b[0m \u001b[0mexception\u001b[0m \u001b[0mvalue\u001b[0m\u001b[0;34m\u001b[0m\u001b[0;34m\u001b[0m\u001b[0m\n\u001b[1;32m    822\u001b[0m         \"\"\"\n\u001b[0;32m--> 823\u001b[0;31m         \u001b[0;32mreturn\u001b[0m \u001b[0mListTB\u001b[0m\u001b[0;34m.\u001b[0m\u001b[0mstructured_traceback\u001b[0m\u001b[0;34m(\u001b[0m\u001b[0mself\u001b[0m\u001b[0;34m,\u001b[0m \u001b[0metype\u001b[0m\u001b[0;34m,\u001b[0m \u001b[0mvalue\u001b[0m\u001b[0;34m)\u001b[0m\u001b[0;34m\u001b[0m\u001b[0;34m\u001b[0m\u001b[0m\n\u001b[0m\u001b[1;32m    824\u001b[0m \u001b[0;34m\u001b[0m\u001b[0m\n\u001b[1;32m    825\u001b[0m     \u001b[0;32mdef\u001b[0m \u001b[0mshow_exception_only\u001b[0m\u001b[0;34m(\u001b[0m\u001b[0mself\u001b[0m\u001b[0;34m,\u001b[0m \u001b[0metype\u001b[0m\u001b[0;34m,\u001b[0m \u001b[0mevalue\u001b[0m\u001b[0;34m)\u001b[0m\u001b[0;34m:\u001b[0m\u001b[0;34m\u001b[0m\u001b[0;34m\u001b[0m\u001b[0m\n",
      "\u001b[0;32m~/anaconda3/lib/python3.7/site-packages/IPython/core/ultratb.py\u001b[0m in \u001b[0;36mstructured_traceback\u001b[0;34m(self, etype, evalue, etb, tb_offset, context)\u001b[0m\n\u001b[1;32m    700\u001b[0m                     chained_exceptions_tb_offset, context)\n\u001b[1;32m    701\u001b[0m                 \u001b[0;34m+\u001b[0m \u001b[0mchained_exception_message\u001b[0m\u001b[0;34m\u001b[0m\u001b[0;34m\u001b[0m\u001b[0m\n\u001b[0;32m--> 702\u001b[0;31m                 + out_list)\n\u001b[0m\u001b[1;32m    703\u001b[0m \u001b[0;34m\u001b[0m\u001b[0m\n\u001b[1;32m    704\u001b[0m         \u001b[0;32mreturn\u001b[0m \u001b[0mout_list\u001b[0m\u001b[0;34m\u001b[0m\u001b[0;34m\u001b[0m\u001b[0m\n",
      "\u001b[0;32m~/anaconda3/lib/python3.7/site-packages/IPython/core/ultratb.py\u001b[0m in \u001b[0;36mstructured_traceback\u001b[0;34m(self, etype, value, tb, tb_offset, number_of_lines_of_context)\u001b[0m\n\u001b[1;32m   1434\u001b[0m             \u001b[0mself\u001b[0m\u001b[0;34m.\u001b[0m\u001b[0mtb\u001b[0m \u001b[0;34m=\u001b[0m \u001b[0mtb\u001b[0m\u001b[0;34m\u001b[0m\u001b[0;34m\u001b[0m\u001b[0m\n\u001b[1;32m   1435\u001b[0m         return FormattedTB.structured_traceback(\n\u001b[0;32m-> 1436\u001b[0;31m             self, etype, value, tb, tb_offset, number_of_lines_of_context)\n\u001b[0m\u001b[1;32m   1437\u001b[0m \u001b[0;34m\u001b[0m\u001b[0m\n\u001b[1;32m   1438\u001b[0m \u001b[0;34m\u001b[0m\u001b[0m\n",
      "\u001b[0;32m~/anaconda3/lib/python3.7/site-packages/IPython/core/ultratb.py\u001b[0m in \u001b[0;36mstructured_traceback\u001b[0;34m(self, etype, value, tb, tb_offset, number_of_lines_of_context)\u001b[0m\n\u001b[1;32m   1334\u001b[0m             \u001b[0;31m# Verbose modes need a full traceback\u001b[0m\u001b[0;34m\u001b[0m\u001b[0;34m\u001b[0m\u001b[0;34m\u001b[0m\u001b[0m\n\u001b[1;32m   1335\u001b[0m             return VerboseTB.structured_traceback(\n\u001b[0;32m-> 1336\u001b[0;31m                 \u001b[0mself\u001b[0m\u001b[0;34m,\u001b[0m \u001b[0metype\u001b[0m\u001b[0;34m,\u001b[0m \u001b[0mvalue\u001b[0m\u001b[0;34m,\u001b[0m \u001b[0mtb\u001b[0m\u001b[0;34m,\u001b[0m \u001b[0mtb_offset\u001b[0m\u001b[0;34m,\u001b[0m \u001b[0mnumber_of_lines_of_context\u001b[0m\u001b[0;34m\u001b[0m\u001b[0;34m\u001b[0m\u001b[0m\n\u001b[0m\u001b[1;32m   1337\u001b[0m             )\n\u001b[1;32m   1338\u001b[0m         \u001b[0;32melif\u001b[0m \u001b[0mmode\u001b[0m \u001b[0;34m==\u001b[0m \u001b[0;34m'Minimal'\u001b[0m\u001b[0;34m:\u001b[0m\u001b[0;34m\u001b[0m\u001b[0;34m\u001b[0m\u001b[0m\n",
      "\u001b[0;32m~/anaconda3/lib/python3.7/site-packages/IPython/core/ultratb.py\u001b[0m in \u001b[0;36mstructured_traceback\u001b[0;34m(self, etype, evalue, etb, tb_offset, number_of_lines_of_context)\u001b[0m\n\u001b[1;32m   1191\u001b[0m \u001b[0;34m\u001b[0m\u001b[0m\n\u001b[1;32m   1192\u001b[0m         formatted_exception = self.format_exception_as_a_whole(etype, evalue, etb, number_of_lines_of_context,\n\u001b[0;32m-> 1193\u001b[0;31m                                                                tb_offset)\n\u001b[0m\u001b[1;32m   1194\u001b[0m \u001b[0;34m\u001b[0m\u001b[0m\n\u001b[1;32m   1195\u001b[0m         \u001b[0mcolors\u001b[0m \u001b[0;34m=\u001b[0m \u001b[0mself\u001b[0m\u001b[0;34m.\u001b[0m\u001b[0mColors\u001b[0m  \u001b[0;31m# just a shorthand + quicker name lookup\u001b[0m\u001b[0;34m\u001b[0m\u001b[0;34m\u001b[0m\u001b[0m\n",
      "\u001b[0;32m~/anaconda3/lib/python3.7/site-packages/IPython/core/ultratb.py\u001b[0m in \u001b[0;36mformat_exception_as_a_whole\u001b[0;34m(self, etype, evalue, etb, number_of_lines_of_context, tb_offset)\u001b[0m\n\u001b[1;32m   1148\u001b[0m \u001b[0;34m\u001b[0m\u001b[0m\n\u001b[1;32m   1149\u001b[0m \u001b[0;34m\u001b[0m\u001b[0m\n\u001b[0;32m-> 1150\u001b[0;31m         \u001b[0mlast_unique\u001b[0m\u001b[0;34m,\u001b[0m \u001b[0mrecursion_repeat\u001b[0m \u001b[0;34m=\u001b[0m \u001b[0mfind_recursion\u001b[0m\u001b[0;34m(\u001b[0m\u001b[0morig_etype\u001b[0m\u001b[0;34m,\u001b[0m \u001b[0mevalue\u001b[0m\u001b[0;34m,\u001b[0m \u001b[0mrecords\u001b[0m\u001b[0;34m)\u001b[0m\u001b[0;34m\u001b[0m\u001b[0;34m\u001b[0m\u001b[0m\n\u001b[0m\u001b[1;32m   1151\u001b[0m \u001b[0;34m\u001b[0m\u001b[0m\n\u001b[1;32m   1152\u001b[0m         \u001b[0mframes\u001b[0m \u001b[0;34m=\u001b[0m \u001b[0mself\u001b[0m\u001b[0;34m.\u001b[0m\u001b[0mformat_records\u001b[0m\u001b[0;34m(\u001b[0m\u001b[0mrecords\u001b[0m\u001b[0;34m,\u001b[0m \u001b[0mlast_unique\u001b[0m\u001b[0;34m,\u001b[0m \u001b[0mrecursion_repeat\u001b[0m\u001b[0;34m)\u001b[0m\u001b[0;34m\u001b[0m\u001b[0;34m\u001b[0m\u001b[0m\n",
      "\u001b[0;32m~/anaconda3/lib/python3.7/site-packages/IPython/core/ultratb.py\u001b[0m in \u001b[0;36mfind_recursion\u001b[0;34m(etype, value, records)\u001b[0m\n\u001b[1;32m    449\u001b[0m     \u001b[0;31m# first frame (from in to out) that looks different.\u001b[0m\u001b[0;34m\u001b[0m\u001b[0;34m\u001b[0m\u001b[0;34m\u001b[0m\u001b[0m\n\u001b[1;32m    450\u001b[0m     \u001b[0;32mif\u001b[0m \u001b[0;32mnot\u001b[0m \u001b[0mis_recursion_error\u001b[0m\u001b[0;34m(\u001b[0m\u001b[0metype\u001b[0m\u001b[0;34m,\u001b[0m \u001b[0mvalue\u001b[0m\u001b[0;34m,\u001b[0m \u001b[0mrecords\u001b[0m\u001b[0;34m)\u001b[0m\u001b[0;34m:\u001b[0m\u001b[0;34m\u001b[0m\u001b[0;34m\u001b[0m\u001b[0m\n\u001b[0;32m--> 451\u001b[0;31m         \u001b[0;32mreturn\u001b[0m \u001b[0mlen\u001b[0m\u001b[0;34m(\u001b[0m\u001b[0mrecords\u001b[0m\u001b[0;34m)\u001b[0m\u001b[0;34m,\u001b[0m \u001b[0;36m0\u001b[0m\u001b[0;34m\u001b[0m\u001b[0;34m\u001b[0m\u001b[0m\n\u001b[0m\u001b[1;32m    452\u001b[0m \u001b[0;34m\u001b[0m\u001b[0m\n\u001b[1;32m    453\u001b[0m     \u001b[0;31m# Select filename, lineno, func_name to track frames with\u001b[0m\u001b[0;34m\u001b[0m\u001b[0;34m\u001b[0m\u001b[0;34m\u001b[0m\u001b[0m\n",
      "\u001b[0;31mTypeError\u001b[0m: object of type 'NoneType' has no len()"
     ]
    }
   ],
   "source": [
    "app.run(main)"
   ]
  },
  {
   "cell_type": "code",
   "execution_count": 37,
   "metadata": {},
   "outputs": [],
   "source": [
    "# FLAGS = flags.FLAGS\n",
    "\n",
    "# logging.set_verbosity(logging.INFO)"
   ]
  },
  {
   "cell_type": "code",
   "execution_count": 13,
   "metadata": {},
   "outputs": [],
   "source": [
    "# app.run(run_Astar.main)"
   ]
  },
  {
   "cell_type": "code",
   "execution_count": null,
   "metadata": {},
   "outputs": [],
   "source": []
  },
  {
   "cell_type": "code",
   "execution_count": null,
   "metadata": {},
   "outputs": [],
   "source": []
  },
  {
   "cell_type": "code",
   "execution_count": null,
   "metadata": {},
   "outputs": [],
   "source": []
  },
  {
   "cell_type": "code",
   "execution_count": null,
   "metadata": {},
   "outputs": [],
   "source": []
  },
  {
   "cell_type": "code",
   "execution_count": null,
   "metadata": {},
   "outputs": [],
   "source": []
  },
  {
   "cell_type": "code",
   "execution_count": null,
   "metadata": {},
   "outputs": [],
   "source": []
  },
  {
   "cell_type": "code",
   "execution_count": 23,
   "metadata": {},
   "outputs": [],
   "source": [
    "#Check if there is any entry for the splitting log LH with positive values. This would mean the LH>1\n",
    "for ijet in range(len(gt_jets)):\n",
    "    pos = [gt_jets[ijet][\"logLH\"][i] for i in range(len(gt_jets[ijet][\"logLH\"])) if gt_jets[ijet][\"logLH\"][i] >0]\n",
    "    if pos!=[]:\n",
    "        print(pos)"
   ]
  },
  {
   "cell_type": "code",
   "execution_count": 20,
   "metadata": {},
   "outputs": [],
   "source": [
    "bs_jets = np.asarray([entry[0] for entry in bs_jets]) "
   ]
  },
  {
   "cell_type": "code",
   "execution_count": 26,
   "metadata": {},
   "outputs": [
    {
     "data": {
      "text/plain": [
       "-0.25248245892545396"
      ]
     },
     "execution_count": 26,
     "metadata": {},
     "output_type": "execute_result"
    }
   ],
   "source": [
    "np.log(1-np.exp(-1.5))"
   ]
  },
  {
   "cell_type": "code",
   "execution_count": 28,
   "metadata": {},
   "outputs": [
    {
     "data": {
      "text/plain": [
       "1.3862943611198906"
      ]
     },
     "execution_count": 28,
     "metadata": {},
     "output_type": "execute_result"
    }
   ],
   "source": [
    "np.log(4)"
   ]
  },
  {
   "cell_type": "code",
   "execution_count": 24,
   "metadata": {},
   "outputs": [
    {
     "data": {
      "text/plain": [
       "{'root_id': 0,\n",
       " 'tree': array([[ 1, 14],\n",
       "        [ 2, 13],\n",
       "        [ 3, 12],\n",
       "        [ 4, 11],\n",
       "        [ 5, 10],\n",
       "        [ 6,  9],\n",
       "        [ 7,  8],\n",
       "        [-1, -1],\n",
       "        [-1, -1],\n",
       "        [-1, -1],\n",
       "        [-1, -1],\n",
       "        [-1, -1],\n",
       "        [-1, -1],\n",
       "        [-1, -1],\n",
       "        [15, 16],\n",
       "        [-1, -1],\n",
       "        [-1, -1]]),\n",
       " 'content': array([[401.1234224 , 230.94010768, 230.94010768, 230.94010768],\n",
       "        [309.52302075, 179.87132722, 178.36989079, 176.44572323],\n",
       "        [298.21950099, 173.75326464, 172.68533187, 168.91089618],\n",
       "        [197.48688541, 121.30629024, 112.2744643 , 107.74501025],\n",
       "        [177.05831638, 107.58013355, 102.17675728,  96.49321179],\n",
       "        [174.0111227 , 105.6801559 , 100.42803104,  94.87698609],\n",
       "        [157.20260791,  95.69725393,  90.23789822,  85.99148259],\n",
       "        [150.28670557,  91.454086  ,  86.32935603,  82.1809349 ],\n",
       "        [  6.91591023,   4.24317273,   3.90854673,   3.810552  ],\n",
       "        [ 16.80851689,   9.98290325,  10.19013404,   8.88550465],\n",
       "        [  3.04718527,   1.89997253,   1.74872138,   1.6162211 ],\n",
       "        [ 20.42856902,  13.72615669,  10.09770702,  11.25179847],\n",
       "        [100.73261558,  52.44697441,  60.41086757,  61.16588593],\n",
       "        [ 11.30351647,   6.11806067,   5.68455702,   7.53482518],\n",
       "        [ 91.60040165,  51.06878045,  52.57021688,  54.49438444],\n",
       "        [ 22.28848456,  11.69920243,  13.00016666,  13.50153816],\n",
       "        [ 69.31191398,  39.36957628,  39.57004844,  40.99284443]]),\n",
       " 'LambdaRoot': tensor(1.5000),\n",
       " 'Lambda': tensor(1.5000),\n",
       " 'Delta_0': tensor(900.),\n",
       " 'pt_cut': 16.0,\n",
       " 'algorithm': 'truth',\n",
       " 'deltas': array([900.        , 501.89483643, 393.55914307,  71.31130219,\n",
       "         25.13262177,  24.14356995,  17.28217506,   0.        ,\n",
       "          0.        ,   0.        ,   0.        ,   0.        ,\n",
       "          0.        ,   0.        ,  49.34761047,   0.        ,\n",
       "          0.        ]),\n",
       " 'draws': array([None, tensor(0.5577), tensor(0.7841), tensor(0.1812),\n",
       "        tensor(0.3524), tensor(0.9606), tensor(0.7158), tensor(0.9131),\n",
       "        tensor(0.8279), tensor(0.1343), tensor(0.5283), tensor(0.0299),\n",
       "        tensor(0.0434), tensor(0.1902), tensor(0.8550), tensor(0.1745),\n",
       "        tensor(0.4766)], dtype=object),\n",
       " 'leaves': array([[150.28670557,  91.454086  ,  86.32935603,  82.1809349 ],\n",
       "        [  6.91591023,   4.24317273,   3.90854673,   3.810552  ],\n",
       "        [ 16.80851689,   9.98290325,  10.19013404,   8.88550465],\n",
       "        [  3.04718527,   1.89997253,   1.74872138,   1.6162211 ],\n",
       "        [ 20.42856902,  13.72615669,  10.09770702,  11.25179847],\n",
       "        [100.73261558,  52.44697441,  60.41086757,  61.16588593],\n",
       "        [ 11.30351647,   6.11806067,   5.68455702,   7.53482518],\n",
       "        [ 22.28848456,  11.69920243,  13.00016666,  13.50153816],\n",
       "        [ 69.31191398,  39.36957628,  39.57004844,  40.99284443]]),\n",
       " 'M_Hard': 30.0,\n",
       " 'logLH': array([-14.19206905,  -9.04157257,  -9.64670467,  -6.55584335,\n",
       "         -6.28573132,  -5.87832546,  -2.59981298,   0.        ,\n",
       "          0.        ,   0.        ,   0.        ,   0.        ,\n",
       "          0.        ,   0.        ,  -3.93440366,   0.        ,\n",
       "          0.        ]),\n",
       " 'dij': [[-14.192069053649902,\n",
       "   1.8504128491111628e-08,\n",
       "   0.0011874009007703204,\n",
       "   6.378299721616079],\n",
       "  [-9.041572570800781,\n",
       "   2.9486494095368557e-07,\n",
       "   0.01769496919117772,\n",
       "   1.2341330573023988],\n",
       "  [-9.64670467376709,\n",
       "   4.964210037634115e-07,\n",
       "   0.013562604754743407,\n",
       "   86.80281393256462],\n",
       "  [-6.555843353271484,\n",
       "   5.016292182512862e-07,\n",
       "   0.011042652349229142,\n",
       "   3.206466718200549],\n",
       "  [-6.285731315612793,\n",
       "   2.32181143633142e-08,\n",
       "   0.0004934797708611964,\n",
       "   0.0032904846681767355],\n",
       "  [-5.878325462341309,\n",
       "   9.231916198488857e-08,\n",
       "   0.0015971992983428015,\n",
       "   0.32502556744899574],\n",
       "  [-2.5998129844665527,\n",
       "   8.124815254714739e-09,\n",
       "   0.00012850701436638195,\n",
       "   0.004276874370779292],\n",
       "  [-3.934403657913208,\n",
       "   6.983630209304641e-07,\n",
       "   0.0021759261682129847,\n",
       "   0.6655628761430048]],\n",
       " 'ConstPhi': [1.0241277953515937,\n",
       "  1.0204819439605692,\n",
       "  1.0348598970054783,\n",
       "  1.013263979922824,\n",
       "  0.9791726077557114,\n",
       "  1.0907613184336804,\n",
       "  1.0746935618055709,\n",
       "  1.0874285343074694,\n",
       "  1.0542341820398453],\n",
       " 'PhiDelta': [-2.1046068539022285,\n",
       "  -2.0995662368197614,\n",
       "  -2.1893267671455305,\n",
       "  -2.1106341124708794,\n",
       "  -2.116368679269381,\n",
       "  -2.1189201645311426,\n",
       "  -2.1172885791782616,\n",
       "  1.0389216592869455],\n",
       " 'PhiDeltaRel': [3.1530179886136604,\n",
       "  3.143937942571676,\n",
       "  3.2325694754449925,\n",
       "  3.1305989419907574,\n",
       "  3.1411780628908543,\n",
       "  3.1439331873730154,\n",
       "  3.1412556387408497,\n",
       "  0.02327857724956095],\n",
       " 'sumlogLH': -58.13446307182312}"
      ]
     },
     "execution_count": 24,
     "metadata": {},
     "output_type": "execute_result"
    }
   ],
   "source": [
    "gt_jets[0]"
   ]
  },
  {
   "cell_type": "markdown",
   "metadata": {},
   "source": [
    "## Tests"
   ]
  },
  {
   "cell_type": "code",
   "execution_count": 203,
   "metadata": {},
   "outputs": [],
   "source": [
    "def load_jets(root_dir, filename):\n",
    "    filename = os.path.join(root_dir, filename)\n",
    "    with open(filename + \".pkl\", \"rb\") as fd:\n",
    "        Truth  = pickle.load(fd, encoding='latin-1')\n",
    "    return Truth"
   ]
  },
  {
   "cell_type": "code",
   "execution_count": 204,
   "metadata": {},
   "outputs": [],
   "source": [
    "rootDir = \"../../TreeAlgorithms/data/invMassGinkgo/Truth/\""
   ]
  },
  {
   "cell_type": "code",
   "execution_count": 22,
   "metadata": {},
   "outputs": [],
   "source": [
    "# testset = load_jets(rootDir,\"tree_W_100_m2min_100.0_rate01_3.0_1.5\")\n",
    "testset =gt_jets"
   ]
  },
  {
   "cell_type": "code",
   "execution_count": 18,
   "metadata": {},
   "outputs": [],
   "source": [
    "iStart = [i for i in range(len(testset)) if 9<=len(testset[i][\"leaves\"])<10][0]"
   ]
  },
  {
   "cell_type": "code",
   "execution_count": 19,
   "metadata": {},
   "outputs": [
    {
     "data": {
      "text/plain": [
       "0"
      ]
     },
     "execution_count": 19,
     "metadata": {},
     "output_type": "execute_result"
    }
   ],
   "source": [
    "iStart"
   ]
  },
  {
   "cell_type": "code",
   "execution_count": 20,
   "metadata": {},
   "outputs": [
    {
     "data": {
      "text/plain": [
       "9"
      ]
     },
     "execution_count": 20,
     "metadata": {},
     "output_type": "execute_result"
    }
   ],
   "source": [
    "len(gt_jets[0]['leaves'])"
   ]
  },
  {
   "cell_type": "code",
   "execution_count": 208,
   "metadata": {},
   "outputs": [],
   "source": [
    "from utils import get_logger\n",
    "logger = get_logger(level=logging.DEBUG)"
   ]
  },
  {
   "cell_type": "code",
   "execution_count": 23,
   "metadata": {},
   "outputs": [],
   "source": [
    "input_jet = testset[iStart]"
   ]
  },
  {
   "cell_type": "code",
   "execution_count": 24,
   "metadata": {},
   "outputs": [],
   "source": [
    "a_trellis = jet_trellis.JetTrellis()"
   ]
  },
  {
   "cell_type": "code",
   "execution_count": 25,
   "metadata": {},
   "outputs": [],
   "source": [
    "\"\"\" Create trellis\"\"\"\n",
    "a_trellis.create_from_jet(input_jet)"
   ]
  },
  {
   "cell_type": "code",
   "execution_count": 28,
   "metadata": {},
   "outputs": [
    {
     "data": {
      "text/plain": [
       "511"
      ]
     },
     "execution_count": 28,
     "metadata": {},
     "output_type": "execute_result"
    }
   ],
   "source": [
    "len(a_trellis.elements_2_node)"
   ]
  },
  {
   "cell_type": "code",
   "execution_count": 29,
   "metadata": {},
   "outputs": [
    {
     "ename": "ValueError",
     "evalue": "too many values to unpack (expected 2)",
     "output_type": "error",
     "traceback": [
      "\u001b[0;31m---------------------------------------------------------------------------\u001b[0m",
      "\u001b[0;31mValueError\u001b[0m                                Traceback (most recent call last)",
      "\u001b[0;32m<ipython-input-29-7ffbaaf2ae68>\u001b[0m in \u001b[0;36m<module>\u001b[0;34m\u001b[0m\n\u001b[1;32m      1\u001b[0m \u001b[0;34m\"\"\"Compute MAP (MLE), partition function Z\"\"\"\u001b[0m\u001b[0;34m\u001b[0m\u001b[0;34m\u001b[0m\u001b[0m\n\u001b[0;32m----> 2\u001b[0;31m \u001b[0mmap_energy\u001b[0m\u001b[0;34m,\u001b[0m \u001b[0mZ\u001b[0m \u001b[0;34m=\u001b[0m \u001b[0mnp\u001b[0m\u001b[0;34m.\u001b[0m\u001b[0mfloat64\u001b[0m\u001b[0;34m(\u001b[0m\u001b[0ma_trellis\u001b[0m\u001b[0;34m.\u001b[0m\u001b[0mcompute_map_tree\u001b[0m\u001b[0;34m(\u001b[0m\u001b[0;34m)\u001b[0m\u001b[0;34m)\u001b[0m\u001b[0;34m\u001b[0m\u001b[0;34m\u001b[0m\u001b[0m\n\u001b[0m",
      "\u001b[0;31mValueError\u001b[0m: too many values to unpack (expected 2)"
     ]
    }
   ],
   "source": [
    "\"\"\"Compute MAP (MLE), partition function Z\"\"\"\n",
    "map_energy, Z = np.float64(a_trellis.compute_map_tree())"
   ]
  },
  {
   "cell_type": "code",
   "execution_count": null,
   "metadata": {},
   "outputs": [],
   "source": []
  },
  {
   "cell_type": "code",
   "execution_count": 34,
   "metadata": {},
   "outputs": [
    {
     "name": "stdout",
     "output_type": "stream",
     "text": [
      "Total time =  0.0001678466796875\n"
     ]
    }
   ],
   "source": [
    "NleavesMin = 3\n",
    "NleavesMax = 4\n",
    "MaxNjets = 1\n",
    "gt_jets = testset[iStart:iStart+1]\n",
    "\"\"\" Keep only trees with leaves between NleavesMin and NleavesMax\"\"\"\n",
    "smallJetIndex =[i for i,gt_jet in enumerate(gt_jets)  if NleavesMin<=len(gt_jet[\"leaves\"])<NleavesMax]\n",
    "\n",
    "\n",
    "results = {\"Z\":[], \"trellis_MLE\":[], \"RunTime\":[]}\n",
    "\n",
    "\n",
    "start = time.time()\n",
    "\n",
    "if len(smallJetIndex)>0:\n",
    "\n",
    "    GT_jets = np.asarray(gt_jets)[smallJetIndex]\n",
    "    \n",
    "    \"\"\" Total number of trees to run the trellis\"\"\"\n",
    "    totJets = np.min([MaxNjets,len(smallJetIndex)])\n",
    "\n",
    "    for m in range(totJets):\n",
    "\n",
    "        if m%5==0:\n",
    "            print(\"Creating trellis for jet #\",m)\n",
    "\n",
    "        \"\"\" Create and fill the trellis\"\"\"\n",
    "        trellis, Z, map_energy,Ntrees,  totTime = rpe.compare_map_gt_and_bs_trees(GT_jets[m])\n",
    "\n",
    "        results[\"Z\"].append(Z)\n",
    "        results[\"trellis_MLE\"].append(map_energy)\n",
    "        \n",
    "\n",
    "print(\"Total time = \", time.time() - start)"
   ]
  },
  {
   "cell_type": "code",
   "execution_count": 35,
   "metadata": {},
   "outputs": [
    {
     "data": {
      "text/plain": [
       "511"
      ]
     },
     "execution_count": 35,
     "metadata": {},
     "output_type": "execute_result"
    }
   ],
   "source": [
    "len(trellis.elements_2_node)"
   ]
  },
  {
   "cell_type": "code",
   "execution_count": 36,
   "metadata": {
    "collapsed": true
   },
   "outputs": [
    {
     "data": {
      "text/plain": [
       "{frozenset({'b'}): HierarchicalTrellisNode: frozenset({'b'}),\n",
       " frozenset({'e'}): HierarchicalTrellisNode: frozenset({'e'}),\n",
       " frozenset({'c'}): HierarchicalTrellisNode: frozenset({'c'}),\n",
       " frozenset({'h'}): HierarchicalTrellisNode: frozenset({'h'}),\n",
       " frozenset({'i'}): HierarchicalTrellisNode: frozenset({'i'}),\n",
       " frozenset({'d'}): HierarchicalTrellisNode: frozenset({'d'}),\n",
       " frozenset({'g'}): HierarchicalTrellisNode: frozenset({'g'}),\n",
       " frozenset({'f'}): HierarchicalTrellisNode: frozenset({'f'}),\n",
       " frozenset({'a'}): HierarchicalTrellisNode: frozenset({'a'}),\n",
       " frozenset({'b', 'e'}): HierarchicalTrellisNode: frozenset({'b', 'e'}),\n",
       " frozenset({'b', 'c'}): HierarchicalTrellisNode: frozenset({'b', 'c'}),\n",
       " frozenset({'b', 'h'}): HierarchicalTrellisNode: frozenset({'b', 'h'}),\n",
       " frozenset({'b', 'i'}): HierarchicalTrellisNode: frozenset({'b', 'i'}),\n",
       " frozenset({'b', 'd'}): HierarchicalTrellisNode: frozenset({'b', 'd'}),\n",
       " frozenset({'b', 'g'}): HierarchicalTrellisNode: frozenset({'b', 'g'}),\n",
       " frozenset({'b', 'f'}): HierarchicalTrellisNode: frozenset({'b', 'f'}),\n",
       " frozenset({'a', 'b'}): HierarchicalTrellisNode: frozenset({'b', 'a'}),\n",
       " frozenset({'c', 'e'}): HierarchicalTrellisNode: frozenset({'e', 'c'}),\n",
       " frozenset({'e', 'h'}): HierarchicalTrellisNode: frozenset({'e', 'h'}),\n",
       " frozenset({'e', 'i'}): HierarchicalTrellisNode: frozenset({'i', 'e'}),\n",
       " frozenset({'d', 'e'}): HierarchicalTrellisNode: frozenset({'d', 'e'}),\n",
       " frozenset({'e', 'g'}): HierarchicalTrellisNode: frozenset({'g', 'e'}),\n",
       " frozenset({'e', 'f'}): HierarchicalTrellisNode: frozenset({'e', 'f'}),\n",
       " frozenset({'a', 'e'}): HierarchicalTrellisNode: frozenset({'a', 'e'}),\n",
       " frozenset({'c', 'h'}): HierarchicalTrellisNode: frozenset({'c', 'h'}),\n",
       " frozenset({'c', 'i'}): HierarchicalTrellisNode: frozenset({'i', 'c'}),\n",
       " frozenset({'c', 'd'}): HierarchicalTrellisNode: frozenset({'d', 'c'}),\n",
       " frozenset({'c', 'g'}): HierarchicalTrellisNode: frozenset({'g', 'c'}),\n",
       " frozenset({'c', 'f'}): HierarchicalTrellisNode: frozenset({'f', 'c'}),\n",
       " frozenset({'a', 'c'}): HierarchicalTrellisNode: frozenset({'a', 'c'}),\n",
       " frozenset({'h', 'i'}): HierarchicalTrellisNode: frozenset({'i', 'h'}),\n",
       " frozenset({'d', 'h'}): HierarchicalTrellisNode: frozenset({'d', 'h'}),\n",
       " frozenset({'g', 'h'}): HierarchicalTrellisNode: frozenset({'g', 'h'}),\n",
       " frozenset({'f', 'h'}): HierarchicalTrellisNode: frozenset({'f', 'h'}),\n",
       " frozenset({'a', 'h'}): HierarchicalTrellisNode: frozenset({'a', 'h'}),\n",
       " frozenset({'d', 'i'}): HierarchicalTrellisNode: frozenset({'i', 'd'}),\n",
       " frozenset({'g', 'i'}): HierarchicalTrellisNode: frozenset({'i', 'g'}),\n",
       " frozenset({'f', 'i'}): HierarchicalTrellisNode: frozenset({'i', 'f'}),\n",
       " frozenset({'a', 'i'}): HierarchicalTrellisNode: frozenset({'i', 'a'}),\n",
       " frozenset({'d', 'g'}): HierarchicalTrellisNode: frozenset({'d', 'g'}),\n",
       " frozenset({'d', 'f'}): HierarchicalTrellisNode: frozenset({'d', 'f'}),\n",
       " frozenset({'a', 'd'}): HierarchicalTrellisNode: frozenset({'a', 'd'}),\n",
       " frozenset({'f', 'g'}): HierarchicalTrellisNode: frozenset({'g', 'f'}),\n",
       " frozenset({'a', 'g'}): HierarchicalTrellisNode: frozenset({'a', 'g'}),\n",
       " frozenset({'a', 'f'}): HierarchicalTrellisNode: frozenset({'a', 'f'}),\n",
       " frozenset({'b',\n",
       "            'c',\n",
       "            'e'}): HierarchicalTrellisNode: frozenset({'b', 'e', 'c'}),\n",
       " frozenset({'b',\n",
       "            'e',\n",
       "            'h'}): HierarchicalTrellisNode: frozenset({'b', 'e', 'h'}),\n",
       " frozenset({'b',\n",
       "            'e',\n",
       "            'i'}): HierarchicalTrellisNode: frozenset({'b', 'i', 'e'}),\n",
       " frozenset({'b',\n",
       "            'd',\n",
       "            'e'}): HierarchicalTrellisNode: frozenset({'b', 'd', 'e'}),\n",
       " frozenset({'b',\n",
       "            'e',\n",
       "            'g'}): HierarchicalTrellisNode: frozenset({'b', 'g', 'e'}),\n",
       " frozenset({'b',\n",
       "            'e',\n",
       "            'f'}): HierarchicalTrellisNode: frozenset({'b', 'e', 'f'}),\n",
       " frozenset({'a',\n",
       "            'b',\n",
       "            'e'}): HierarchicalTrellisNode: frozenset({'b', 'a', 'e'}),\n",
       " frozenset({'b',\n",
       "            'c',\n",
       "            'h'}): HierarchicalTrellisNode: frozenset({'b', 'c', 'h'}),\n",
       " frozenset({'b',\n",
       "            'c',\n",
       "            'i'}): HierarchicalTrellisNode: frozenset({'b', 'i', 'c'}),\n",
       " frozenset({'b',\n",
       "            'c',\n",
       "            'd'}): HierarchicalTrellisNode: frozenset({'b', 'd', 'c'}),\n",
       " frozenset({'b',\n",
       "            'c',\n",
       "            'g'}): HierarchicalTrellisNode: frozenset({'b', 'g', 'c'}),\n",
       " frozenset({'b',\n",
       "            'c',\n",
       "            'f'}): HierarchicalTrellisNode: frozenset({'b', 'c', 'f'}),\n",
       " frozenset({'a',\n",
       "            'b',\n",
       "            'c'}): HierarchicalTrellisNode: frozenset({'b', 'a', 'c'}),\n",
       " frozenset({'b',\n",
       "            'h',\n",
       "            'i'}): HierarchicalTrellisNode: frozenset({'b', 'i', 'h'}),\n",
       " frozenset({'b',\n",
       "            'd',\n",
       "            'h'}): HierarchicalTrellisNode: frozenset({'b', 'd', 'h'}),\n",
       " frozenset({'b',\n",
       "            'g',\n",
       "            'h'}): HierarchicalTrellisNode: frozenset({'b', 'g', 'h'}),\n",
       " frozenset({'b',\n",
       "            'f',\n",
       "            'h'}): HierarchicalTrellisNode: frozenset({'b', 'f', 'h'}),\n",
       " frozenset({'a',\n",
       "            'b',\n",
       "            'h'}): HierarchicalTrellisNode: frozenset({'b', 'a', 'h'}),\n",
       " frozenset({'b',\n",
       "            'd',\n",
       "            'i'}): HierarchicalTrellisNode: frozenset({'b', 'i', 'd'}),\n",
       " frozenset({'b',\n",
       "            'g',\n",
       "            'i'}): HierarchicalTrellisNode: frozenset({'b', 'i', 'g'}),\n",
       " frozenset({'b',\n",
       "            'f',\n",
       "            'i'}): HierarchicalTrellisNode: frozenset({'b', 'i', 'f'}),\n",
       " frozenset({'a',\n",
       "            'b',\n",
       "            'i'}): HierarchicalTrellisNode: frozenset({'b', 'i', 'a'}),\n",
       " frozenset({'b',\n",
       "            'd',\n",
       "            'g'}): HierarchicalTrellisNode: frozenset({'b', 'd', 'g'}),\n",
       " frozenset({'b',\n",
       "            'd',\n",
       "            'f'}): HierarchicalTrellisNode: frozenset({'b', 'd', 'f'}),\n",
       " frozenset({'a',\n",
       "            'b',\n",
       "            'd'}): HierarchicalTrellisNode: frozenset({'b', 'a', 'd'}),\n",
       " frozenset({'b',\n",
       "            'f',\n",
       "            'g'}): HierarchicalTrellisNode: frozenset({'b', 'g', 'f'}),\n",
       " frozenset({'a',\n",
       "            'b',\n",
       "            'g'}): HierarchicalTrellisNode: frozenset({'b', 'a', 'g'}),\n",
       " frozenset({'a',\n",
       "            'b',\n",
       "            'f'}): HierarchicalTrellisNode: frozenset({'b', 'a', 'f'}),\n",
       " frozenset({'c',\n",
       "            'e',\n",
       "            'h'}): HierarchicalTrellisNode: frozenset({'e', 'c', 'h'}),\n",
       " frozenset({'c',\n",
       "            'e',\n",
       "            'i'}): HierarchicalTrellisNode: frozenset({'i', 'e', 'c'}),\n",
       " frozenset({'c',\n",
       "            'd',\n",
       "            'e'}): HierarchicalTrellisNode: frozenset({'d', 'e', 'c'}),\n",
       " frozenset({'c',\n",
       "            'e',\n",
       "            'g'}): HierarchicalTrellisNode: frozenset({'g', 'e', 'c'}),\n",
       " frozenset({'c',\n",
       "            'e',\n",
       "            'f'}): HierarchicalTrellisNode: frozenset({'f', 'e', 'c'}),\n",
       " frozenset({'a',\n",
       "            'c',\n",
       "            'e'}): HierarchicalTrellisNode: frozenset({'a', 'e', 'c'}),\n",
       " frozenset({'e',\n",
       "            'h',\n",
       "            'i'}): HierarchicalTrellisNode: frozenset({'i', 'e', 'h'}),\n",
       " frozenset({'d',\n",
       "            'e',\n",
       "            'h'}): HierarchicalTrellisNode: frozenset({'d', 'e', 'h'}),\n",
       " frozenset({'e',\n",
       "            'g',\n",
       "            'h'}): HierarchicalTrellisNode: frozenset({'g', 'e', 'h'}),\n",
       " frozenset({'e',\n",
       "            'f',\n",
       "            'h'}): HierarchicalTrellisNode: frozenset({'e', 'f', 'h'}),\n",
       " frozenset({'a',\n",
       "            'e',\n",
       "            'h'}): HierarchicalTrellisNode: frozenset({'a', 'e', 'h'}),\n",
       " frozenset({'d',\n",
       "            'e',\n",
       "            'i'}): HierarchicalTrellisNode: frozenset({'i', 'd', 'e'}),\n",
       " frozenset({'e',\n",
       "            'g',\n",
       "            'i'}): HierarchicalTrellisNode: frozenset({'i', 'g', 'e'}),\n",
       " frozenset({'e',\n",
       "            'f',\n",
       "            'i'}): HierarchicalTrellisNode: frozenset({'i', 'e', 'f'}),\n",
       " frozenset({'a',\n",
       "            'e',\n",
       "            'i'}): HierarchicalTrellisNode: frozenset({'i', 'a', 'e'}),\n",
       " frozenset({'d',\n",
       "            'e',\n",
       "            'g'}): HierarchicalTrellisNode: frozenset({'d', 'e', 'g'}),\n",
       " frozenset({'d',\n",
       "            'e',\n",
       "            'f'}): HierarchicalTrellisNode: frozenset({'d', 'e', 'f'}),\n",
       " frozenset({'a',\n",
       "            'd',\n",
       "            'e'}): HierarchicalTrellisNode: frozenset({'a', 'd', 'e'}),\n",
       " frozenset({'e',\n",
       "            'f',\n",
       "            'g'}): HierarchicalTrellisNode: frozenset({'g', 'e', 'f'}),\n",
       " frozenset({'a',\n",
       "            'e',\n",
       "            'g'}): HierarchicalTrellisNode: frozenset({'a', 'g', 'e'}),\n",
       " frozenset({'a',\n",
       "            'e',\n",
       "            'f'}): HierarchicalTrellisNode: frozenset({'a', 'e', 'f'}),\n",
       " frozenset({'c',\n",
       "            'h',\n",
       "            'i'}): HierarchicalTrellisNode: frozenset({'i', 'c', 'h'}),\n",
       " frozenset({'c',\n",
       "            'd',\n",
       "            'h'}): HierarchicalTrellisNode: frozenset({'d', 'c', 'h'}),\n",
       " frozenset({'c',\n",
       "            'g',\n",
       "            'h'}): HierarchicalTrellisNode: frozenset({'g', 'c', 'h'}),\n",
       " frozenset({'c',\n",
       "            'f',\n",
       "            'h'}): HierarchicalTrellisNode: frozenset({'f', 'c', 'h'}),\n",
       " frozenset({'a',\n",
       "            'c',\n",
       "            'h'}): HierarchicalTrellisNode: frozenset({'a', 'c', 'h'}),\n",
       " frozenset({'c',\n",
       "            'd',\n",
       "            'i'}): HierarchicalTrellisNode: frozenset({'i', 'd', 'c'}),\n",
       " frozenset({'c',\n",
       "            'g',\n",
       "            'i'}): HierarchicalTrellisNode: frozenset({'i', 'g', 'c'}),\n",
       " frozenset({'c',\n",
       "            'f',\n",
       "            'i'}): HierarchicalTrellisNode: frozenset({'f', 'i', 'c'}),\n",
       " frozenset({'a',\n",
       "            'c',\n",
       "            'i'}): HierarchicalTrellisNode: frozenset({'i', 'a', 'c'}),\n",
       " frozenset({'c',\n",
       "            'd',\n",
       "            'g'}): HierarchicalTrellisNode: frozenset({'d', 'c', 'g'}),\n",
       " frozenset({'c',\n",
       "            'd',\n",
       "            'f'}): HierarchicalTrellisNode: frozenset({'f', 'd', 'c'}),\n",
       " frozenset({'a',\n",
       "            'c',\n",
       "            'd'}): HierarchicalTrellisNode: frozenset({'a', 'd', 'c'}),\n",
       " frozenset({'c',\n",
       "            'f',\n",
       "            'g'}): HierarchicalTrellisNode: frozenset({'f', 'g', 'c'}),\n",
       " frozenset({'a',\n",
       "            'c',\n",
       "            'g'}): HierarchicalTrellisNode: frozenset({'a', 'g', 'c'}),\n",
       " frozenset({'a',\n",
       "            'c',\n",
       "            'f'}): HierarchicalTrellisNode: frozenset({'f', 'a', 'c'}),\n",
       " frozenset({'d',\n",
       "            'h',\n",
       "            'i'}): HierarchicalTrellisNode: frozenset({'i', 'd', 'h'}),\n",
       " frozenset({'g',\n",
       "            'h',\n",
       "            'i'}): HierarchicalTrellisNode: frozenset({'i', 'g', 'h'}),\n",
       " frozenset({'f',\n",
       "            'h',\n",
       "            'i'}): HierarchicalTrellisNode: frozenset({'i', 'f', 'h'}),\n",
       " frozenset({'a',\n",
       "            'h',\n",
       "            'i'}): HierarchicalTrellisNode: frozenset({'i', 'a', 'h'}),\n",
       " frozenset({'d',\n",
       "            'g',\n",
       "            'h'}): HierarchicalTrellisNode: frozenset({'d', 'g', 'h'}),\n",
       " frozenset({'d',\n",
       "            'f',\n",
       "            'h'}): HierarchicalTrellisNode: frozenset({'d', 'f', 'h'}),\n",
       " frozenset({'a',\n",
       "            'd',\n",
       "            'h'}): HierarchicalTrellisNode: frozenset({'a', 'd', 'h'}),\n",
       " frozenset({'f',\n",
       "            'g',\n",
       "            'h'}): HierarchicalTrellisNode: frozenset({'g', 'f', 'h'}),\n",
       " frozenset({'a',\n",
       "            'g',\n",
       "            'h'}): HierarchicalTrellisNode: frozenset({'a', 'g', 'h'}),\n",
       " frozenset({'a',\n",
       "            'f',\n",
       "            'h'}): HierarchicalTrellisNode: frozenset({'a', 'f', 'h'}),\n",
       " frozenset({'d',\n",
       "            'g',\n",
       "            'i'}): HierarchicalTrellisNode: frozenset({'i', 'd', 'g'}),\n",
       " frozenset({'d',\n",
       "            'f',\n",
       "            'i'}): HierarchicalTrellisNode: frozenset({'i', 'd', 'f'}),\n",
       " frozenset({'a',\n",
       "            'd',\n",
       "            'i'}): HierarchicalTrellisNode: frozenset({'i', 'd', 'a'}),\n",
       " frozenset({'f',\n",
       "            'g',\n",
       "            'i'}): HierarchicalTrellisNode: frozenset({'i', 'g', 'f'}),\n",
       " frozenset({'a',\n",
       "            'g',\n",
       "            'i'}): HierarchicalTrellisNode: frozenset({'i', 'g', 'a'}),\n",
       " frozenset({'a',\n",
       "            'f',\n",
       "            'i'}): HierarchicalTrellisNode: frozenset({'i', 'a', 'f'}),\n",
       " frozenset({'d',\n",
       "            'f',\n",
       "            'g'}): HierarchicalTrellisNode: frozenset({'d', 'f', 'g'}),\n",
       " frozenset({'a',\n",
       "            'd',\n",
       "            'g'}): HierarchicalTrellisNode: frozenset({'a', 'd', 'g'}),\n",
       " frozenset({'a',\n",
       "            'd',\n",
       "            'f'}): HierarchicalTrellisNode: frozenset({'a', 'd', 'f'}),\n",
       " frozenset({'a',\n",
       "            'f',\n",
       "            'g'}): HierarchicalTrellisNode: frozenset({'a', 'g', 'f'}),\n",
       " frozenset({'b',\n",
       "            'c',\n",
       "            'e',\n",
       "            'h'}): HierarchicalTrellisNode: frozenset({'b', 'e', 'c', 'h'}),\n",
       " frozenset({'b',\n",
       "            'c',\n",
       "            'e',\n",
       "            'i'}): HierarchicalTrellisNode: frozenset({'b', 'i', 'e', 'c'}),\n",
       " frozenset({'b',\n",
       "            'c',\n",
       "            'd',\n",
       "            'e'}): HierarchicalTrellisNode: frozenset({'b', 'd', 'e', 'c'}),\n",
       " frozenset({'b',\n",
       "            'c',\n",
       "            'e',\n",
       "            'g'}): HierarchicalTrellisNode: frozenset({'b', 'g', 'e', 'c'}),\n",
       " frozenset({'b',\n",
       "            'c',\n",
       "            'e',\n",
       "            'f'}): HierarchicalTrellisNode: frozenset({'b', 'e', 'c', 'f'}),\n",
       " frozenset({'a',\n",
       "            'b',\n",
       "            'c',\n",
       "            'e'}): HierarchicalTrellisNode: frozenset({'b', 'a', 'e', 'c'}),\n",
       " frozenset({'b',\n",
       "            'e',\n",
       "            'h',\n",
       "            'i'}): HierarchicalTrellisNode: frozenset({'b', 'i', 'e', 'h'}),\n",
       " frozenset({'b',\n",
       "            'd',\n",
       "            'e',\n",
       "            'h'}): HierarchicalTrellisNode: frozenset({'b', 'd', 'e', 'h'}),\n",
       " frozenset({'b',\n",
       "            'e',\n",
       "            'g',\n",
       "            'h'}): HierarchicalTrellisNode: frozenset({'b', 'g', 'e', 'h'}),\n",
       " frozenset({'b',\n",
       "            'e',\n",
       "            'f',\n",
       "            'h'}): HierarchicalTrellisNode: frozenset({'b', 'e', 'f', 'h'}),\n",
       " frozenset({'a',\n",
       "            'b',\n",
       "            'e',\n",
       "            'h'}): HierarchicalTrellisNode: frozenset({'b', 'a', 'e', 'h'}),\n",
       " frozenset({'b',\n",
       "            'd',\n",
       "            'e',\n",
       "            'i'}): HierarchicalTrellisNode: frozenset({'b', 'i', 'd', 'e'}),\n",
       " frozenset({'b',\n",
       "            'e',\n",
       "            'g',\n",
       "            'i'}): HierarchicalTrellisNode: frozenset({'b', 'i', 'g', 'e'}),\n",
       " frozenset({'b',\n",
       "            'e',\n",
       "            'f',\n",
       "            'i'}): HierarchicalTrellisNode: frozenset({'b', 'i', 'e', 'f'}),\n",
       " frozenset({'a',\n",
       "            'b',\n",
       "            'e',\n",
       "            'i'}): HierarchicalTrellisNode: frozenset({'b', 'i', 'a', 'e'}),\n",
       " frozenset({'b',\n",
       "            'd',\n",
       "            'e',\n",
       "            'g'}): HierarchicalTrellisNode: frozenset({'b', 'd', 'e', 'g'}),\n",
       " frozenset({'b',\n",
       "            'd',\n",
       "            'e',\n",
       "            'f'}): HierarchicalTrellisNode: frozenset({'b', 'd', 'e', 'f'}),\n",
       " frozenset({'a',\n",
       "            'b',\n",
       "            'd',\n",
       "            'e'}): HierarchicalTrellisNode: frozenset({'b', 'a', 'd', 'e'}),\n",
       " frozenset({'b',\n",
       "            'e',\n",
       "            'f',\n",
       "            'g'}): HierarchicalTrellisNode: frozenset({'b', 'g', 'e', 'f'}),\n",
       " frozenset({'a',\n",
       "            'b',\n",
       "            'e',\n",
       "            'g'}): HierarchicalTrellisNode: frozenset({'b', 'a', 'g', 'e'}),\n",
       " frozenset({'a',\n",
       "            'b',\n",
       "            'e',\n",
       "            'f'}): HierarchicalTrellisNode: frozenset({'b', 'a', 'e', 'f'}),\n",
       " frozenset({'b',\n",
       "            'c',\n",
       "            'h',\n",
       "            'i'}): HierarchicalTrellisNode: frozenset({'b', 'i', 'c', 'h'}),\n",
       " frozenset({'b',\n",
       "            'c',\n",
       "            'd',\n",
       "            'h'}): HierarchicalTrellisNode: frozenset({'b', 'd', 'c', 'h'}),\n",
       " frozenset({'b',\n",
       "            'c',\n",
       "            'g',\n",
       "            'h'}): HierarchicalTrellisNode: frozenset({'b', 'g', 'c', 'h'}),\n",
       " frozenset({'b',\n",
       "            'c',\n",
       "            'f',\n",
       "            'h'}): HierarchicalTrellisNode: frozenset({'b', 'f', 'c', 'h'}),\n",
       " frozenset({'a',\n",
       "            'b',\n",
       "            'c',\n",
       "            'h'}): HierarchicalTrellisNode: frozenset({'b', 'a', 'c', 'h'}),\n",
       " frozenset({'b',\n",
       "            'c',\n",
       "            'd',\n",
       "            'i'}): HierarchicalTrellisNode: frozenset({'b', 'i', 'd', 'c'}),\n",
       " frozenset({'b',\n",
       "            'c',\n",
       "            'g',\n",
       "            'i'}): HierarchicalTrellisNode: frozenset({'b', 'i', 'g', 'c'}),\n",
       " frozenset({'b',\n",
       "            'c',\n",
       "            'f',\n",
       "            'i'}): HierarchicalTrellisNode: frozenset({'b', 'i', 'c', 'f'}),\n",
       " frozenset({'a',\n",
       "            'b',\n",
       "            'c',\n",
       "            'i'}): HierarchicalTrellisNode: frozenset({'b', 'i', 'a', 'c'}),\n",
       " frozenset({'b',\n",
       "            'c',\n",
       "            'd',\n",
       "            'g'}): HierarchicalTrellisNode: frozenset({'b', 'd', 'c', 'g'}),\n",
       " frozenset({'b',\n",
       "            'c',\n",
       "            'd',\n",
       "            'f'}): HierarchicalTrellisNode: frozenset({'b', 'd', 'c', 'f'}),\n",
       " frozenset({'a',\n",
       "            'b',\n",
       "            'c',\n",
       "            'd'}): HierarchicalTrellisNode: frozenset({'b', 'a', 'd', 'c'}),\n",
       " frozenset({'b',\n",
       "            'c',\n",
       "            'f',\n",
       "            'g'}): HierarchicalTrellisNode: frozenset({'b', 'g', 'c', 'f'}),\n",
       " frozenset({'a',\n",
       "            'b',\n",
       "            'c',\n",
       "            'g'}): HierarchicalTrellisNode: frozenset({'b', 'a', 'g', 'c'}),\n",
       " frozenset({'a',\n",
       "            'b',\n",
       "            'c',\n",
       "            'f'}): HierarchicalTrellisNode: frozenset({'b', 'a', 'c', 'f'}),\n",
       " frozenset({'b',\n",
       "            'd',\n",
       "            'h',\n",
       "            'i'}): HierarchicalTrellisNode: frozenset({'b', 'i', 'd', 'h'}),\n",
       " frozenset({'b',\n",
       "            'g',\n",
       "            'h',\n",
       "            'i'}): HierarchicalTrellisNode: frozenset({'b', 'i', 'g', 'h'}),\n",
       " frozenset({'b',\n",
       "            'f',\n",
       "            'h',\n",
       "            'i'}): HierarchicalTrellisNode: frozenset({'b', 'i', 'f', 'h'}),\n",
       " frozenset({'a',\n",
       "            'b',\n",
       "            'h',\n",
       "            'i'}): HierarchicalTrellisNode: frozenset({'b', 'i', 'a', 'h'}),\n",
       " frozenset({'b',\n",
       "            'd',\n",
       "            'g',\n",
       "            'h'}): HierarchicalTrellisNode: frozenset({'b', 'd', 'g', 'h'}),\n",
       " frozenset({'b',\n",
       "            'd',\n",
       "            'f',\n",
       "            'h'}): HierarchicalTrellisNode: frozenset({'b', 'd', 'f', 'h'}),\n",
       " frozenset({'a',\n",
       "            'b',\n",
       "            'd',\n",
       "            'h'}): HierarchicalTrellisNode: frozenset({'b', 'a', 'd', 'h'}),\n",
       " frozenset({'b',\n",
       "            'f',\n",
       "            'g',\n",
       "            'h'}): HierarchicalTrellisNode: frozenset({'b', 'g', 'f', 'h'}),\n",
       " frozenset({'a',\n",
       "            'b',\n",
       "            'g',\n",
       "            'h'}): HierarchicalTrellisNode: frozenset({'b', 'a', 'g', 'h'}),\n",
       " frozenset({'a',\n",
       "            'b',\n",
       "            'f',\n",
       "            'h'}): HierarchicalTrellisNode: frozenset({'b', 'a', 'f', 'h'}),\n",
       " frozenset({'b',\n",
       "            'd',\n",
       "            'g',\n",
       "            'i'}): HierarchicalTrellisNode: frozenset({'b', 'i', 'd', 'g'}),\n",
       " frozenset({'b',\n",
       "            'd',\n",
       "            'f',\n",
       "            'i'}): HierarchicalTrellisNode: frozenset({'b', 'i', 'd', 'f'}),\n",
       " frozenset({'a',\n",
       "            'b',\n",
       "            'd',\n",
       "            'i'}): HierarchicalTrellisNode: frozenset({'b', 'i', 'd', 'a'}),\n",
       " frozenset({'b',\n",
       "            'f',\n",
       "            'g',\n",
       "            'i'}): HierarchicalTrellisNode: frozenset({'b', 'i', 'g', 'f'}),\n",
       " frozenset({'a',\n",
       "            'b',\n",
       "            'g',\n",
       "            'i'}): HierarchicalTrellisNode: frozenset({'b', 'i', 'g', 'a'}),\n",
       " frozenset({'a',\n",
       "            'b',\n",
       "            'f',\n",
       "            'i'}): HierarchicalTrellisNode: frozenset({'b', 'i', 'a', 'f'}),\n",
       " frozenset({'b',\n",
       "            'd',\n",
       "            'f',\n",
       "            'g'}): HierarchicalTrellisNode: frozenset({'b', 'd', 'f', 'g'}),\n",
       " frozenset({'a',\n",
       "            'b',\n",
       "            'd',\n",
       "            'g'}): HierarchicalTrellisNode: frozenset({'b', 'a', 'd', 'g'}),\n",
       " frozenset({'a',\n",
       "            'b',\n",
       "            'd',\n",
       "            'f'}): HierarchicalTrellisNode: frozenset({'b', 'a', 'd', 'f'}),\n",
       " frozenset({'a',\n",
       "            'b',\n",
       "            'f',\n",
       "            'g'}): HierarchicalTrellisNode: frozenset({'b', 'a', 'g', 'f'}),\n",
       " frozenset({'c',\n",
       "            'e',\n",
       "            'h',\n",
       "            'i'}): HierarchicalTrellisNode: frozenset({'i', 'e', 'c', 'h'}),\n",
       " frozenset({'c',\n",
       "            'd',\n",
       "            'e',\n",
       "            'h'}): HierarchicalTrellisNode: frozenset({'d', 'e', 'c', 'h'}),\n",
       " frozenset({'c',\n",
       "            'e',\n",
       "            'g',\n",
       "            'h'}): HierarchicalTrellisNode: frozenset({'g', 'e', 'c', 'h'}),\n",
       " frozenset({'c',\n",
       "            'e',\n",
       "            'f',\n",
       "            'h'}): HierarchicalTrellisNode: frozenset({'f', 'e', 'c', 'h'}),\n",
       " frozenset({'a',\n",
       "            'c',\n",
       "            'e',\n",
       "            'h'}): HierarchicalTrellisNode: frozenset({'a', 'e', 'c', 'h'}),\n",
       " frozenset({'c',\n",
       "            'd',\n",
       "            'e',\n",
       "            'i'}): HierarchicalTrellisNode: frozenset({'i', 'd', 'e', 'c'}),\n",
       " frozenset({'c',\n",
       "            'e',\n",
       "            'g',\n",
       "            'i'}): HierarchicalTrellisNode: frozenset({'i', 'g', 'e', 'c'}),\n",
       " frozenset({'c',\n",
       "            'e',\n",
       "            'f',\n",
       "            'i'}): HierarchicalTrellisNode: frozenset({'f', 'i', 'e', 'c'}),\n",
       " frozenset({'a',\n",
       "            'c',\n",
       "            'e',\n",
       "            'i'}): HierarchicalTrellisNode: frozenset({'i', 'a', 'e', 'c'}),\n",
       " frozenset({'c',\n",
       "            'd',\n",
       "            'e',\n",
       "            'g'}): HierarchicalTrellisNode: frozenset({'d', 'e', 'c', 'g'}),\n",
       " frozenset({'c',\n",
       "            'd',\n",
       "            'e',\n",
       "            'f'}): HierarchicalTrellisNode: frozenset({'f', 'd', 'e', 'c'}),\n",
       " frozenset({'a',\n",
       "            'c',\n",
       "            'd',\n",
       "            'e'}): HierarchicalTrellisNode: frozenset({'a', 'd', 'e', 'c'}),\n",
       " frozenset({'c',\n",
       "            'e',\n",
       "            'f',\n",
       "            'g'}): HierarchicalTrellisNode: frozenset({'f', 'g', 'e', 'c'}),\n",
       " frozenset({'a',\n",
       "            'c',\n",
       "            'e',\n",
       "            'g'}): HierarchicalTrellisNode: frozenset({'a', 'g', 'e', 'c'}),\n",
       " frozenset({'a',\n",
       "            'c',\n",
       "            'e',\n",
       "            'f'}): HierarchicalTrellisNode: frozenset({'f', 'a', 'e', 'c'}),\n",
       " frozenset({'d',\n",
       "            'e',\n",
       "            'h',\n",
       "            'i'}): HierarchicalTrellisNode: frozenset({'i', 'd', 'e', 'h'}),\n",
       " frozenset({'e',\n",
       "            'g',\n",
       "            'h',\n",
       "            'i'}): HierarchicalTrellisNode: frozenset({'i', 'g', 'e', 'h'}),\n",
       " frozenset({'e',\n",
       "            'f',\n",
       "            'h',\n",
       "            'i'}): HierarchicalTrellisNode: frozenset({'i', 'e', 'f', 'h'}),\n",
       " frozenset({'a',\n",
       "            'e',\n",
       "            'h',\n",
       "            'i'}): HierarchicalTrellisNode: frozenset({'i', 'a', 'e', 'h'}),\n",
       " frozenset({'d',\n",
       "            'e',\n",
       "            'g',\n",
       "            'h'}): HierarchicalTrellisNode: frozenset({'g', 'd', 'e', 'h'}),\n",
       " frozenset({'d',\n",
       "            'e',\n",
       "            'f',\n",
       "            'h'}): HierarchicalTrellisNode: frozenset({'d', 'e', 'f', 'h'}),\n",
       " frozenset({'a',\n",
       "            'd',\n",
       "            'e',\n",
       "            'h'}): HierarchicalTrellisNode: frozenset({'a', 'd', 'e', 'h'}),\n",
       " frozenset({'e',\n",
       "            'f',\n",
       "            'g',\n",
       "            'h'}): HierarchicalTrellisNode: frozenset({'g', 'e', 'f', 'h'}),\n",
       " frozenset({'a',\n",
       "            'e',\n",
       "            'g',\n",
       "            'h'}): HierarchicalTrellisNode: frozenset({'a', 'g', 'e', 'h'}),\n",
       " frozenset({'a',\n",
       "            'e',\n",
       "            'f',\n",
       "            'h'}): HierarchicalTrellisNode: frozenset({'a', 'e', 'f', 'h'}),\n",
       " frozenset({'d',\n",
       "            'e',\n",
       "            'g',\n",
       "            'i'}): HierarchicalTrellisNode: frozenset({'i', 'd', 'e', 'g'}),\n",
       " frozenset({'d',\n",
       "            'e',\n",
       "            'f',\n",
       "            'i'}): HierarchicalTrellisNode: frozenset({'i', 'd', 'e', 'f'}),\n",
       " frozenset({'a',\n",
       "            'd',\n",
       "            'e',\n",
       "            'i'}): HierarchicalTrellisNode: frozenset({'i', 'd', 'e', 'a'}),\n",
       " frozenset({'e',\n",
       "            'f',\n",
       "            'g',\n",
       "            'i'}): HierarchicalTrellisNode: frozenset({'i', 'g', 'e', 'f'}),\n",
       " frozenset({'a',\n",
       "            'e',\n",
       "            'g',\n",
       "            'i'}): HierarchicalTrellisNode: frozenset({'i', 'g', 'e', 'a'}),\n",
       " frozenset({'a',\n",
       "            'e',\n",
       "            'f',\n",
       "            'i'}): HierarchicalTrellisNode: frozenset({'i', 'a', 'e', 'f'}),\n",
       " frozenset({'d',\n",
       "            'e',\n",
       "            'f',\n",
       "            'g'}): HierarchicalTrellisNode: frozenset({'d', 'e', 'f', 'g'}),\n",
       " frozenset({'a',\n",
       "            'd',\n",
       "            'e',\n",
       "            'g'}): HierarchicalTrellisNode: frozenset({'a', 'd', 'e', 'g'}),\n",
       " frozenset({'a',\n",
       "            'd',\n",
       "            'e',\n",
       "            'f'}): HierarchicalTrellisNode: frozenset({'a', 'd', 'e', 'f'}),\n",
       " frozenset({'a',\n",
       "            'e',\n",
       "            'f',\n",
       "            'g'}): HierarchicalTrellisNode: frozenset({'a', 'g', 'e', 'f'}),\n",
       " frozenset({'c',\n",
       "            'd',\n",
       "            'h',\n",
       "            'i'}): HierarchicalTrellisNode: frozenset({'i', 'd', 'c', 'h'}),\n",
       " frozenset({'c',\n",
       "            'g',\n",
       "            'h',\n",
       "            'i'}): HierarchicalTrellisNode: frozenset({'i', 'g', 'c', 'h'}),\n",
       " frozenset({'c',\n",
       "            'f',\n",
       "            'h',\n",
       "            'i'}): HierarchicalTrellisNode: frozenset({'f', 'i', 'c', 'h'}),\n",
       " frozenset({'a',\n",
       "            'c',\n",
       "            'h',\n",
       "            'i'}): HierarchicalTrellisNode: frozenset({'i', 'a', 'c', 'h'}),\n",
       " frozenset({'c',\n",
       "            'd',\n",
       "            'g',\n",
       "            'h'}): HierarchicalTrellisNode: frozenset({'d', 'g', 'c', 'h'}),\n",
       " frozenset({'c',\n",
       "            'd',\n",
       "            'f',\n",
       "            'h'}): HierarchicalTrellisNode: frozenset({'f', 'd', 'c', 'h'}),\n",
       " frozenset({'a',\n",
       "            'c',\n",
       "            'd',\n",
       "            'h'}): HierarchicalTrellisNode: frozenset({'a', 'd', 'c', 'h'}),\n",
       " frozenset({'c',\n",
       "            'f',\n",
       "            'g',\n",
       "            'h'}): HierarchicalTrellisNode: frozenset({'f', 'g', 'c', 'h'}),\n",
       " frozenset({'a',\n",
       "            'c',\n",
       "            'g',\n",
       "            'h'}): HierarchicalTrellisNode: frozenset({'a', 'g', 'c', 'h'}),\n",
       " frozenset({'a',\n",
       "            'c',\n",
       "            'f',\n",
       "            'h'}): HierarchicalTrellisNode: frozenset({'f', 'a', 'c', 'h'}),\n",
       " frozenset({'c',\n",
       "            'd',\n",
       "            'g',\n",
       "            'i'}): HierarchicalTrellisNode: frozenset({'i', 'd', 'c', 'g'}),\n",
       " frozenset({'c',\n",
       "            'd',\n",
       "            'f',\n",
       "            'i'}): HierarchicalTrellisNode: frozenset({'f', 'i', 'd', 'c'}),\n",
       " frozenset({'a',\n",
       "            'c',\n",
       "            'd',\n",
       "            'i'}): HierarchicalTrellisNode: frozenset({'i', 'd', 'c', 'a'}),\n",
       " frozenset({'c',\n",
       "            'f',\n",
       "            'g',\n",
       "            'i'}): HierarchicalTrellisNode: frozenset({'f', 'i', 'g', 'c'}),\n",
       " frozenset({'a',\n",
       "            'c',\n",
       "            'g',\n",
       "            'i'}): HierarchicalTrellisNode: frozenset({'i', 'g', 'c', 'a'}),\n",
       " frozenset({'a',\n",
       "            'c',\n",
       "            'f',\n",
       "            'i'}): HierarchicalTrellisNode: frozenset({'f', 'i', 'a', 'c'}),\n",
       " frozenset({'c',\n",
       "            'd',\n",
       "            'f',\n",
       "            'g'}): HierarchicalTrellisNode: frozenset({'f', 'd', 'c', 'g'}),\n",
       " frozenset({'a',\n",
       "            'c',\n",
       "            'd',\n",
       "            'g'}): HierarchicalTrellisNode: frozenset({'a', 'd', 'c', 'g'}),\n",
       " frozenset({'a',\n",
       "            'c',\n",
       "            'd',\n",
       "            'f'}): HierarchicalTrellisNode: frozenset({'f', 'a', 'd', 'c'}),\n",
       " frozenset({'a',\n",
       "            'c',\n",
       "            'f',\n",
       "            'g'}): HierarchicalTrellisNode: frozenset({'f', 'a', 'g', 'c'}),\n",
       " frozenset({'d',\n",
       "            'g',\n",
       "            'h',\n",
       "            'i'}): HierarchicalTrellisNode: frozenset({'i', 'd', 'g', 'h'}),\n",
       " frozenset({'d',\n",
       "            'f',\n",
       "            'h',\n",
       "            'i'}): HierarchicalTrellisNode: frozenset({'i', 'd', 'f', 'h'}),\n",
       " frozenset({'a',\n",
       "            'd',\n",
       "            'h',\n",
       "            'i'}): HierarchicalTrellisNode: frozenset({'i', 'd', 'a', 'h'}),\n",
       " frozenset({'f',\n",
       "            'g',\n",
       "            'h',\n",
       "            'i'}): HierarchicalTrellisNode: frozenset({'i', 'g', 'f', 'h'}),\n",
       " frozenset({'a',\n",
       "            'g',\n",
       "            'h',\n",
       "            'i'}): HierarchicalTrellisNode: frozenset({'i', 'g', 'a', 'h'}),\n",
       " frozenset({'a',\n",
       "            'f',\n",
       "            'h',\n",
       "            'i'}): HierarchicalTrellisNode: frozenset({'i', 'a', 'f', 'h'}),\n",
       " frozenset({'d',\n",
       "            'f',\n",
       "            'g',\n",
       "            'h'}): HierarchicalTrellisNode: frozenset({'d', 'g', 'f', 'h'}),\n",
       " frozenset({'a',\n",
       "            'd',\n",
       "            'g',\n",
       "            'h'}): HierarchicalTrellisNode: frozenset({'a', 'd', 'g', 'h'}),\n",
       " frozenset({'a',\n",
       "            'd',\n",
       "            'f',\n",
       "            'h'}): HierarchicalTrellisNode: frozenset({'a', 'd', 'f', 'h'}),\n",
       " frozenset({'a',\n",
       "            'f',\n",
       "            'g',\n",
       "            'h'}): HierarchicalTrellisNode: frozenset({'a', 'g', 'f', 'h'}),\n",
       " frozenset({'d',\n",
       "            'f',\n",
       "            'g',\n",
       "            'i'}): HierarchicalTrellisNode: frozenset({'i', 'd', 'f', 'g'}),\n",
       " frozenset({'a',\n",
       "            'd',\n",
       "            'g',\n",
       "            'i'}): HierarchicalTrellisNode: frozenset({'i', 'd', 'a', 'g'}),\n",
       " frozenset({'a',\n",
       "            'd',\n",
       "            'f',\n",
       "            'i'}): HierarchicalTrellisNode: frozenset({'i', 'd', 'f', 'a'}),\n",
       " frozenset({'a',\n",
       "            'f',\n",
       "            'g',\n",
       "            'i'}): HierarchicalTrellisNode: frozenset({'i', 'g', 'f', 'a'}),\n",
       " frozenset({'a',\n",
       "            'd',\n",
       "            'f',\n",
       "            'g'}): HierarchicalTrellisNode: frozenset({'a', 'd', 'f', 'g'}),\n",
       " frozenset({'b',\n",
       "            'c',\n",
       "            'e',\n",
       "            'h',\n",
       "            'i'}): HierarchicalTrellisNode: frozenset({'b', 'e', 'c', 'h', 'i'}),\n",
       " frozenset({'b',\n",
       "            'c',\n",
       "            'd',\n",
       "            'e',\n",
       "            'h'}): HierarchicalTrellisNode: frozenset({'b', 'e', 'c', 'h', 'd'}),\n",
       " frozenset({'b',\n",
       "            'c',\n",
       "            'e',\n",
       "            'g',\n",
       "            'h'}): HierarchicalTrellisNode: frozenset({'b', 'e', 'c', 'h', 'g'}),\n",
       " frozenset({'b',\n",
       "            'c',\n",
       "            'e',\n",
       "            'f',\n",
       "            'h'}): HierarchicalTrellisNode: frozenset({'b', 'e', 'c', 'h', 'f'}),\n",
       " frozenset({'a',\n",
       "            'b',\n",
       "            'c',\n",
       "            'e',\n",
       "            'h'}): HierarchicalTrellisNode: frozenset({'b', 'e', 'c', 'h', 'a'}),\n",
       " frozenset({'b',\n",
       "            'c',\n",
       "            'd',\n",
       "            'e',\n",
       "            'i'}): HierarchicalTrellisNode: frozenset({'b', 'e', 'c', 'i', 'd'}),\n",
       " frozenset({'b',\n",
       "            'c',\n",
       "            'e',\n",
       "            'g',\n",
       "            'i'}): HierarchicalTrellisNode: frozenset({'b', 'e', 'c', 'i', 'g'}),\n",
       " frozenset({'b',\n",
       "            'c',\n",
       "            'e',\n",
       "            'f',\n",
       "            'i'}): HierarchicalTrellisNode: frozenset({'b', 'e', 'c', 'i', 'f'}),\n",
       " frozenset({'a',\n",
       "            'b',\n",
       "            'c',\n",
       "            'e',\n",
       "            'i'}): HierarchicalTrellisNode: frozenset({'b', 'e', 'c', 'i', 'a'}),\n",
       " frozenset({'b',\n",
       "            'c',\n",
       "            'd',\n",
       "            'e',\n",
       "            'g'}): HierarchicalTrellisNode: frozenset({'b', 'e', 'c', 'd', 'g'}),\n",
       " frozenset({'b',\n",
       "            'c',\n",
       "            'd',\n",
       "            'e',\n",
       "            'f'}): HierarchicalTrellisNode: frozenset({'b', 'e', 'c', 'd', 'f'}),\n",
       " frozenset({'a',\n",
       "            'b',\n",
       "            'c',\n",
       "            'd',\n",
       "            'e'}): HierarchicalTrellisNode: frozenset({'b', 'e', 'c', 'd', 'a'}),\n",
       " frozenset({'b',\n",
       "            'c',\n",
       "            'e',\n",
       "            'f',\n",
       "            'g'}): HierarchicalTrellisNode: frozenset({'b', 'e', 'c', 'g', 'f'}),\n",
       " frozenset({'a',\n",
       "            'b',\n",
       "            'c',\n",
       "            'e',\n",
       "            'g'}): HierarchicalTrellisNode: frozenset({'b', 'e', 'c', 'g', 'a'}),\n",
       " frozenset({'a',\n",
       "            'b',\n",
       "            'c',\n",
       "            'e',\n",
       "            'f'}): HierarchicalTrellisNode: frozenset({'b', 'e', 'c', 'f', 'a'}),\n",
       " frozenset({'b',\n",
       "            'd',\n",
       "            'e',\n",
       "            'h',\n",
       "            'i'}): HierarchicalTrellisNode: frozenset({'b', 'e', 'h', 'i', 'd'}),\n",
       " frozenset({'b',\n",
       "            'e',\n",
       "            'g',\n",
       "            'h',\n",
       "            'i'}): HierarchicalTrellisNode: frozenset({'b', 'e', 'h', 'i', 'g'}),\n",
       " frozenset({'b',\n",
       "            'e',\n",
       "            'f',\n",
       "            'h',\n",
       "            'i'}): HierarchicalTrellisNode: frozenset({'b', 'e', 'h', 'i', 'f'}),\n",
       " frozenset({'a',\n",
       "            'b',\n",
       "            'e',\n",
       "            'h',\n",
       "            'i'}): HierarchicalTrellisNode: frozenset({'b', 'e', 'h', 'i', 'a'}),\n",
       " frozenset({'b',\n",
       "            'd',\n",
       "            'e',\n",
       "            'g',\n",
       "            'h'}): HierarchicalTrellisNode: frozenset({'b', 'e', 'h', 'd', 'g'}),\n",
       " frozenset({'b',\n",
       "            'd',\n",
       "            'e',\n",
       "            'f',\n",
       "            'h'}): HierarchicalTrellisNode: frozenset({'b', 'e', 'h', 'd', 'f'}),\n",
       " frozenset({'a',\n",
       "            'b',\n",
       "            'd',\n",
       "            'e',\n",
       "            'h'}): HierarchicalTrellisNode: frozenset({'b', 'e', 'h', 'd', 'a'}),\n",
       " frozenset({'b',\n",
       "            'e',\n",
       "            'f',\n",
       "            'g',\n",
       "            'h'}): HierarchicalTrellisNode: frozenset({'b', 'e', 'h', 'g', 'f'}),\n",
       " frozenset({'a',\n",
       "            'b',\n",
       "            'e',\n",
       "            'g',\n",
       "            'h'}): HierarchicalTrellisNode: frozenset({'b', 'e', 'h', 'g', 'a'}),\n",
       " frozenset({'a',\n",
       "            'b',\n",
       "            'e',\n",
       "            'f',\n",
       "            'h'}): HierarchicalTrellisNode: frozenset({'b', 'e', 'h', 'f', 'a'}),\n",
       " frozenset({'b',\n",
       "            'd',\n",
       "            'e',\n",
       "            'g',\n",
       "            'i'}): HierarchicalTrellisNode: frozenset({'b', 'e', 'i', 'd', 'g'}),\n",
       " frozenset({'b',\n",
       "            'd',\n",
       "            'e',\n",
       "            'f',\n",
       "            'i'}): HierarchicalTrellisNode: frozenset({'b', 'e', 'i', 'd', 'f'}),\n",
       " frozenset({'a',\n",
       "            'b',\n",
       "            'd',\n",
       "            'e',\n",
       "            'i'}): HierarchicalTrellisNode: frozenset({'b', 'e', 'i', 'd', 'a'}),\n",
       " frozenset({'b',\n",
       "            'e',\n",
       "            'f',\n",
       "            'g',\n",
       "            'i'}): HierarchicalTrellisNode: frozenset({'b', 'e', 'i', 'g', 'f'}),\n",
       " frozenset({'a',\n",
       "            'b',\n",
       "            'e',\n",
       "            'g',\n",
       "            'i'}): HierarchicalTrellisNode: frozenset({'b', 'e', 'i', 'g', 'a'}),\n",
       " frozenset({'a',\n",
       "            'b',\n",
       "            'e',\n",
       "            'f',\n",
       "            'i'}): HierarchicalTrellisNode: frozenset({'b', 'e', 'i', 'f', 'a'}),\n",
       " frozenset({'b',\n",
       "            'd',\n",
       "            'e',\n",
       "            'f',\n",
       "            'g'}): HierarchicalTrellisNode: frozenset({'b', 'e', 'd', 'g', 'f'}),\n",
       " frozenset({'a',\n",
       "            'b',\n",
       "            'd',\n",
       "            'e',\n",
       "            'g'}): HierarchicalTrellisNode: frozenset({'b', 'e', 'd', 'g', 'a'}),\n",
       " frozenset({'a',\n",
       "            'b',\n",
       "            'd',\n",
       "            'e',\n",
       "            'f'}): HierarchicalTrellisNode: frozenset({'b', 'e', 'd', 'f', 'a'}),\n",
       " frozenset({'a',\n",
       "            'b',\n",
       "            'e',\n",
       "            'f',\n",
       "            'g'}): HierarchicalTrellisNode: frozenset({'b', 'e', 'g', 'f', 'a'}),\n",
       " frozenset({'b',\n",
       "            'c',\n",
       "            'd',\n",
       "            'h',\n",
       "            'i'}): HierarchicalTrellisNode: frozenset({'b', 'c', 'h', 'i', 'd'}),\n",
       " frozenset({'b',\n",
       "            'c',\n",
       "            'g',\n",
       "            'h',\n",
       "            'i'}): HierarchicalTrellisNode: frozenset({'b', 'c', 'h', 'i', 'g'}),\n",
       " frozenset({'b',\n",
       "            'c',\n",
       "            'f',\n",
       "            'h',\n",
       "            'i'}): HierarchicalTrellisNode: frozenset({'b', 'c', 'h', 'i', 'f'}),\n",
       " frozenset({'a',\n",
       "            'b',\n",
       "            'c',\n",
       "            'h',\n",
       "            'i'}): HierarchicalTrellisNode: frozenset({'b', 'c', 'h', 'i', 'a'}),\n",
       " frozenset({'b',\n",
       "            'c',\n",
       "            'd',\n",
       "            'g',\n",
       "            'h'}): HierarchicalTrellisNode: frozenset({'b', 'c', 'h', 'd', 'g'}),\n",
       " frozenset({'b',\n",
       "            'c',\n",
       "            'd',\n",
       "            'f',\n",
       "            'h'}): HierarchicalTrellisNode: frozenset({'b', 'c', 'h', 'd', 'f'}),\n",
       " frozenset({'a',\n",
       "            'b',\n",
       "            'c',\n",
       "            'd',\n",
       "            'h'}): HierarchicalTrellisNode: frozenset({'b', 'c', 'h', 'd', 'a'}),\n",
       " frozenset({'b',\n",
       "            'c',\n",
       "            'f',\n",
       "            'g',\n",
       "            'h'}): HierarchicalTrellisNode: frozenset({'b', 'c', 'h', 'g', 'f'}),\n",
       " frozenset({'a',\n",
       "            'b',\n",
       "            'c',\n",
       "            'g',\n",
       "            'h'}): HierarchicalTrellisNode: frozenset({'b', 'c', 'h', 'g', 'a'}),\n",
       " frozenset({'a',\n",
       "            'b',\n",
       "            'c',\n",
       "            'f',\n",
       "            'h'}): HierarchicalTrellisNode: frozenset({'b', 'c', 'h', 'f', 'a'}),\n",
       " frozenset({'b',\n",
       "            'c',\n",
       "            'd',\n",
       "            'g',\n",
       "            'i'}): HierarchicalTrellisNode: frozenset({'b', 'c', 'i', 'd', 'g'}),\n",
       " frozenset({'b',\n",
       "            'c',\n",
       "            'd',\n",
       "            'f',\n",
       "            'i'}): HierarchicalTrellisNode: frozenset({'b', 'c', 'i', 'd', 'f'}),\n",
       " frozenset({'a',\n",
       "            'b',\n",
       "            'c',\n",
       "            'd',\n",
       "            'i'}): HierarchicalTrellisNode: frozenset({'b', 'c', 'i', 'd', 'a'}),\n",
       " frozenset({'b',\n",
       "            'c',\n",
       "            'f',\n",
       "            'g',\n",
       "            'i'}): HierarchicalTrellisNode: frozenset({'b', 'c', 'i', 'g', 'f'}),\n",
       " frozenset({'a',\n",
       "            'b',\n",
       "            'c',\n",
       "            'g',\n",
       "            'i'}): HierarchicalTrellisNode: frozenset({'b', 'c', 'i', 'g', 'a'}),\n",
       " frozenset({'a',\n",
       "            'b',\n",
       "            'c',\n",
       "            'f',\n",
       "            'i'}): HierarchicalTrellisNode: frozenset({'b', 'c', 'i', 'f', 'a'}),\n",
       " frozenset({'b',\n",
       "            'c',\n",
       "            'd',\n",
       "            'f',\n",
       "            'g'}): HierarchicalTrellisNode: frozenset({'b', 'c', 'd', 'g', 'f'}),\n",
       " frozenset({'a',\n",
       "            'b',\n",
       "            'c',\n",
       "            'd',\n",
       "            'g'}): HierarchicalTrellisNode: frozenset({'b', 'c', 'd', 'g', 'a'}),\n",
       " frozenset({'a',\n",
       "            'b',\n",
       "            'c',\n",
       "            'd',\n",
       "            'f'}): HierarchicalTrellisNode: frozenset({'b', 'c', 'd', 'f', 'a'}),\n",
       " frozenset({'a',\n",
       "            'b',\n",
       "            'c',\n",
       "            'f',\n",
       "            'g'}): HierarchicalTrellisNode: frozenset({'b', 'c', 'g', 'f', 'a'}),\n",
       " frozenset({'b',\n",
       "            'd',\n",
       "            'g',\n",
       "            'h',\n",
       "            'i'}): HierarchicalTrellisNode: frozenset({'b', 'h', 'i', 'd', 'g'}),\n",
       " frozenset({'b',\n",
       "            'd',\n",
       "            'f',\n",
       "            'h',\n",
       "            'i'}): HierarchicalTrellisNode: frozenset({'b', 'h', 'i', 'd', 'f'}),\n",
       " frozenset({'a',\n",
       "            'b',\n",
       "            'd',\n",
       "            'h',\n",
       "            'i'}): HierarchicalTrellisNode: frozenset({'b', 'h', 'i', 'd', 'a'}),\n",
       " frozenset({'b',\n",
       "            'f',\n",
       "            'g',\n",
       "            'h',\n",
       "            'i'}): HierarchicalTrellisNode: frozenset({'b', 'h', 'i', 'g', 'f'}),\n",
       " frozenset({'a',\n",
       "            'b',\n",
       "            'g',\n",
       "            'h',\n",
       "            'i'}): HierarchicalTrellisNode: frozenset({'b', 'h', 'i', 'g', 'a'}),\n",
       " frozenset({'a',\n",
       "            'b',\n",
       "            'f',\n",
       "            'h',\n",
       "            'i'}): HierarchicalTrellisNode: frozenset({'b', 'h', 'i', 'f', 'a'}),\n",
       " frozenset({'b',\n",
       "            'd',\n",
       "            'f',\n",
       "            'g',\n",
       "            'h'}): HierarchicalTrellisNode: frozenset({'b', 'h', 'd', 'g', 'f'}),\n",
       " frozenset({'a',\n",
       "            'b',\n",
       "            'd',\n",
       "            'g',\n",
       "            'h'}): HierarchicalTrellisNode: frozenset({'b', 'h', 'd', 'g', 'a'}),\n",
       " frozenset({'a',\n",
       "            'b',\n",
       "            'd',\n",
       "            'f',\n",
       "            'h'}): HierarchicalTrellisNode: frozenset({'b', 'h', 'd', 'f', 'a'}),\n",
       " frozenset({'a',\n",
       "            'b',\n",
       "            'f',\n",
       "            'g',\n",
       "            'h'}): HierarchicalTrellisNode: frozenset({'b', 'h', 'g', 'f', 'a'}),\n",
       " frozenset({'b',\n",
       "            'd',\n",
       "            'f',\n",
       "            'g',\n",
       "            'i'}): HierarchicalTrellisNode: frozenset({'b', 'i', 'd', 'g', 'f'}),\n",
       " frozenset({'a',\n",
       "            'b',\n",
       "            'd',\n",
       "            'g',\n",
       "            'i'}): HierarchicalTrellisNode: frozenset({'b', 'i', 'd', 'g', 'a'}),\n",
       " frozenset({'a',\n",
       "            'b',\n",
       "            'd',\n",
       "            'f',\n",
       "            'i'}): HierarchicalTrellisNode: frozenset({'b', 'i', 'd', 'f', 'a'}),\n",
       " frozenset({'a',\n",
       "            'b',\n",
       "            'f',\n",
       "            'g',\n",
       "            'i'}): HierarchicalTrellisNode: frozenset({'b', 'i', 'g', 'f', 'a'}),\n",
       " frozenset({'a',\n",
       "            'b',\n",
       "            'd',\n",
       "            'f',\n",
       "            'g'}): HierarchicalTrellisNode: frozenset({'b', 'd', 'g', 'f', 'a'}),\n",
       " frozenset({'c',\n",
       "            'd',\n",
       "            'e',\n",
       "            'h',\n",
       "            'i'}): HierarchicalTrellisNode: frozenset({'e', 'c', 'h', 'i', 'd'}),\n",
       " frozenset({'c',\n",
       "            'e',\n",
       "            'g',\n",
       "            'h',\n",
       "            'i'}): HierarchicalTrellisNode: frozenset({'e', 'c', 'h', 'i', 'g'}),\n",
       " frozenset({'c',\n",
       "            'e',\n",
       "            'f',\n",
       "            'h',\n",
       "            'i'}): HierarchicalTrellisNode: frozenset({'e', 'c', 'h', 'i', 'f'}),\n",
       " frozenset({'a',\n",
       "            'c',\n",
       "            'e',\n",
       "            'h',\n",
       "            'i'}): HierarchicalTrellisNode: frozenset({'e', 'c', 'h', 'i', 'a'}),\n",
       " frozenset({'c',\n",
       "            'd',\n",
       "            'e',\n",
       "            'g',\n",
       "            'h'}): HierarchicalTrellisNode: frozenset({'e', 'c', 'h', 'd', 'g'}),\n",
       " frozenset({'c',\n",
       "            'd',\n",
       "            'e',\n",
       "            'f',\n",
       "            'h'}): HierarchicalTrellisNode: frozenset({'e', 'c', 'h', 'd', 'f'}),\n",
       " frozenset({'a',\n",
       "            'c',\n",
       "            'd',\n",
       "            'e',\n",
       "            'h'}): HierarchicalTrellisNode: frozenset({'e', 'c', 'h', 'd', 'a'}),\n",
       " frozenset({'c',\n",
       "            'e',\n",
       "            'f',\n",
       "            'g',\n",
       "            'h'}): HierarchicalTrellisNode: frozenset({'e', 'c', 'h', 'g', 'f'}),\n",
       " frozenset({'a',\n",
       "            'c',\n",
       "            'e',\n",
       "            'g',\n",
       "            'h'}): HierarchicalTrellisNode: frozenset({'e', 'c', 'h', 'g', 'a'}),\n",
       " frozenset({'a',\n",
       "            'c',\n",
       "            'e',\n",
       "            'f',\n",
       "            'h'}): HierarchicalTrellisNode: frozenset({'e', 'c', 'h', 'f', 'a'}),\n",
       " frozenset({'c',\n",
       "            'd',\n",
       "            'e',\n",
       "            'g',\n",
       "            'i'}): HierarchicalTrellisNode: frozenset({'e', 'c', 'i', 'd', 'g'}),\n",
       " frozenset({'c',\n",
       "            'd',\n",
       "            'e',\n",
       "            'f',\n",
       "            'i'}): HierarchicalTrellisNode: frozenset({'e', 'c', 'i', 'd', 'f'}),\n",
       " frozenset({'a',\n",
       "            'c',\n",
       "            'd',\n",
       "            'e',\n",
       "            'i'}): HierarchicalTrellisNode: frozenset({'e', 'c', 'i', 'd', 'a'}),\n",
       " frozenset({'c',\n",
       "            'e',\n",
       "            'f',\n",
       "            'g',\n",
       "            'i'}): HierarchicalTrellisNode: frozenset({'e', 'c', 'i', 'g', 'f'}),\n",
       " frozenset({'a',\n",
       "            'c',\n",
       "            'e',\n",
       "            'g',\n",
       "            'i'}): HierarchicalTrellisNode: frozenset({'e', 'c', 'i', 'g', 'a'}),\n",
       " frozenset({'a',\n",
       "            'c',\n",
       "            'e',\n",
       "            'f',\n",
       "            'i'}): HierarchicalTrellisNode: frozenset({'e', 'c', 'i', 'f', 'a'}),\n",
       " frozenset({'c',\n",
       "            'd',\n",
       "            'e',\n",
       "            'f',\n",
       "            'g'}): HierarchicalTrellisNode: frozenset({'e', 'c', 'd', 'g', 'f'}),\n",
       " frozenset({'a',\n",
       "            'c',\n",
       "            'd',\n",
       "            'e',\n",
       "            'g'}): HierarchicalTrellisNode: frozenset({'e', 'c', 'd', 'g', 'a'}),\n",
       " frozenset({'a',\n",
       "            'c',\n",
       "            'd',\n",
       "            'e',\n",
       "            'f'}): HierarchicalTrellisNode: frozenset({'e', 'c', 'd', 'f', 'a'}),\n",
       " frozenset({'a',\n",
       "            'c',\n",
       "            'e',\n",
       "            'f',\n",
       "            'g'}): HierarchicalTrellisNode: frozenset({'e', 'c', 'g', 'f', 'a'}),\n",
       " frozenset({'d',\n",
       "            'e',\n",
       "            'g',\n",
       "            'h',\n",
       "            'i'}): HierarchicalTrellisNode: frozenset({'e', 'h', 'i', 'd', 'g'}),\n",
       " frozenset({'d',\n",
       "            'e',\n",
       "            'f',\n",
       "            'h',\n",
       "            'i'}): HierarchicalTrellisNode: frozenset({'e', 'h', 'i', 'd', 'f'}),\n",
       " frozenset({'a',\n",
       "            'd',\n",
       "            'e',\n",
       "            'h',\n",
       "            'i'}): HierarchicalTrellisNode: frozenset({'e', 'h', 'i', 'd', 'a'}),\n",
       " frozenset({'e',\n",
       "            'f',\n",
       "            'g',\n",
       "            'h',\n",
       "            'i'}): HierarchicalTrellisNode: frozenset({'e', 'h', 'i', 'g', 'f'}),\n",
       " frozenset({'a',\n",
       "            'e',\n",
       "            'g',\n",
       "            'h',\n",
       "            'i'}): HierarchicalTrellisNode: frozenset({'e', 'h', 'i', 'g', 'a'}),\n",
       " frozenset({'a',\n",
       "            'e',\n",
       "            'f',\n",
       "            'h',\n",
       "            'i'}): HierarchicalTrellisNode: frozenset({'e', 'h', 'i', 'f', 'a'}),\n",
       " frozenset({'d',\n",
       "            'e',\n",
       "            'f',\n",
       "            'g',\n",
       "            'h'}): HierarchicalTrellisNode: frozenset({'e', 'h', 'd', 'g', 'f'}),\n",
       " frozenset({'a',\n",
       "            'd',\n",
       "            'e',\n",
       "            'g',\n",
       "            'h'}): HierarchicalTrellisNode: frozenset({'e', 'h', 'd', 'g', 'a'}),\n",
       " frozenset({'a',\n",
       "            'd',\n",
       "            'e',\n",
       "            'f',\n",
       "            'h'}): HierarchicalTrellisNode: frozenset({'e', 'h', 'd', 'f', 'a'}),\n",
       " frozenset({'a',\n",
       "            'e',\n",
       "            'f',\n",
       "            'g',\n",
       "            'h'}): HierarchicalTrellisNode: frozenset({'e', 'h', 'g', 'f', 'a'}),\n",
       " frozenset({'d',\n",
       "            'e',\n",
       "            'f',\n",
       "            'g',\n",
       "            'i'}): HierarchicalTrellisNode: frozenset({'e', 'i', 'd', 'g', 'f'}),\n",
       " frozenset({'a',\n",
       "            'd',\n",
       "            'e',\n",
       "            'g',\n",
       "            'i'}): HierarchicalTrellisNode: frozenset({'e', 'i', 'd', 'g', 'a'}),\n",
       " frozenset({'a',\n",
       "            'd',\n",
       "            'e',\n",
       "            'f',\n",
       "            'i'}): HierarchicalTrellisNode: frozenset({'e', 'i', 'd', 'f', 'a'}),\n",
       " frozenset({'a',\n",
       "            'e',\n",
       "            'f',\n",
       "            'g',\n",
       "            'i'}): HierarchicalTrellisNode: frozenset({'e', 'i', 'g', 'f', 'a'}),\n",
       " frozenset({'a',\n",
       "            'd',\n",
       "            'e',\n",
       "            'f',\n",
       "            'g'}): HierarchicalTrellisNode: frozenset({'e', 'd', 'g', 'f', 'a'}),\n",
       " frozenset({'c',\n",
       "            'd',\n",
       "            'g',\n",
       "            'h',\n",
       "            'i'}): HierarchicalTrellisNode: frozenset({'c', 'h', 'i', 'd', 'g'}),\n",
       " frozenset({'c',\n",
       "            'd',\n",
       "            'f',\n",
       "            'h',\n",
       "            'i'}): HierarchicalTrellisNode: frozenset({'c', 'h', 'i', 'd', 'f'}),\n",
       " frozenset({'a',\n",
       "            'c',\n",
       "            'd',\n",
       "            'h',\n",
       "            'i'}): HierarchicalTrellisNode: frozenset({'c', 'h', 'i', 'd', 'a'}),\n",
       " frozenset({'c',\n",
       "            'f',\n",
       "            'g',\n",
       "            'h',\n",
       "            'i'}): HierarchicalTrellisNode: frozenset({'c', 'h', 'i', 'g', 'f'}),\n",
       " frozenset({'a',\n",
       "            'c',\n",
       "            'g',\n",
       "            'h',\n",
       "            'i'}): HierarchicalTrellisNode: frozenset({'c', 'h', 'i', 'g', 'a'}),\n",
       " frozenset({'a',\n",
       "            'c',\n",
       "            'f',\n",
       "            'h',\n",
       "            'i'}): HierarchicalTrellisNode: frozenset({'c', 'h', 'i', 'f', 'a'}),\n",
       " frozenset({'c',\n",
       "            'd',\n",
       "            'f',\n",
       "            'g',\n",
       "            'h'}): HierarchicalTrellisNode: frozenset({'c', 'h', 'd', 'g', 'f'}),\n",
       " frozenset({'a',\n",
       "            'c',\n",
       "            'd',\n",
       "            'g',\n",
       "            'h'}): HierarchicalTrellisNode: frozenset({'c', 'h', 'd', 'g', 'a'}),\n",
       " frozenset({'a',\n",
       "            'c',\n",
       "            'd',\n",
       "            'f',\n",
       "            'h'}): HierarchicalTrellisNode: frozenset({'c', 'h', 'd', 'f', 'a'}),\n",
       " frozenset({'a',\n",
       "            'c',\n",
       "            'f',\n",
       "            'g',\n",
       "            'h'}): HierarchicalTrellisNode: frozenset({'c', 'h', 'g', 'f', 'a'}),\n",
       " frozenset({'c',\n",
       "            'd',\n",
       "            'f',\n",
       "            'g',\n",
       "            'i'}): HierarchicalTrellisNode: frozenset({'c', 'i', 'd', 'g', 'f'}),\n",
       " frozenset({'a',\n",
       "            'c',\n",
       "            'd',\n",
       "            'g',\n",
       "            'i'}): HierarchicalTrellisNode: frozenset({'c', 'i', 'd', 'g', 'a'}),\n",
       " frozenset({'a',\n",
       "            'c',\n",
       "            'd',\n",
       "            'f',\n",
       "            'i'}): HierarchicalTrellisNode: frozenset({'c', 'i', 'd', 'f', 'a'}),\n",
       " frozenset({'a',\n",
       "            'c',\n",
       "            'f',\n",
       "            'g',\n",
       "            'i'}): HierarchicalTrellisNode: frozenset({'c', 'i', 'g', 'f', 'a'}),\n",
       " frozenset({'a',\n",
       "            'c',\n",
       "            'd',\n",
       "            'f',\n",
       "            'g'}): HierarchicalTrellisNode: frozenset({'c', 'd', 'g', 'f', 'a'}),\n",
       " frozenset({'d',\n",
       "            'f',\n",
       "            'g',\n",
       "            'h',\n",
       "            'i'}): HierarchicalTrellisNode: frozenset({'h', 'i', 'd', 'g', 'f'}),\n",
       " frozenset({'a',\n",
       "            'd',\n",
       "            'g',\n",
       "            'h',\n",
       "            'i'}): HierarchicalTrellisNode: frozenset({'h', 'i', 'd', 'g', 'a'}),\n",
       " frozenset({'a',\n",
       "            'd',\n",
       "            'f',\n",
       "            'h',\n",
       "            'i'}): HierarchicalTrellisNode: frozenset({'h', 'i', 'd', 'f', 'a'}),\n",
       " frozenset({'a',\n",
       "            'f',\n",
       "            'g',\n",
       "            'h',\n",
       "            'i'}): HierarchicalTrellisNode: frozenset({'h', 'i', 'g', 'f', 'a'}),\n",
       " frozenset({'a',\n",
       "            'd',\n",
       "            'f',\n",
       "            'g',\n",
       "            'h'}): HierarchicalTrellisNode: frozenset({'h', 'd', 'g', 'f', 'a'}),\n",
       " frozenset({'a',\n",
       "            'd',\n",
       "            'f',\n",
       "            'g',\n",
       "            'i'}): HierarchicalTrellisNode: frozenset({'i', 'd', 'g', 'f', 'a'}),\n",
       " frozenset({'b',\n",
       "            'c',\n",
       "            'd',\n",
       "            'e',\n",
       "            'h',\n",
       "            'i'}): HierarchicalTrellisNode: frozenset({'b', 'e', 'c', 'h', 'i', 'd'}),\n",
       " frozenset({'b',\n",
       "            'c',\n",
       "            'e',\n",
       "            'g',\n",
       "            'h',\n",
       "            'i'}): HierarchicalTrellisNode: frozenset({'b', 'e', 'c', 'h', 'i', 'g'}),\n",
       " frozenset({'b',\n",
       "            'c',\n",
       "            'e',\n",
       "            'f',\n",
       "            'h',\n",
       "            'i'}): HierarchicalTrellisNode: frozenset({'b', 'e', 'c', 'h', 'i', 'f'}),\n",
       " frozenset({'a',\n",
       "            'b',\n",
       "            'c',\n",
       "            'e',\n",
       "            'h',\n",
       "            'i'}): HierarchicalTrellisNode: frozenset({'b', 'e', 'c', 'h', 'i', 'a'}),\n",
       " frozenset({'b',\n",
       "            'c',\n",
       "            'd',\n",
       "            'e',\n",
       "            'g',\n",
       "            'h'}): HierarchicalTrellisNode: frozenset({'b', 'e', 'c', 'h', 'd', 'g'}),\n",
       " frozenset({'b',\n",
       "            'c',\n",
       "            'd',\n",
       "            'e',\n",
       "            'f',\n",
       "            'h'}): HierarchicalTrellisNode: frozenset({'b', 'e', 'c', 'h', 'd', 'f'}),\n",
       " frozenset({'a',\n",
       "            'b',\n",
       "            'c',\n",
       "            'd',\n",
       "            'e',\n",
       "            'h'}): HierarchicalTrellisNode: frozenset({'b', 'e', 'c', 'h', 'd', 'a'}),\n",
       " frozenset({'b',\n",
       "            'c',\n",
       "            'e',\n",
       "            'f',\n",
       "            'g',\n",
       "            'h'}): HierarchicalTrellisNode: frozenset({'b', 'e', 'c', 'h', 'g', 'f'}),\n",
       " frozenset({'a',\n",
       "            'b',\n",
       "            'c',\n",
       "            'e',\n",
       "            'g',\n",
       "            'h'}): HierarchicalTrellisNode: frozenset({'b', 'e', 'c', 'h', 'g', 'a'}),\n",
       " frozenset({'a',\n",
       "            'b',\n",
       "            'c',\n",
       "            'e',\n",
       "            'f',\n",
       "            'h'}): HierarchicalTrellisNode: frozenset({'b', 'e', 'c', 'h', 'f', 'a'}),\n",
       " frozenset({'b',\n",
       "            'c',\n",
       "            'd',\n",
       "            'e',\n",
       "            'g',\n",
       "            'i'}): HierarchicalTrellisNode: frozenset({'b', 'e', 'c', 'i', 'd', 'g'}),\n",
       " frozenset({'b',\n",
       "            'c',\n",
       "            'd',\n",
       "            'e',\n",
       "            'f',\n",
       "            'i'}): HierarchicalTrellisNode: frozenset({'b', 'e', 'c', 'i', 'd', 'f'}),\n",
       " frozenset({'a',\n",
       "            'b',\n",
       "            'c',\n",
       "            'd',\n",
       "            'e',\n",
       "            'i'}): HierarchicalTrellisNode: frozenset({'b', 'e', 'c', 'i', 'd', 'a'}),\n",
       " frozenset({'b',\n",
       "            'c',\n",
       "            'e',\n",
       "            'f',\n",
       "            'g',\n",
       "            'i'}): HierarchicalTrellisNode: frozenset({'b', 'e', 'c', 'i', 'g', 'f'}),\n",
       " frozenset({'a',\n",
       "            'b',\n",
       "            'c',\n",
       "            'e',\n",
       "            'g',\n",
       "            'i'}): HierarchicalTrellisNode: frozenset({'b', 'e', 'c', 'i', 'g', 'a'}),\n",
       " frozenset({'a',\n",
       "            'b',\n",
       "            'c',\n",
       "            'e',\n",
       "            'f',\n",
       "            'i'}): HierarchicalTrellisNode: frozenset({'b', 'e', 'c', 'i', 'f', 'a'}),\n",
       " frozenset({'b',\n",
       "            'c',\n",
       "            'd',\n",
       "            'e',\n",
       "            'f',\n",
       "            'g'}): HierarchicalTrellisNode: frozenset({'b', 'e', 'c', 'd', 'g', 'f'}),\n",
       " frozenset({'a',\n",
       "            'b',\n",
       "            'c',\n",
       "            'd',\n",
       "            'e',\n",
       "            'g'}): HierarchicalTrellisNode: frozenset({'b', 'e', 'c', 'd', 'g', 'a'}),\n",
       " frozenset({'a',\n",
       "            'b',\n",
       "            'c',\n",
       "            'd',\n",
       "            'e',\n",
       "            'f'}): HierarchicalTrellisNode: frozenset({'b', 'e', 'c', 'd', 'f', 'a'}),\n",
       " frozenset({'a',\n",
       "            'b',\n",
       "            'c',\n",
       "            'e',\n",
       "            'f',\n",
       "            'g'}): HierarchicalTrellisNode: frozenset({'b', 'e', 'c', 'g', 'f', 'a'}),\n",
       " frozenset({'b',\n",
       "            'd',\n",
       "            'e',\n",
       "            'g',\n",
       "            'h',\n",
       "            'i'}): HierarchicalTrellisNode: frozenset({'b', 'e', 'h', 'i', 'd', 'g'}),\n",
       " frozenset({'b',\n",
       "            'd',\n",
       "            'e',\n",
       "            'f',\n",
       "            'h',\n",
       "            'i'}): HierarchicalTrellisNode: frozenset({'b', 'e', 'h', 'i', 'd', 'f'}),\n",
       " frozenset({'a',\n",
       "            'b',\n",
       "            'd',\n",
       "            'e',\n",
       "            'h',\n",
       "            'i'}): HierarchicalTrellisNode: frozenset({'b', 'e', 'h', 'i', 'd', 'a'}),\n",
       " frozenset({'b',\n",
       "            'e',\n",
       "            'f',\n",
       "            'g',\n",
       "            'h',\n",
       "            'i'}): HierarchicalTrellisNode: frozenset({'b', 'e', 'h', 'i', 'g', 'f'}),\n",
       " frozenset({'a',\n",
       "            'b',\n",
       "            'e',\n",
       "            'g',\n",
       "            'h',\n",
       "            'i'}): HierarchicalTrellisNode: frozenset({'b', 'e', 'h', 'i', 'g', 'a'}),\n",
       " frozenset({'a',\n",
       "            'b',\n",
       "            'e',\n",
       "            'f',\n",
       "            'h',\n",
       "            'i'}): HierarchicalTrellisNode: frozenset({'b', 'e', 'h', 'i', 'f', 'a'}),\n",
       " frozenset({'b',\n",
       "            'd',\n",
       "            'e',\n",
       "            'f',\n",
       "            'g',\n",
       "            'h'}): HierarchicalTrellisNode: frozenset({'b', 'e', 'h', 'd', 'g', 'f'}),\n",
       " frozenset({'a',\n",
       "            'b',\n",
       "            'd',\n",
       "            'e',\n",
       "            'g',\n",
       "            'h'}): HierarchicalTrellisNode: frozenset({'b', 'e', 'h', 'd', 'g', 'a'}),\n",
       " frozenset({'a',\n",
       "            'b',\n",
       "            'd',\n",
       "            'e',\n",
       "            'f',\n",
       "            'h'}): HierarchicalTrellisNode: frozenset({'b', 'e', 'h', 'd', 'f', 'a'}),\n",
       " frozenset({'a',\n",
       "            'b',\n",
       "            'e',\n",
       "            'f',\n",
       "            'g',\n",
       "            'h'}): HierarchicalTrellisNode: frozenset({'b', 'e', 'h', 'g', 'f', 'a'}),\n",
       " frozenset({'b',\n",
       "            'd',\n",
       "            'e',\n",
       "            'f',\n",
       "            'g',\n",
       "            'i'}): HierarchicalTrellisNode: frozenset({'b', 'e', 'i', 'd', 'g', 'f'}),\n",
       " frozenset({'a',\n",
       "            'b',\n",
       "            'd',\n",
       "            'e',\n",
       "            'g',\n",
       "            'i'}): HierarchicalTrellisNode: frozenset({'b', 'e', 'i', 'd', 'g', 'a'}),\n",
       " frozenset({'a',\n",
       "            'b',\n",
       "            'd',\n",
       "            'e',\n",
       "            'f',\n",
       "            'i'}): HierarchicalTrellisNode: frozenset({'b', 'e', 'i', 'd', 'f', 'a'}),\n",
       " frozenset({'a',\n",
       "            'b',\n",
       "            'e',\n",
       "            'f',\n",
       "            'g',\n",
       "            'i'}): HierarchicalTrellisNode: frozenset({'b', 'e', 'i', 'g', 'f', 'a'}),\n",
       " frozenset({'a',\n",
       "            'b',\n",
       "            'd',\n",
       "            'e',\n",
       "            'f',\n",
       "            'g'}): HierarchicalTrellisNode: frozenset({'b', 'e', 'd', 'g', 'f', 'a'}),\n",
       " frozenset({'b',\n",
       "            'c',\n",
       "            'd',\n",
       "            'g',\n",
       "            'h',\n",
       "            'i'}): HierarchicalTrellisNode: frozenset({'b', 'c', 'h', 'i', 'd', 'g'}),\n",
       " frozenset({'b',\n",
       "            'c',\n",
       "            'd',\n",
       "            'f',\n",
       "            'h',\n",
       "            'i'}): HierarchicalTrellisNode: frozenset({'b', 'c', 'h', 'i', 'd', 'f'}),\n",
       " frozenset({'a',\n",
       "            'b',\n",
       "            'c',\n",
       "            'd',\n",
       "            'h',\n",
       "            'i'}): HierarchicalTrellisNode: frozenset({'b', 'c', 'h', 'i', 'd', 'a'}),\n",
       " frozenset({'b',\n",
       "            'c',\n",
       "            'f',\n",
       "            'g',\n",
       "            'h',\n",
       "            'i'}): HierarchicalTrellisNode: frozenset({'b', 'c', 'h', 'i', 'g', 'f'}),\n",
       " frozenset({'a',\n",
       "            'b',\n",
       "            'c',\n",
       "            'g',\n",
       "            'h',\n",
       "            'i'}): HierarchicalTrellisNode: frozenset({'b', 'c', 'h', 'i', 'g', 'a'}),\n",
       " frozenset({'a',\n",
       "            'b',\n",
       "            'c',\n",
       "            'f',\n",
       "            'h',\n",
       "            'i'}): HierarchicalTrellisNode: frozenset({'b', 'c', 'h', 'i', 'f', 'a'}),\n",
       " frozenset({'b',\n",
       "            'c',\n",
       "            'd',\n",
       "            'f',\n",
       "            'g',\n",
       "            'h'}): HierarchicalTrellisNode: frozenset({'b', 'c', 'h', 'd', 'g', 'f'}),\n",
       " frozenset({'a',\n",
       "            'b',\n",
       "            'c',\n",
       "            'd',\n",
       "            'g',\n",
       "            'h'}): HierarchicalTrellisNode: frozenset({'b', 'c', 'h', 'd', 'g', 'a'}),\n",
       " frozenset({'a',\n",
       "            'b',\n",
       "            'c',\n",
       "            'd',\n",
       "            'f',\n",
       "            'h'}): HierarchicalTrellisNode: frozenset({'b', 'c', 'h', 'd', 'f', 'a'}),\n",
       " frozenset({'a',\n",
       "            'b',\n",
       "            'c',\n",
       "            'f',\n",
       "            'g',\n",
       "            'h'}): HierarchicalTrellisNode: frozenset({'b', 'c', 'h', 'g', 'f', 'a'}),\n",
       " frozenset({'b',\n",
       "            'c',\n",
       "            'd',\n",
       "            'f',\n",
       "            'g',\n",
       "            'i'}): HierarchicalTrellisNode: frozenset({'b', 'c', 'i', 'd', 'g', 'f'}),\n",
       " frozenset({'a',\n",
       "            'b',\n",
       "            'c',\n",
       "            'd',\n",
       "            'g',\n",
       "            'i'}): HierarchicalTrellisNode: frozenset({'b', 'c', 'i', 'd', 'g', 'a'}),\n",
       " frozenset({'a',\n",
       "            'b',\n",
       "            'c',\n",
       "            'd',\n",
       "            'f',\n",
       "            'i'}): HierarchicalTrellisNode: frozenset({'b', 'c', 'i', 'd', 'f', 'a'}),\n",
       " frozenset({'a',\n",
       "            'b',\n",
       "            'c',\n",
       "            'f',\n",
       "            'g',\n",
       "            'i'}): HierarchicalTrellisNode: frozenset({'b', 'c', 'i', 'g', 'f', 'a'}),\n",
       " frozenset({'a',\n",
       "            'b',\n",
       "            'c',\n",
       "            'd',\n",
       "            'f',\n",
       "            'g'}): HierarchicalTrellisNode: frozenset({'b', 'c', 'd', 'g', 'f', 'a'}),\n",
       " frozenset({'b',\n",
       "            'd',\n",
       "            'f',\n",
       "            'g',\n",
       "            'h',\n",
       "            'i'}): HierarchicalTrellisNode: frozenset({'b', 'h', 'i', 'd', 'g', 'f'}),\n",
       " frozenset({'a',\n",
       "            'b',\n",
       "            'd',\n",
       "            'g',\n",
       "            'h',\n",
       "            'i'}): HierarchicalTrellisNode: frozenset({'b', 'h', 'i', 'd', 'g', 'a'}),\n",
       " frozenset({'a',\n",
       "            'b',\n",
       "            'd',\n",
       "            'f',\n",
       "            'h',\n",
       "            'i'}): HierarchicalTrellisNode: frozenset({'b', 'h', 'i', 'd', 'f', 'a'}),\n",
       " frozenset({'a',\n",
       "            'b',\n",
       "            'f',\n",
       "            'g',\n",
       "            'h',\n",
       "            'i'}): HierarchicalTrellisNode: frozenset({'b', 'h', 'i', 'g', 'f', 'a'}),\n",
       " frozenset({'a',\n",
       "            'b',\n",
       "            'd',\n",
       "            'f',\n",
       "            'g',\n",
       "            'h'}): HierarchicalTrellisNode: frozenset({'b', 'h', 'd', 'g', 'f', 'a'}),\n",
       " frozenset({'a',\n",
       "            'b',\n",
       "            'd',\n",
       "            'f',\n",
       "            'g',\n",
       "            'i'}): HierarchicalTrellisNode: frozenset({'b', 'i', 'd', 'g', 'f', 'a'}),\n",
       " frozenset({'c',\n",
       "            'd',\n",
       "            'e',\n",
       "            'g',\n",
       "            'h',\n",
       "            'i'}): HierarchicalTrellisNode: frozenset({'e', 'c', 'h', 'i', 'd', 'g'}),\n",
       " frozenset({'c',\n",
       "            'd',\n",
       "            'e',\n",
       "            'f',\n",
       "            'h',\n",
       "            'i'}): HierarchicalTrellisNode: frozenset({'e', 'c', 'h', 'i', 'd', 'f'}),\n",
       " frozenset({'a',\n",
       "            'c',\n",
       "            'd',\n",
       "            'e',\n",
       "            'h',\n",
       "            'i'}): HierarchicalTrellisNode: frozenset({'e', 'c', 'h', 'i', 'd', 'a'}),\n",
       " frozenset({'c',\n",
       "            'e',\n",
       "            'f',\n",
       "            'g',\n",
       "            'h',\n",
       "            'i'}): HierarchicalTrellisNode: frozenset({'e', 'c', 'h', 'i', 'g', 'f'}),\n",
       " frozenset({'a',\n",
       "            'c',\n",
       "            'e',\n",
       "            'g',\n",
       "            'h',\n",
       "            'i'}): HierarchicalTrellisNode: frozenset({'e', 'c', 'h', 'i', 'g', 'a'}),\n",
       " frozenset({'a',\n",
       "            'c',\n",
       "            'e',\n",
       "            'f',\n",
       "            'h',\n",
       "            'i'}): HierarchicalTrellisNode: frozenset({'e', 'c', 'h', 'i', 'f', 'a'}),\n",
       " frozenset({'c',\n",
       "            'd',\n",
       "            'e',\n",
       "            'f',\n",
       "            'g',\n",
       "            'h'}): HierarchicalTrellisNode: frozenset({'e', 'c', 'h', 'd', 'g', 'f'}),\n",
       " frozenset({'a',\n",
       "            'c',\n",
       "            'd',\n",
       "            'e',\n",
       "            'g',\n",
       "            'h'}): HierarchicalTrellisNode: frozenset({'e', 'c', 'h', 'd', 'g', 'a'}),\n",
       " frozenset({'a',\n",
       "            'c',\n",
       "            'd',\n",
       "            'e',\n",
       "            'f',\n",
       "            'h'}): HierarchicalTrellisNode: frozenset({'e', 'c', 'h', 'd', 'f', 'a'}),\n",
       " frozenset({'a',\n",
       "            'c',\n",
       "            'e',\n",
       "            'f',\n",
       "            'g',\n",
       "            'h'}): HierarchicalTrellisNode: frozenset({'e', 'c', 'h', 'g', 'f', 'a'}),\n",
       " frozenset({'c',\n",
       "            'd',\n",
       "            'e',\n",
       "            'f',\n",
       "            'g',\n",
       "            'i'}): HierarchicalTrellisNode: frozenset({'e', 'c', 'i', 'd', 'g', 'f'}),\n",
       " frozenset({'a',\n",
       "            'c',\n",
       "            'd',\n",
       "            'e',\n",
       "            'g',\n",
       "            'i'}): HierarchicalTrellisNode: frozenset({'e', 'c', 'i', 'd', 'g', 'a'}),\n",
       " frozenset({'a',\n",
       "            'c',\n",
       "            'd',\n",
       "            'e',\n",
       "            'f',\n",
       "            'i'}): HierarchicalTrellisNode: frozenset({'e', 'c', 'i', 'd', 'f', 'a'}),\n",
       " frozenset({'a',\n",
       "            'c',\n",
       "            'e',\n",
       "            'f',\n",
       "            'g',\n",
       "            'i'}): HierarchicalTrellisNode: frozenset({'e', 'c', 'i', 'g', 'f', 'a'}),\n",
       " frozenset({'a',\n",
       "            'c',\n",
       "            'd',\n",
       "            'e',\n",
       "            'f',\n",
       "            'g'}): HierarchicalTrellisNode: frozenset({'e', 'c', 'd', 'g', 'f', 'a'}),\n",
       " frozenset({'d',\n",
       "            'e',\n",
       "            'f',\n",
       "            'g',\n",
       "            'h',\n",
       "            'i'}): HierarchicalTrellisNode: frozenset({'e', 'h', 'i', 'd', 'g', 'f'}),\n",
       " frozenset({'a',\n",
       "            'd',\n",
       "            'e',\n",
       "            'g',\n",
       "            'h',\n",
       "            'i'}): HierarchicalTrellisNode: frozenset({'e', 'h', 'i', 'd', 'g', 'a'}),\n",
       " frozenset({'a',\n",
       "            'd',\n",
       "            'e',\n",
       "            'f',\n",
       "            'h',\n",
       "            'i'}): HierarchicalTrellisNode: frozenset({'e', 'h', 'i', 'd', 'f', 'a'}),\n",
       " frozenset({'a',\n",
       "            'e',\n",
       "            'f',\n",
       "            'g',\n",
       "            'h',\n",
       "            'i'}): HierarchicalTrellisNode: frozenset({'e', 'h', 'i', 'g', 'f', 'a'}),\n",
       " frozenset({'a',\n",
       "            'd',\n",
       "            'e',\n",
       "            'f',\n",
       "            'g',\n",
       "            'h'}): HierarchicalTrellisNode: frozenset({'e', 'h', 'd', 'g', 'f', 'a'}),\n",
       " frozenset({'a',\n",
       "            'd',\n",
       "            'e',\n",
       "            'f',\n",
       "            'g',\n",
       "            'i'}): HierarchicalTrellisNode: frozenset({'e', 'i', 'd', 'g', 'f', 'a'}),\n",
       " frozenset({'c',\n",
       "            'd',\n",
       "            'f',\n",
       "            'g',\n",
       "            'h',\n",
       "            'i'}): HierarchicalTrellisNode: frozenset({'c', 'h', 'i', 'd', 'g', 'f'}),\n",
       " frozenset({'a',\n",
       "            'c',\n",
       "            'd',\n",
       "            'g',\n",
       "            'h',\n",
       "            'i'}): HierarchicalTrellisNode: frozenset({'c', 'h', 'i', 'd', 'g', 'a'}),\n",
       " frozenset({'a',\n",
       "            'c',\n",
       "            'd',\n",
       "            'f',\n",
       "            'h',\n",
       "            'i'}): HierarchicalTrellisNode: frozenset({'c', 'h', 'i', 'd', 'f', 'a'}),\n",
       " frozenset({'a',\n",
       "            'c',\n",
       "            'f',\n",
       "            'g',\n",
       "            'h',\n",
       "            'i'}): HierarchicalTrellisNode: frozenset({'c', 'h', 'i', 'g', 'f', 'a'}),\n",
       " frozenset({'a',\n",
       "            'c',\n",
       "            'd',\n",
       "            'f',\n",
       "            'g',\n",
       "            'h'}): HierarchicalTrellisNode: frozenset({'c', 'h', 'd', 'g', 'f', 'a'}),\n",
       " frozenset({'a',\n",
       "            'c',\n",
       "            'd',\n",
       "            'f',\n",
       "            'g',\n",
       "            'i'}): HierarchicalTrellisNode: frozenset({'c', 'i', 'd', 'g', 'f', 'a'}),\n",
       " frozenset({'a',\n",
       "            'd',\n",
       "            'f',\n",
       "            'g',\n",
       "            'h',\n",
       "            'i'}): HierarchicalTrellisNode: frozenset({'h', 'i', 'd', 'g', 'f', 'a'}),\n",
       " frozenset({'b',\n",
       "            'c',\n",
       "            'd',\n",
       "            'e',\n",
       "            'g',\n",
       "            'h',\n",
       "            'i'}): HierarchicalTrellisNode: frozenset({'b', 'e', 'c', 'h', 'i', 'd', 'g'}),\n",
       " frozenset({'b',\n",
       "            'c',\n",
       "            'd',\n",
       "            'e',\n",
       "            'f',\n",
       "            'h',\n",
       "            'i'}): HierarchicalTrellisNode: frozenset({'b', 'e', 'c', 'h', 'i', 'd', 'f'}),\n",
       " frozenset({'a',\n",
       "            'b',\n",
       "            'c',\n",
       "            'd',\n",
       "            'e',\n",
       "            'h',\n",
       "            'i'}): HierarchicalTrellisNode: frozenset({'b', 'e', 'c', 'h', 'i', 'd', 'a'}),\n",
       " frozenset({'b',\n",
       "            'c',\n",
       "            'e',\n",
       "            'f',\n",
       "            'g',\n",
       "            'h',\n",
       "            'i'}): HierarchicalTrellisNode: frozenset({'b', 'e', 'c', 'h', 'i', 'g', 'f'}),\n",
       " frozenset({'a',\n",
       "            'b',\n",
       "            'c',\n",
       "            'e',\n",
       "            'g',\n",
       "            'h',\n",
       "            'i'}): HierarchicalTrellisNode: frozenset({'b', 'e', 'c', 'h', 'i', 'g', 'a'}),\n",
       " frozenset({'a',\n",
       "            'b',\n",
       "            'c',\n",
       "            'e',\n",
       "            'f',\n",
       "            'h',\n",
       "            'i'}): HierarchicalTrellisNode: frozenset({'b', 'e', 'c', 'h', 'i', 'f', 'a'}),\n",
       " frozenset({'b',\n",
       "            'c',\n",
       "            'd',\n",
       "            'e',\n",
       "            'f',\n",
       "            'g',\n",
       "            'h'}): HierarchicalTrellisNode: frozenset({'b', 'e', 'c', 'h', 'd', 'g', 'f'}),\n",
       " frozenset({'a',\n",
       "            'b',\n",
       "            'c',\n",
       "            'd',\n",
       "            'e',\n",
       "            'g',\n",
       "            'h'}): HierarchicalTrellisNode: frozenset({'b', 'e', 'c', 'h', 'd', 'g', 'a'}),\n",
       " frozenset({'a',\n",
       "            'b',\n",
       "            'c',\n",
       "            'd',\n",
       "            'e',\n",
       "            'f',\n",
       "            'h'}): HierarchicalTrellisNode: frozenset({'b', 'e', 'c', 'h', 'd', 'f', 'a'}),\n",
       " frozenset({'a',\n",
       "            'b',\n",
       "            'c',\n",
       "            'e',\n",
       "            'f',\n",
       "            'g',\n",
       "            'h'}): HierarchicalTrellisNode: frozenset({'b', 'e', 'c', 'h', 'g', 'f', 'a'}),\n",
       " frozenset({'b',\n",
       "            'c',\n",
       "            'd',\n",
       "            'e',\n",
       "            'f',\n",
       "            'g',\n",
       "            'i'}): HierarchicalTrellisNode: frozenset({'b', 'e', 'c', 'i', 'd', 'g', 'f'}),\n",
       " frozenset({'a',\n",
       "            'b',\n",
       "            'c',\n",
       "            'd',\n",
       "            'e',\n",
       "            'g',\n",
       "            'i'}): HierarchicalTrellisNode: frozenset({'b', 'e', 'c', 'i', 'd', 'g', 'a'}),\n",
       " frozenset({'a',\n",
       "            'b',\n",
       "            'c',\n",
       "            'd',\n",
       "            'e',\n",
       "            'f',\n",
       "            'i'}): HierarchicalTrellisNode: frozenset({'b', 'e', 'c', 'i', 'd', 'f', 'a'}),\n",
       " frozenset({'a',\n",
       "            'b',\n",
       "            'c',\n",
       "            'e',\n",
       "            'f',\n",
       "            'g',\n",
       "            'i'}): HierarchicalTrellisNode: frozenset({'b', 'e', 'c', 'i', 'g', 'f', 'a'}),\n",
       " frozenset({'a',\n",
       "            'b',\n",
       "            'c',\n",
       "            'd',\n",
       "            'e',\n",
       "            'f',\n",
       "            'g'}): HierarchicalTrellisNode: frozenset({'b', 'e', 'c', 'd', 'g', 'f', 'a'}),\n",
       " frozenset({'b',\n",
       "            'd',\n",
       "            'e',\n",
       "            'f',\n",
       "            'g',\n",
       "            'h',\n",
       "            'i'}): HierarchicalTrellisNode: frozenset({'b', 'e', 'h', 'i', 'd', 'g', 'f'}),\n",
       " frozenset({'a',\n",
       "            'b',\n",
       "            'd',\n",
       "            'e',\n",
       "            'g',\n",
       "            'h',\n",
       "            'i'}): HierarchicalTrellisNode: frozenset({'b', 'e', 'h', 'i', 'd', 'g', 'a'}),\n",
       " frozenset({'a',\n",
       "            'b',\n",
       "            'd',\n",
       "            'e',\n",
       "            'f',\n",
       "            'h',\n",
       "            'i'}): HierarchicalTrellisNode: frozenset({'b', 'e', 'h', 'i', 'd', 'f', 'a'}),\n",
       " frozenset({'a',\n",
       "            'b',\n",
       "            'e',\n",
       "            'f',\n",
       "            'g',\n",
       "            'h',\n",
       "            'i'}): HierarchicalTrellisNode: frozenset({'b', 'e', 'h', 'i', 'g', 'f', 'a'}),\n",
       " frozenset({'a',\n",
       "            'b',\n",
       "            'd',\n",
       "            'e',\n",
       "            'f',\n",
       "            'g',\n",
       "            'h'}): HierarchicalTrellisNode: frozenset({'b', 'e', 'h', 'd', 'g', 'f', 'a'}),\n",
       " frozenset({'a',\n",
       "            'b',\n",
       "            'd',\n",
       "            'e',\n",
       "            'f',\n",
       "            'g',\n",
       "            'i'}): HierarchicalTrellisNode: frozenset({'b', 'e', 'i', 'd', 'g', 'f', 'a'}),\n",
       " frozenset({'b',\n",
       "            'c',\n",
       "            'd',\n",
       "            'f',\n",
       "            'g',\n",
       "            'h',\n",
       "            'i'}): HierarchicalTrellisNode: frozenset({'b', 'c', 'h', 'i', 'd', 'g', 'f'}),\n",
       " frozenset({'a',\n",
       "            'b',\n",
       "            'c',\n",
       "            'd',\n",
       "            'g',\n",
       "            'h',\n",
       "            'i'}): HierarchicalTrellisNode: frozenset({'b', 'c', 'h', 'i', 'd', 'g', 'a'}),\n",
       " frozenset({'a',\n",
       "            'b',\n",
       "            'c',\n",
       "            'd',\n",
       "            'f',\n",
       "            'h',\n",
       "            'i'}): HierarchicalTrellisNode: frozenset({'b', 'c', 'h', 'i', 'd', 'f', 'a'}),\n",
       " frozenset({'a',\n",
       "            'b',\n",
       "            'c',\n",
       "            'f',\n",
       "            'g',\n",
       "            'h',\n",
       "            'i'}): HierarchicalTrellisNode: frozenset({'b', 'c', 'h', 'i', 'g', 'f', 'a'}),\n",
       " frozenset({'a',\n",
       "            'b',\n",
       "            'c',\n",
       "            'd',\n",
       "            'f',\n",
       "            'g',\n",
       "            'h'}): HierarchicalTrellisNode: frozenset({'b', 'c', 'h', 'd', 'g', 'f', 'a'}),\n",
       " frozenset({'a',\n",
       "            'b',\n",
       "            'c',\n",
       "            'd',\n",
       "            'f',\n",
       "            'g',\n",
       "            'i'}): HierarchicalTrellisNode: frozenset({'b', 'c', 'i', 'd', 'g', 'f', 'a'}),\n",
       " frozenset({'a',\n",
       "            'b',\n",
       "            'd',\n",
       "            'f',\n",
       "            'g',\n",
       "            'h',\n",
       "            'i'}): HierarchicalTrellisNode: frozenset({'b', 'h', 'i', 'd', 'g', 'f', 'a'}),\n",
       " frozenset({'c',\n",
       "            'd',\n",
       "            'e',\n",
       "            'f',\n",
       "            'g',\n",
       "            'h',\n",
       "            'i'}): HierarchicalTrellisNode: frozenset({'e', 'c', 'h', 'i', 'd', 'g', 'f'}),\n",
       " frozenset({'a',\n",
       "            'c',\n",
       "            'd',\n",
       "            'e',\n",
       "            'g',\n",
       "            'h',\n",
       "            'i'}): HierarchicalTrellisNode: frozenset({'e', 'c', 'h', 'i', 'd', 'g', 'a'}),\n",
       " frozenset({'a',\n",
       "            'c',\n",
       "            'd',\n",
       "            'e',\n",
       "            'f',\n",
       "            'h',\n",
       "            'i'}): HierarchicalTrellisNode: frozenset({'e', 'c', 'h', 'i', 'd', 'f', 'a'}),\n",
       " frozenset({'a',\n",
       "            'c',\n",
       "            'e',\n",
       "            'f',\n",
       "            'g',\n",
       "            'h',\n",
       "            'i'}): HierarchicalTrellisNode: frozenset({'e', 'c', 'h', 'i', 'g', 'f', 'a'}),\n",
       " frozenset({'a',\n",
       "            'c',\n",
       "            'd',\n",
       "            'e',\n",
       "            'f',\n",
       "            'g',\n",
       "            'h'}): HierarchicalTrellisNode: frozenset({'e', 'c', 'h', 'd', 'g', 'f', 'a'}),\n",
       " frozenset({'a',\n",
       "            'c',\n",
       "            'd',\n",
       "            'e',\n",
       "            'f',\n",
       "            'g',\n",
       "            'i'}): HierarchicalTrellisNode: frozenset({'e', 'c', 'i', 'd', 'g', 'f', 'a'}),\n",
       " frozenset({'a',\n",
       "            'd',\n",
       "            'e',\n",
       "            'f',\n",
       "            'g',\n",
       "            'h',\n",
       "            'i'}): HierarchicalTrellisNode: frozenset({'e', 'h', 'i', 'd', 'g', 'f', 'a'}),\n",
       " frozenset({'a',\n",
       "            'c',\n",
       "            'd',\n",
       "            'f',\n",
       "            'g',\n",
       "            'h',\n",
       "            'i'}): HierarchicalTrellisNode: frozenset({'c', 'h', 'i', 'd', 'g', 'f', 'a'}),\n",
       " frozenset({'b',\n",
       "            'c',\n",
       "            'd',\n",
       "            'e',\n",
       "            'f',\n",
       "            'g',\n",
       "            'h',\n",
       "            'i'}): HierarchicalTrellisNode: frozenset({'b', 'e', 'c', 'h', 'i', 'd', 'g', 'f'}),\n",
       " frozenset({'a',\n",
       "            'b',\n",
       "            'c',\n",
       "            'd',\n",
       "            'e',\n",
       "            'g',\n",
       "            'h',\n",
       "            'i'}): HierarchicalTrellisNode: frozenset({'b', 'e', 'c', 'h', 'i', 'd', 'g', 'a'}),\n",
       " frozenset({'a',\n",
       "            'b',\n",
       "            'c',\n",
       "            'd',\n",
       "            'e',\n",
       "            'f',\n",
       "            'h',\n",
       "            'i'}): HierarchicalTrellisNode: frozenset({'b', 'e', 'c', 'h', 'i', 'd', 'f', 'a'}),\n",
       " frozenset({'a',\n",
       "            'b',\n",
       "            'c',\n",
       "            'e',\n",
       "            'f',\n",
       "            'g',\n",
       "            'h',\n",
       "            'i'}): HierarchicalTrellisNode: frozenset({'b', 'e', 'c', 'h', 'i', 'g', 'f', 'a'}),\n",
       " frozenset({'a',\n",
       "            'b',\n",
       "            'c',\n",
       "            'd',\n",
       "            'e',\n",
       "            'f',\n",
       "            'g',\n",
       "            'h'}): HierarchicalTrellisNode: frozenset({'b', 'e', 'c', 'h', 'd', 'g', 'f', 'a'}),\n",
       " frozenset({'a',\n",
       "            'b',\n",
       "            'c',\n",
       "            'd',\n",
       "            'e',\n",
       "            'f',\n",
       "            'g',\n",
       "            'i'}): HierarchicalTrellisNode: frozenset({'b', 'e', 'c', 'i', 'd', 'g', 'f', 'a'}),\n",
       " frozenset({'a',\n",
       "            'b',\n",
       "            'd',\n",
       "            'e',\n",
       "            'f',\n",
       "            'g',\n",
       "            'h',\n",
       "            'i'}): HierarchicalTrellisNode: frozenset({'b', 'e', 'h', 'i', 'd', 'g', 'f', 'a'}),\n",
       " frozenset({'a',\n",
       "            'b',\n",
       "            'c',\n",
       "            'd',\n",
       "            'f',\n",
       "            'g',\n",
       "            'h',\n",
       "            'i'}): HierarchicalTrellisNode: frozenset({'b', 'c', 'h', 'i', 'd', 'g', 'f', 'a'}),\n",
       " frozenset({'a',\n",
       "            'c',\n",
       "            'd',\n",
       "            'e',\n",
       "            'f',\n",
       "            'g',\n",
       "            'h',\n",
       "            'i'}): HierarchicalTrellisNode: frozenset({'e', 'c', 'h', 'i', 'd', 'g', 'f', 'a'}),\n",
       " frozenset({'a',\n",
       "            'b',\n",
       "            'c',\n",
       "            'd',\n",
       "            'e',\n",
       "            'f',\n",
       "            'g',\n",
       "            'h',\n",
       "            'i'}): HierarchicalTrellisNode: frozenset({'b', 'e', 'c', 'h', 'i', 'd', 'g', 'f', 'a'})}"
      ]
     },
     "execution_count": 36,
     "metadata": {},
     "output_type": "execute_result"
    }
   ],
   "source": [
    "trellis.elements_2_node"
   ]
  },
  {
   "cell_type": "markdown",
   "metadata": {},
   "source": [
    "## FIND MAP and Z - ONLY TRELLIS"
   ]
  },
  {
   "cell_type": "code",
   "execution_count": 29,
   "metadata": {},
   "outputs": [],
   "source": [
    "def load_jets(NleavesMin=5):\n",
    "    indir = \"data/invMassGinkgo/\"\n",
    "    in_filename = os.path.join(indir, \"test_\"+str(NleavesMin)+\"_jets.pkl\")\n",
    "    with open(in_filename, \"rb\") as fd:\n",
    "        gt_jets = pickle.load(fd, encoding='latin-1')\n",
    "    return gt_jets"
   ]
  },
  {
   "cell_type": "code",
   "execution_count": 30,
   "metadata": {},
   "outputs": [],
   "source": [
    "gt_jets = load_jets()"
   ]
  },
  {
   "cell_type": "code",
   "execution_count": 37,
   "metadata": {},
   "outputs": [],
   "source": [
    "def runTrellisOnly(gt_jets, \n",
    "#                bs_jets, \n",
    "#                greedy_jets,\n",
    "               NleavesMin =3, \n",
    "               NleavesMax= 4, \n",
    "               MaxNjets = 1\n",
    "              ):\n",
    "    \n",
    "    \"\"\"Create and fill the trellis for a given set of leaves\n",
    "    Args: \n",
    "    gt_jets : truth level jet trees.\n",
    "    bs_jets: beam seach jet trees.\n",
    "    greedy_jets: greedy jet trees.\n",
    "    NleavesMin: minimum number of leaves to select jet trees\n",
    "    NleavesMax: maximum number of leaves to select jet trees\n",
    "    MaxNjets: maximum number of jet to run the trellis code.\n",
    "    \n",
    "    Returns:\n",
    "    results: dictionary with the following {key:values}\n",
    "                Z: partition functions,\n",
    "                trellis_MLE: MLE, \n",
    "                RunTime: time for each tree\n",
    "                totJets\": total number of trees\n",
    "                gt_llh: truth level trees llh\n",
    "                bs_llh: beam search trees llh\n",
    "                gd_llh: greedy trees llh\n",
    "                \n",
    "    trellis\n",
    "    \"\"\"\n",
    "    \n",
    "    \"\"\" Keep only trees with leaves between NleavesMin and NleavesMax\"\"\"\n",
    "    smallJetIndex =[i for i,gt_jet in enumerate(gt_jets)  if NleavesMin<=len(gt_jet[\"leaves\"])<NleavesMax]\n",
    "            \n",
    "    \n",
    "    results = {\"Z\":[], \"trellis_MLE\":[], \"RunTime\":[], \"Ntrees\":[]}\n",
    "    \n",
    "    if len(smallJetIndex)>0:\n",
    "        \n",
    "        GT_jets = np.asarray(gt_jets)[smallJetIndex]\n",
    "#         BSO_jet = bs_jets[smallJetIndex]\n",
    "#         Greedy_jet = greedy_jets[smallJetIndex]\n",
    "        \n",
    "        \"\"\" Total number of trees to run the trellis\"\"\"\n",
    "        totJets = np.min([MaxNjets,len(smallJetIndex)])\n",
    "\n",
    "        results[\"totJets\"] = totJets\n",
    "        results[\"Nleaves\"] = [len(GT_jets[m][\"leaves\"]) for m in range(totJets)]\n",
    "        results[\"gt_llh\"]= [np.sum(GT_jets[m][\"logLH\"]) for m in range(totJets)]\n",
    "#         results[\"bs_llh\"]=  [np.sum(BSO_jet[m][\"logLH\"]) for m in range(totJets)]\n",
    "#         results[\"gd_llh\"]=  [np.sum(Greedy_jet[m][\"logLH\"]) for m in range(totJets)]\n",
    "\n",
    "\n",
    "        for m in range(totJets):\n",
    "\n",
    "            if m%50==0:\n",
    "                print(\"Creating trellis for jet #\",m)\n",
    "                \n",
    "            startTime = time.time()\n",
    "\n",
    "            \"\"\" Create and fill the trellis\"\"\"\n",
    "            trellis, Z, map_energy, Ntrees,  totTime = rpe.compare_map_gt_and_bs_trees(GT_jets[m])\n",
    "\n",
    "            results[\"Z\"].append(Z)\n",
    "            results[\"trellis_MLE\"].append(map_energy)\n",
    "            results[\"Ntrees\"].append(Ntrees)\n",
    "\n",
    "            endTime = time.time() - startTime\n",
    "            results[\"RunTime\"].append(endTime)\n",
    "\n",
    "    else:\n",
    "        print(\"There are no jets in the dataset with the required number of leaves \")\n",
    "        \n",
    "#     print(\"results = \", results)\n",
    "        \n",
    "    return results, trellis"
   ]
  },
  {
   "cell_type": "code",
   "execution_count": 56,
   "metadata": {},
   "outputs": [
    {
     "name": "stdout",
     "output_type": "stream",
     "text": [
      "Creating trellis for jet # 0\n",
      "Total time =  2.320655107498169\n"
     ]
    }
   ],
   "source": [
    "NleavesMin =9\n",
    "NleavesMax=10\n",
    "MaxNjets = 1\n",
    "\n",
    "start = time.time()\n",
    "results10, trellis10 =  runTrellisOnly(gt_jets, \n",
    "               NleavesMin =NleavesMin, \n",
    "               NleavesMax= NleavesMax, \n",
    "               MaxNjets = MaxNjets)\n",
    "\n",
    "print(\"Total time = \", time.time() - start)"
   ]
  },
  {
   "cell_type": "code",
   "execution_count": 57,
   "metadata": {},
   "outputs": [
    {
     "data": {
      "text/plain": [
       "511"
      ]
     },
     "execution_count": 57,
     "metadata": {},
     "output_type": "execute_result"
    }
   ],
   "source": [
    "len(trellis10.elements_2_node)"
   ]
  },
  {
   "cell_type": "code",
   "execution_count": 55,
   "metadata": {},
   "outputs": [
    {
     "data": {
      "text/plain": [
       "frozenset({'a', 'b', 'c'})"
      ]
     },
     "execution_count": 55,
     "metadata": {},
     "output_type": "execute_result"
    }
   ],
   "source": [
    "frozenset(['b','c','a'])"
   ]
  },
  {
   "cell_type": "code",
   "execution_count": null,
   "metadata": {},
   "outputs": [],
   "source": []
  },
  {
   "cell_type": "code",
   "execution_count": 49,
   "metadata": {},
   "outputs": [
    {
     "data": {
      "text/plain": [
       "{frozenset({'b'}): HierarchicalTrellisNode: frozenset({'b'}),\n",
       " frozenset({'a'}): HierarchicalTrellisNode: frozenset({'a'}),\n",
       " frozenset({'d'}): HierarchicalTrellisNode: frozenset({'d'}),\n",
       " frozenset({'c'}): HierarchicalTrellisNode: frozenset({'c'}),\n",
       " frozenset({'a', 'b'}): HierarchicalTrellisNode: frozenset({'b', 'a'}),\n",
       " frozenset({'b', 'd'}): HierarchicalTrellisNode: frozenset({'b', 'd'}),\n",
       " frozenset({'b', 'c'}): HierarchicalTrellisNode: frozenset({'b', 'c'}),\n",
       " frozenset({'a', 'd'}): HierarchicalTrellisNode: frozenset({'a', 'd'}),\n",
       " frozenset({'a', 'c'}): HierarchicalTrellisNode: frozenset({'a', 'c'}),\n",
       " frozenset({'c', 'd'}): HierarchicalTrellisNode: frozenset({'d', 'c'}),\n",
       " frozenset({'a',\n",
       "            'b',\n",
       "            'd'}): HierarchicalTrellisNode: frozenset({'b', 'a', 'd'}),\n",
       " frozenset({'a',\n",
       "            'b',\n",
       "            'c'}): HierarchicalTrellisNode: frozenset({'b', 'a', 'c'}),\n",
       " frozenset({'b',\n",
       "            'c',\n",
       "            'd'}): HierarchicalTrellisNode: frozenset({'b', 'd', 'c'}),\n",
       " frozenset({'a',\n",
       "            'c',\n",
       "            'd'}): HierarchicalTrellisNode: frozenset({'a', 'd', 'c'}),\n",
       " frozenset({'a',\n",
       "            'b',\n",
       "            'c',\n",
       "            'd'}): HierarchicalTrellisNode: frozenset({'b', 'a', 'd', 'c'})}"
      ]
     },
     "execution_count": 49,
     "metadata": {},
     "output_type": "execute_result"
    }
   ],
   "source": [
    "trellis10.elements_2_node"
   ]
  },
  {
   "cell_type": "code",
   "execution_count": 35,
   "metadata": {},
   "outputs": [
    {
     "data": {
      "text/plain": [
       "{'Z': [-25.450608960062443, -24.70136312579796, -26.18017755472025],\n",
       " 'trellis_MLE': [-27.548423454516815, -25.926422782307256, -26.94947351154468],\n",
       " 'RunTime': [0.04524517059326172, 0.03405475616455078, 0.03861403465270996],\n",
       " 'Ntrees': [90.0, 90.0, 90.0],\n",
       " 'totJets': 3,\n",
       " 'Nleaves': [5, 5, 5],\n",
       " 'gt_llh': [-29.1822566986084, -26.888334274291992, -26.94947361946106]}"
      ]
     },
     "execution_count": 35,
     "metadata": {},
     "output_type": "execute_result"
    }
   ],
   "source": [
    "results10"
   ]
  },
  {
   "cell_type": "markdown",
   "metadata": {},
   "source": [
    "# MAP and partition function Z"
   ]
  },
  {
   "cell_type": "code",
   "execution_count": null,
   "metadata": {},
   "outputs": [],
   "source": []
  },
  {
   "cell_type": "code",
   "execution_count": null,
   "metadata": {},
   "outputs": [],
   "source": []
  },
  {
   "cell_type": "code",
   "execution_count": null,
   "metadata": {},
   "outputs": [],
   "source": []
  },
  {
   "cell_type": "code",
   "execution_count": 13,
   "metadata": {},
   "outputs": [],
   "source": [
    "def runTrellis(gt_jets, \n",
    "               bs_jets, \n",
    "               greedy_jets,\n",
    "               NleavesMin =3, \n",
    "               NleavesMax= 4, \n",
    "               MaxNjets = 1\n",
    "              ):\n",
    "    \n",
    "    \"\"\"Create and fill the trellis for a given set of leaves\n",
    "    Args: \n",
    "    gt_jets : truth level jet trees.\n",
    "    bs_jets: beam seach jet trees.\n",
    "    greedy_jets: greedy jet trees.\n",
    "    NleavesMin: minimum number of leaves to select jet trees\n",
    "    NleavesMax: maximum number of leaves to select jet trees\n",
    "    MaxNjets: maximum number of jet to run the trellis code.\n",
    "    \n",
    "    Returns:\n",
    "    results: dictionary with the following {key:values}\n",
    "                Z: partition functions,\n",
    "                trellis_MLE: MLE, \n",
    "                RunTime: time for each tree\n",
    "                totJets\": total number of trees\n",
    "                gt_llh: truth level trees llh\n",
    "                bs_llh: beam search trees llh\n",
    "                gd_llh: greedy trees llh\n",
    "                \n",
    "    trellis\n",
    "    \"\"\"\n",
    "    \n",
    "    \"\"\" Keep only trees with leaves between NleavesMin and NleavesMax\"\"\"\n",
    "    smallJetIndex =[i for i,gt_jet in enumerate(gt_jets)  if NleavesMin<=len(gt_jet[\"leaves\"])<NleavesMax]\n",
    "            \n",
    "    \n",
    "    results = {\"Z\":[], \"trellis_MLE\":[], \"RunTime\":[], \"Ntrees\":[]}\n",
    "    \n",
    "    if len(smallJetIndex)>0:\n",
    "        \n",
    "        GT_jets = np.asarray(gt_jets)[smallJetIndex]\n",
    "        BSO_jet = bs_jets[smallJetIndex]\n",
    "        Greedy_jet = greedy_jets[smallJetIndex]\n",
    "        \n",
    "        \"\"\" Total number of trees to run the trellis\"\"\"\n",
    "        totJets = np.min([MaxNjets,len(smallJetIndex)])\n",
    "\n",
    "        results[\"totJets\"] = totJets\n",
    "        results[\"Nleaves\"] = [len(GT_jets[m][\"leaves\"]) for m in range(totJets)]\n",
    "        results[\"gt_llh\"]= [np.sum(GT_jets[m][\"logLH\"]) for m in range(totJets)]\n",
    "        results[\"bs_llh\"]=  [np.sum(BSO_jet[m][\"logLH\"]) for m in range(totJets)]\n",
    "        results[\"gd_llh\"]=  [np.sum(Greedy_jet[m][\"logLH\"]) for m in range(totJets)]\n",
    "\n",
    "\n",
    "        for m in range(totJets):\n",
    "\n",
    "            if m%50==0:\n",
    "                print(\"Creating trellis for jet #\",m)\n",
    "                \n",
    "            startTime = time.time()\n",
    "\n",
    "            \"\"\" Create and fill the trellis\"\"\"\n",
    "            trellis, Z, map_energy, Ntrees,  totTime = rpe.compare_map_gt_and_bs_trees(GT_jets[m])\n",
    "\n",
    "            results[\"Z\"].append(Z)\n",
    "            results[\"trellis_MLE\"].append(map_energy)\n",
    "            results[\"Ntrees\"].append(Ntrees)\n",
    "\n",
    "            endTime = time.time() - startTime\n",
    "            results[\"RunTime\"].append(endTime)\n",
    "\n",
    "    else:\n",
    "        print(\"There are no jets in the dataset with the required number of leaves \")\n",
    "        \n",
    "#     print(\"results = \", results)\n",
    "        \n",
    "    return results, trellis"
   ]
  },
  {
   "cell_type": "code",
   "execution_count": 55,
   "metadata": {},
   "outputs": [],
   "source": [
    "# importlib.reload(hierarchical_trellis)\n",
    "# importlib.reload(hierarchical_trellis_node)\n",
    "# importlib.reload(jet_node)\n",
    "# importlib.reload(jet_trellis)\n",
    "# importlib.reload(rpe)"
   ]
  },
  {
   "cell_type": "code",
   "execution_count": 19,
   "metadata": {},
   "outputs": [],
   "source": [
    "# test_bs[0]\n"
   ]
  },
  {
   "cell_type": "code",
   "execution_count": 11,
   "metadata": {},
   "outputs": [],
   "source": [
    "Nstart = 2000\n",
    "test_gt = gt_jets[Nstart::]\n",
    "test_bs = bs_jets[Nstart::]\n",
    "test_gd = greedy_jets[Nstart::]"
   ]
  },
  {
   "cell_type": "code",
   "execution_count": 25,
   "metadata": {},
   "outputs": [
    {
     "name": "stdout",
     "output_type": "stream",
     "text": [
      "Creating trellis for jet # 0\n",
      "Total time =  6.073853254318237\n"
     ]
    }
   ],
   "source": [
    "NleavesMin =10\n",
    "NleavesMax=11\n",
    "MaxNjets = 1\n",
    "\n",
    "start = time.time()\n",
    "results10, trellis10 =  runTrellis(test_gt, \n",
    "               test_bs, \n",
    "               test_gd,\n",
    "               NleavesMin =NleavesMin, \n",
    "               NleavesMax= NleavesMax, \n",
    "               MaxNjets = MaxNjets)\n",
    "\n",
    "print(\"Total time = \", time.time() - start)"
   ]
  },
  {
   "cell_type": "code",
   "execution_count": 58,
   "metadata": {},
   "outputs": [
    {
     "data": {
      "text/plain": [
       "[831600.0]"
      ]
     },
     "execution_count": 58,
     "metadata": {},
     "output_type": "execute_result"
    }
   ],
   "source": [
    "results10[\"Ntrees\"]"
   ]
  },
  {
   "cell_type": "code",
   "execution_count": 20,
   "metadata": {},
   "outputs": [
    {
     "data": {
      "text/plain": [
       "3000"
      ]
     },
     "execution_count": 20,
     "metadata": {},
     "output_type": "execute_result"
    }
   ],
   "source": [
    "len(test_gt)"
   ]
  },
  {
   "cell_type": "code",
   "execution_count": 21,
   "metadata": {
    "scrolled": true
   },
   "outputs": [
    {
     "name": "stdout",
     "output_type": "stream",
     "text": [
      "Creating trellis for jet # 0\n",
      "Creating trellis for jet # 50\n",
      "Creating trellis for jet # 100\n",
      "Creating trellis for jet # 150\n",
      "Creating trellis for jet # 200\n",
      "Creating trellis for jet # 250\n",
      "Creating trellis for jet # 300\n",
      "Creating trellis for jet # 350\n",
      "Creating trellis for jet # 400\n",
      "Creating trellis for jet # 450\n",
      "Creating trellis for jet # 500\n",
      "Creating trellis for jet # 550\n",
      "Creating trellis for jet # 600\n",
      "Creating trellis for jet # 650\n",
      "Creating trellis for jet # 700\n",
      "Creating trellis for jet # 750\n",
      "Creating trellis for jet # 800\n",
      "Creating trellis for jet # 850\n",
      "Creating trellis for jet # 900\n",
      "Creating trellis for jet # 950\n",
      "Creating trellis for jet # 1000\n",
      "Creating trellis for jet # 1050\n",
      "Creating trellis for jet # 1100\n",
      "Creating trellis for jet # 1150\n",
      "Creating trellis for jet # 1200\n",
      "Creating trellis for jet # 1250\n",
      "Creating trellis for jet # 1300\n",
      "Creating trellis for jet # 1350\n",
      "Creating trellis for jet # 1400\n",
      "Creating trellis for jet # 1450\n",
      "Creating trellis for jet # 1500\n",
      "Creating trellis for jet # 1550\n",
      "Creating trellis for jet # 1600\n",
      "Creating trellis for jet # 1650\n",
      "Creating trellis for jet # 1700\n",
      "Creating trellis for jet # 1750\n",
      "Creating trellis for jet # 1800\n",
      "Creating trellis for jet # 1850\n",
      "Creating trellis for jet # 1900\n",
      "Creating trellis for jet # 1950\n",
      "Creating trellis for jet # 2000\n",
      "Creating trellis for jet # 2050\n",
      "Creating trellis for jet # 2100\n",
      "Creating trellis for jet # 2150\n",
      "Creating trellis for jet # 2200\n",
      "Creating trellis for jet # 2250\n",
      "Creating trellis for jet # 2300\n",
      "Creating trellis for jet # 2350\n",
      "Creating trellis for jet # 2400\n",
      "Creating trellis for jet # 2450\n",
      "Creating trellis for jet # 2500\n",
      "Creating trellis for jet # 2550\n",
      "Creating trellis for jet # 2600\n",
      "Creating trellis for jet # 2650\n",
      "Creating trellis for jet # 2700\n",
      "Creating trellis for jet # 2750\n",
      "Creating trellis for jet # 2800\n",
      "Creating trellis for jet # 2850\n",
      "Creating trellis for jet # 2900\n",
      "Creating trellis for jet # 2950\n"
     ]
    }
   ],
   "source": [
    "NleavesMin =9\n",
    "NleavesMax=10\n",
    "MaxNjets = 5000\n",
    "\n",
    "results, trellis =  runTrellis(test_gt, \n",
    "               test_bs, \n",
    "               test_gd,\n",
    "               NleavesMin =NleavesMin, \n",
    "               NleavesMax= NleavesMax, \n",
    "               MaxNjets = MaxNjets)"
   ]
  },
  {
   "cell_type": "code",
   "execution_count": 22,
   "metadata": {},
   "outputs": [],
   "source": [
    "save=False\n",
    "# outdir = \"experiments/invMassGinkgo/\"\n",
    "outdir = \"/Users/sebastianmacaluso/Documents/PrinceData/invMassGinkgo/\"\n",
    "if save:\n",
    "    out_filename = os.path.join(outdir, \"TrellisExactTruthBSGreedy_\"+str(NleavesMin)+\"_\"+str(len(test_gt))+\"_jets.pkl\")\n",
    "    with open(out_filename, \"wb\") as f:\n",
    "        pickle.dump(results, f, protocol=2)"
   ]
  },
  {
   "cell_type": "code",
   "execution_count": 57,
   "metadata": {},
   "outputs": [
    {
     "ename": "FileNotFoundError",
     "evalue": "[Errno 2] No such file or directory: 'experiments/invMassGinkgo/TrellisExactTruthBSGreedy_5_3000_jets.pkl'",
     "output_type": "error",
     "traceback": [
      "\u001b[0;31m---------------------------------------------------------------------------\u001b[0m",
      "\u001b[0;31mFileNotFoundError\u001b[0m                         Traceback (most recent call last)",
      "\u001b[0;32m<ipython-input-57-6e2aec2d117a>\u001b[0m in \u001b[0;36m<module>\u001b[0;34m\u001b[0m\n\u001b[1;32m      6\u001b[0m \u001b[0;32mif\u001b[0m \u001b[0mload\u001b[0m\u001b[0;34m:\u001b[0m\u001b[0;34m\u001b[0m\u001b[0;34m\u001b[0m\u001b[0m\n\u001b[1;32m      7\u001b[0m     \u001b[0min_filename\u001b[0m \u001b[0;34m=\u001b[0m \u001b[0mos\u001b[0m\u001b[0;34m.\u001b[0m\u001b[0mpath\u001b[0m\u001b[0;34m.\u001b[0m\u001b[0mjoin\u001b[0m\u001b[0;34m(\u001b[0m\u001b[0moutdir\u001b[0m\u001b[0;34m,\u001b[0m  \u001b[0;34m\"TrellisExactTruthBSGreedy_\"\u001b[0m\u001b[0;34m+\u001b[0m\u001b[0mstr\u001b[0m\u001b[0;34m(\u001b[0m\u001b[0mNleavesMin\u001b[0m\u001b[0;34m)\u001b[0m\u001b[0;34m+\u001b[0m\u001b[0;34m\"_\"\u001b[0m\u001b[0;34m+\u001b[0m\u001b[0mstr\u001b[0m\u001b[0;34m(\u001b[0m\u001b[0mlen\u001b[0m\u001b[0;34m(\u001b[0m\u001b[0mtest_gt\u001b[0m\u001b[0;34m)\u001b[0m\u001b[0;34m)\u001b[0m\u001b[0;34m+\u001b[0m\u001b[0;34m\"_jets.pkl\"\u001b[0m\u001b[0;34m)\u001b[0m\u001b[0;34m\u001b[0m\u001b[0;34m\u001b[0m\u001b[0m\n\u001b[0;32m----> 8\u001b[0;31m     \u001b[0;32mwith\u001b[0m \u001b[0mopen\u001b[0m\u001b[0;34m(\u001b[0m\u001b[0min_filename\u001b[0m\u001b[0;34m,\u001b[0m \u001b[0;34m\"rb\"\u001b[0m\u001b[0;34m)\u001b[0m \u001b[0;32mas\u001b[0m \u001b[0mfd\u001b[0m\u001b[0;34m:\u001b[0m\u001b[0;34m\u001b[0m\u001b[0;34m\u001b[0m\u001b[0m\n\u001b[0m\u001b[1;32m      9\u001b[0m         \u001b[0mresults\u001b[0m \u001b[0;34m=\u001b[0m \u001b[0mpickle\u001b[0m\u001b[0;34m.\u001b[0m\u001b[0mload\u001b[0m\u001b[0;34m(\u001b[0m\u001b[0mfd\u001b[0m\u001b[0;34m,\u001b[0m \u001b[0mencoding\u001b[0m\u001b[0;34m=\u001b[0m\u001b[0;34m'latin-1'\u001b[0m\u001b[0;34m)\u001b[0m\u001b[0;34m\u001b[0m\u001b[0;34m\u001b[0m\u001b[0m\n",
      "\u001b[0;31mFileNotFoundError\u001b[0m: [Errno 2] No such file or directory: 'experiments/invMassGinkgo/TrellisExactTruthBSGreedy_5_3000_jets.pkl'"
     ]
    }
   ],
   "source": [
    "# NleavesMin =5\n",
    "# NleavesMax=11\n",
    "\n",
    "# load=True\n",
    "# outdir = \"experiments/invMassGinkgo/\"\n",
    "# if load:\n",
    "#     in_filename = os.path.join(outdir,  \"TrellisExactTruthBSGreedy_\"+str(NleavesMin)+\"_\"+str(len(test_gt))+\"_jets.pkl\")\n",
    "#     with open(in_filename, \"rb\") as fd:\n",
    "#         results = pickle.load(fd, encoding='latin-1')\n"
   ]
  },
  {
   "cell_type": "code",
   "execution_count": 93,
   "metadata": {},
   "outputs": [],
   "source": [
    "NleavesMin =5\n",
    "NleavesMax=11\n",
    "\n",
    "load=True\n",
    "outdir = \"experiments/invMassGinkgo/\"\n",
    "if load:\n",
    "    in_filename = os.path.join(outdir, \"TrellisTruthBSGreedy_\"+label+\"_\"+str(NleavesMin)+\"_\"+str(NleavesMax)+\".pkl\")\n",
    "    with open(in_filename, \"rb\") as fd:\n",
    "        results = pickle.load(fd, encoding='latin-1')"
   ]
  },
  {
   "cell_type": "code",
   "execution_count": 94,
   "metadata": {},
   "outputs": [
    {
     "data": {
      "text/plain": [
       "4430"
      ]
     },
     "execution_count": 94,
     "metadata": {},
     "output_type": "execute_result"
    }
   ],
   "source": [
    "len(results[\"Nleaves\"])"
   ]
  },
  {
   "cell_type": "code",
   "execution_count": 14,
   "metadata": {},
   "outputs": [
    {
     "data": {
      "text/plain": [
       "5000"
      ]
     },
     "execution_count": 14,
     "metadata": {},
     "output_type": "execute_result"
    }
   ],
   "source": [
    "len(gt_jets)"
   ]
  },
  {
   "cell_type": "code",
   "execution_count": 15,
   "metadata": {},
   "outputs": [],
   "source": [
    "# NleavesMin =5\n",
    "# NleavesMax=11\n",
    "\n",
    "# \"\"\" Keep only trees with leaves between NleavesMin and NleavesMax\"\"\"\n",
    "# smallJetIndex =[i for i,gt_jet in enumerate(gt_jets)  if NleavesMin<=len(gt_jet[\"leaves\"])<NleavesMax]\n",
    "# MaxNjets = 4000\n",
    "# # results = {\"Z\":[], \"trellis_MLE\":[], \"RunTime\":[]}\n",
    "\n",
    "# if len(smallJetIndex)>0:\n",
    "\n",
    "#     GT_jets = np.asarray(gt_jets)[smallJetIndex]\n",
    "#     BSO_jet = bs_jets[smallJetIndex]\n",
    "#     Greedy_jet = greedy_jets[smallJetIndex]\n",
    "\n",
    "#     \"\"\" Total number of trees to run the trellis\"\"\"\n",
    "#     totJets = np.min([MaxNjets,len(smallJetIndex)])\n",
    "\n",
    "#     results[\"totJets\"] = totJets\n",
    "#     results[\"Nleaves\"] = [len(GT_jets[m][\"leaves\"]) for m in range(totJets)]\n",
    "#     results[\"gt_llh\"]= [np.sum(GT_jets[m][\"logLH\"]) for m in range(totJets)]\n",
    "#     results[\"bs_llh\"]=  [np.sum(BSO_jet[m][\"logLH\"]) if np.sum(BSO_jet[m][\"logLH\"])<np.inf else 0 for m in range(totJets) ]\n",
    "#     results[\"gd_llh\"]=  [np.sum(Greedy_jet[m][\"logLH\"]) if np.sum(Greedy_jet[m][\"logLH\"])<np.inf else 0 for m in range(totJets) ]"
   ]
  },
  {
   "cell_type": "code",
   "execution_count": null,
   "metadata": {},
   "outputs": [],
   "source": []
  },
  {
   "cell_type": "raw",
   "metadata": {},
   "source": [
    "For Ginkgo jets, the model is permutation invariant for the momentum, thus the momentum is independent of the particular latent structure. However, the values for \"delta\" depend on the latent structure. So, if we recursively keep  sub-tree A with the latent structure  that maximizes the logLH, there are cases where sub-tree B with a different latent structure (with a lower logLH) has a smaller value for delta. This could result in the logLH for the parent being greater for the case where B is the child instead of A (note that both A and B have the same value for the momentum of their root node). The trellis doesn't take this into account, because this would mean going over every possible path, which makes the algorithm inefficient. However, this may happen occasionally, and the greater the number of leaves, the smaller is the weight of the contribution to the total logLH coming from a  splitting like the one just mentioned.\n",
    "\n",
    " I believe that the problem is not with the trellis but with the current implementation on ginkgo jets, which is making the trellis to be an approximate (though really good) algorithm for the MAP value on ginkgo jets. The reason is that in this model to find an exact solution for the MAP value we should consider 3 generations ((children, parent and grandparent) and we currently consider only children and parent. This would also make the algorithm much slower too."
   ]
  },
  {
   "cell_type": "code",
   "execution_count": 269,
   "metadata": {},
   "outputs": [],
   "source": [
    "PassJetIndex =[i for i,gt_jet in enumerate(results[\"trellis_MLE\"])  if results[\"trellis_MLE\"][i] >=results[\"gt_llh\"][i]]"
   ]
  },
  {
   "cell_type": "markdown",
   "metadata": {},
   "source": [
    "### Upper bound on jets log LH"
   ]
  },
  {
   "cell_type": "code",
   "execution_count": null,
   "metadata": {},
   "outputs": [],
   "source": []
  },
  {
   "cell_type": "code",
   "execution_count": 82,
   "metadata": {},
   "outputs": [],
   "source": [
    "NleavesMin =5\n",
    "NleavesMax=11\n",
    "\n",
    "load=True\n",
    "outdir = \"experiments/invMassGinkgo/\"\n",
    "if load:\n",
    "    in_filename = os.path.join(outdir, \"TrellisTruthBSGreedy_\"+label+\"_\"+str(NleavesMin)+\"_\"+str(NleavesMax)+\".pkl\")\n",
    "    with open(in_filename, \"rb\") as fd:\n",
    "        results = pickle.load(fd, encoding='latin-1')"
   ]
  },
  {
   "cell_type": "code",
   "execution_count": null,
   "metadata": {},
   "outputs": [],
   "source": []
  },
  {
   "cell_type": "code",
   "execution_count": 13,
   "metadata": {},
   "outputs": [],
   "source": [
    "def select_jets(gt_jets):\n",
    "    \"\"\" Keep only trees with leaves between NleavesMin and NleavesMax\"\"\"\n",
    "    smallJetIndex =[i for i,gt_jet in enumerate(gt_jets)  if NleavesMin<=len(gt_jet[\"leaves\"])<NleavesMax]\n",
    "    GT_jets = np.asarray(gt_jets)[smallJetIndex]\n",
    "\n",
    "    return GT_jets"
   ]
  },
  {
   "cell_type": "code",
   "execution_count": 14,
   "metadata": {},
   "outputs": [],
   "source": [
    "Astar_gt = select_jets(gt_jets)"
   ]
  },
  {
   "cell_type": "code",
   "execution_count": 15,
   "metadata": {},
   "outputs": [
    {
     "data": {
      "text/plain": [
       "4430"
      ]
     },
     "execution_count": 15,
     "metadata": {},
     "output_type": "execute_result"
    }
   ],
   "source": [
    "len(Astar_gt)"
   ]
  },
  {
   "cell_type": "code",
   "execution_count": 73,
   "metadata": {},
   "outputs": [],
   "source": [
    "jet_vec = Astar_gt[0][\"content\"][0]"
   ]
  },
  {
   "cell_type": "code",
   "execution_count": 74,
   "metadata": {},
   "outputs": [
    {
     "data": {
      "text/plain": [
       "29.999999999999513"
      ]
     },
     "execution_count": 74,
     "metadata": {},
     "output_type": "execute_result"
    }
   ],
   "source": [
    "np.sqrt(jet_vec[0]**2-np.linalg.norm(jet_vec[1::])**2)"
   ]
  },
  {
   "cell_type": "code",
   "execution_count": 75,
   "metadata": {},
   "outputs": [
    {
     "data": {
      "text/plain": [
       "{'root_id': 0,\n",
       " 'tree': array([[ 1, 14],\n",
       "        [ 2, 13],\n",
       "        [ 3, 12],\n",
       "        [ 4, 11],\n",
       "        [ 5, 10],\n",
       "        [ 6,  9],\n",
       "        [ 7,  8],\n",
       "        [-1, -1],\n",
       "        [-1, -1],\n",
       "        [-1, -1],\n",
       "        [-1, -1],\n",
       "        [-1, -1],\n",
       "        [-1, -1],\n",
       "        [-1, -1],\n",
       "        [15, 16],\n",
       "        [-1, -1],\n",
       "        [-1, -1]]),\n",
       " 'content': array([[401.1234224 , 230.94010768, 230.94010768, 230.94010768],\n",
       "        [309.52302075, 179.87132722, 178.36989079, 176.44572323],\n",
       "        [298.21950099, 173.75326464, 172.68533187, 168.91089618],\n",
       "        [197.48688541, 121.30629024, 112.2744643 , 107.74501025],\n",
       "        [177.05831638, 107.58013355, 102.17675728,  96.49321179],\n",
       "        [174.0111227 , 105.6801559 , 100.42803104,  94.87698609],\n",
       "        [157.20260791,  95.69725393,  90.23789822,  85.99148259],\n",
       "        [150.28670557,  91.454086  ,  86.32935603,  82.1809349 ],\n",
       "        [  6.91591023,   4.24317273,   3.90854673,   3.810552  ],\n",
       "        [ 16.80851689,   9.98290325,  10.19013404,   8.88550465],\n",
       "        [  3.04718527,   1.89997253,   1.74872138,   1.6162211 ],\n",
       "        [ 20.42856902,  13.72615669,  10.09770702,  11.25179847],\n",
       "        [100.73261558,  52.44697441,  60.41086757,  61.16588593],\n",
       "        [ 11.30351647,   6.11806067,   5.68455702,   7.53482518],\n",
       "        [ 91.60040165,  51.06878045,  52.57021688,  54.49438444],\n",
       "        [ 22.28848456,  11.69920243,  13.00016666,  13.50153816],\n",
       "        [ 69.31191398,  39.36957628,  39.57004844,  40.99284443]]),\n",
       " 'LambdaRoot': tensor(1.5000),\n",
       " 'Lambda': tensor(1.5000),\n",
       " 'Delta_0': tensor(900.),\n",
       " 'pt_cut': 16.0,\n",
       " 'algorithm': 'truth',\n",
       " 'deltas': array([900.        , 501.89483643, 393.55914307,  71.31130219,\n",
       "         25.13262177,  24.14356995,  17.28217506,   0.        ,\n",
       "          0.        ,   0.        ,   0.        ,   0.        ,\n",
       "          0.        ,   0.        ,  49.34761047,   0.        ,\n",
       "          0.        ]),\n",
       " 'draws': array([None, tensor(0.5577), tensor(0.7841), tensor(0.1812),\n",
       "        tensor(0.3524), tensor(0.9606), tensor(0.7158), tensor(0.9131),\n",
       "        tensor(0.8279), tensor(0.1343), tensor(0.5283), tensor(0.0299),\n",
       "        tensor(0.0434), tensor(0.1902), tensor(0.8550), tensor(0.1745),\n",
       "        tensor(0.4766)], dtype=object),\n",
       " 'leaves': array([[150.28670557,  91.454086  ,  86.32935603,  82.1809349 ],\n",
       "        [  6.91591023,   4.24317273,   3.90854673,   3.810552  ],\n",
       "        [ 16.80851689,   9.98290325,  10.19013404,   8.88550465],\n",
       "        [  3.04718527,   1.89997253,   1.74872138,   1.6162211 ],\n",
       "        [ 20.42856902,  13.72615669,  10.09770702,  11.25179847],\n",
       "        [100.73261558,  52.44697441,  60.41086757,  61.16588593],\n",
       "        [ 11.30351647,   6.11806067,   5.68455702,   7.53482518],\n",
       "        [ 22.28848456,  11.69920243,  13.00016666,  13.50153816],\n",
       "        [ 69.31191398,  39.36957628,  39.57004844,  40.99284443]]),\n",
       " 'M_Hard': 30.0,\n",
       " 'logLH': array([-14.19206905,  -9.04157257,  -9.64670467,  -6.55584335,\n",
       "         -6.28573132,  -5.87832546,  -2.59981298,   0.        ,\n",
       "          0.        ,   0.        ,   0.        ,   0.        ,\n",
       "          0.        ,   0.        ,  -3.93440366,   0.        ,\n",
       "          0.        ]),\n",
       " 'dij': [[-14.192069053649902,\n",
       "   1.8504128491111628e-08,\n",
       "   0.0011874009007703204,\n",
       "   6.378299721616079],\n",
       "  [-9.041572570800781,\n",
       "   2.9486494095368557e-07,\n",
       "   0.01769496919117772,\n",
       "   1.2341330573023988],\n",
       "  [-9.64670467376709,\n",
       "   4.964210037634115e-07,\n",
       "   0.013562604754743407,\n",
       "   86.80281393256462],\n",
       "  [-6.555843353271484,\n",
       "   5.016292182512862e-07,\n",
       "   0.011042652349229142,\n",
       "   3.206466718200549],\n",
       "  [-6.285731315612793,\n",
       "   2.32181143633142e-08,\n",
       "   0.0004934797708611964,\n",
       "   0.0032904846681767355],\n",
       "  [-5.878325462341309,\n",
       "   9.231916198488857e-08,\n",
       "   0.0015971992983428015,\n",
       "   0.32502556744899574],\n",
       "  [-2.5998129844665527,\n",
       "   8.124815254714739e-09,\n",
       "   0.00012850701436638195,\n",
       "   0.004276874370779292],\n",
       "  [-3.934403657913208,\n",
       "   6.983630209304641e-07,\n",
       "   0.0021759261682129847,\n",
       "   0.6655628761430048]],\n",
       " 'ConstPhi': [1.0241277953515937,\n",
       "  1.0204819439605692,\n",
       "  1.0348598970054783,\n",
       "  1.013263979922824,\n",
       "  0.9791726077557114,\n",
       "  1.0907613184336804,\n",
       "  1.0746935618055709,\n",
       "  1.0874285343074694,\n",
       "  1.0542341820398453],\n",
       " 'PhiDelta': [-2.1046068539022285,\n",
       "  -2.0995662368197614,\n",
       "  -2.1893267671455305,\n",
       "  -2.1106341124708794,\n",
       "  -2.116368679269381,\n",
       "  -2.1189201645311426,\n",
       "  -2.1172885791782616,\n",
       "  1.0389216592869455],\n",
       " 'PhiDeltaRel': [3.1530179886136604,\n",
       "  3.143937942571676,\n",
       "  3.2325694754449925,\n",
       "  3.1305989419907574,\n",
       "  3.1411780628908543,\n",
       "  3.1439331873730154,\n",
       "  3.1412556387408497,\n",
       "  0.02327857724956095],\n",
       " 'sumlogLH': -58.13446307182312}"
      ]
     },
     "execution_count": 75,
     "metadata": {},
     "output_type": "execute_result"
    }
   ],
   "source": [
    "Astar_gt[0]"
   ]
  },
  {
   "cell_type": "code",
   "execution_count": 28,
   "metadata": {},
   "outputs": [
    {
     "data": {
      "text/plain": [
       "dict_keys(['Z', 'trellis_MLE', 'RunTime', 'totJets', 'Nleaves', 'gt_llh', 'bs_llh', 'gd_llh'])"
      ]
     },
     "execution_count": 28,
     "metadata": {},
     "output_type": "execute_result"
    }
   ],
   "source": [
    "results.keys()"
   ]
  },
  {
   "cell_type": "code",
   "execution_count": 29,
   "metadata": {},
   "outputs": [
    {
     "data": {
      "text/plain": [
       "-58.13446307182312"
      ]
     },
     "execution_count": 29,
     "metadata": {},
     "output_type": "execute_result"
    }
   ],
   "source": [
    "results[\"gt_llh\"][0]"
   ]
  },
  {
   "cell_type": "code",
   "execution_count": 16,
   "metadata": {},
   "outputs": [],
   "source": [
    "def upperBoundInnersBasic(jet):\n",
    "    \"\"\" Get upper bound on logLH of all inner nodes\"\"\"\n",
    "    lam = jet[\"Lambda\"].numpy()\n",
    "    lamRoot = jet[\"LambdaRoot\"].numpy()\n",
    "    t_cut =jet[\"pt_cut\"]\n",
    "    Nleaves = len(jet[\"leaves\"])\n",
    "    \n",
    "    llhRoot=-np.log(1 - np.exp(- lamRoot)) + np.log(lamRoot) - np.log(t_cut)\n",
    "    llh=-np.log(1 - np.exp(- lam)) + np.log(lam) - np.log(t_cut)\n",
    "    \n",
    "    return llhRoot+(Nleaves-2)*llh+ (Nleaves-1)*np.log(1 / (4 * np.pi))\n",
    "    "
   ]
  },
  {
   "cell_type": "code",
   "execution_count": 73,
   "metadata": {},
   "outputs": [],
   "source": [
    "def upperBoundOuters(jet):\n",
    "    \"\"\"\n",
    "    We find the minimum possible value for t_p of a leaf. We do this by getting the max t among all leaves and calculate tp_min=t_p and t2=(sqrt(tp)-sqrt(t_max))^2. We could improve this by replacing t_cut by  the 1st t_p that is above t_cut among all pairings of leaves.\n",
    "    \"\"\"\n",
    "    \n",
    "    lam = jet[\"Lambda\"].numpy()\n",
    "    t_cut =jet[\"pt_cut\"]\n",
    "    leaves = jet[\"leaves\"]\n",
    "    Nleaves = len(jet[\"leaves\"])\n",
    "\n",
    "    \"\"\"Find minimum invariant mass for each leaf possible parent, i.e. for each leaf find the pair that minimizes the invariant mass\"\"\"\n",
    "#     tpi = [\n",
    "#                 min([   (leaves[k]+leaves[j])[0]**2-np.linalg.norm((leaves[k]+leaves[j])[1::])**2\n",
    "             \n",
    "#                 for j in np.concatenate((np.arange(k),np.arange(k+1,len(leaves)))) ])\n",
    "#            for k in range(len(leaves))\n",
    "#           ]\n",
    "#     llh = sum([-np.log(1 - np.exp(- lam)) + np.log(1 - np.exp(-lam * t_cut / tP)) for tP in tpi])    \n",
    "\n",
    "    tmax=    max( [ leaves[k][0]**2-np.linalg.norm(leaves[k][1::])**2\n",
    "           for k in range(len(leaves))\n",
    "          ])\n",
    "    tp2 = (np.sqrt(t_cut) - np.sqrt(tmax)) ** 2\n",
    "    \n",
    "    \n",
    "    llh = -np.log(1 - np.exp(- lam)) + np.log(1 - np.exp(-lam * t_cut / tp2))\n",
    "    \n",
    "    return llh*Nleaves"
   ]
  },
  {
   "cell_type": "code",
   "execution_count": 37,
   "metadata": {},
   "outputs": [
    {
     "data": {
      "text/plain": [
       "array([1, 2, 5])"
      ]
     },
     "execution_count": 37,
     "metadata": {},
     "output_type": "execute_result"
    }
   ],
   "source": [
    "np.sort([1,5,2])"
   ]
  },
  {
   "cell_type": "code",
   "execution_count": 59,
   "metadata": {},
   "outputs": [],
   "source": [
    "def upperBoundInners_1(jet):\n",
    "    \"\"\" Get upper bound on logLH of all inner nodes\"\"\"\n",
    "    lam = jet[\"Lambda\"].numpy()\n",
    "    lamRoot = jet[\"LambdaRoot\"].numpy()\n",
    "    t_cut =jet[\"pt_cut\"]\n",
    "    leaves = jet[\"leaves\"]\n",
    "    Nleaves = len(jet[\"leaves\"])\n",
    "    \n",
    "    jet_vec = jet[\"content\"][0]\n",
    "    jetMass2 = jet_vec[0]**2-np.linalg.norm(jet_vec[1::])**2\n",
    "#     print(\"jetMass2 =\", jetMass2)\n",
    "    \n",
    "    \"\"\"Find minimum invariant mass for each leaf possible parent, i.e. for each leaf find the pair that minimizes the invariant mass\"\"\"\n",
    "#     tpi = [\n",
    "#                 min([   (leaves[k]+leaves[j])[0]**2-np.linalg.norm((leaves[k]+leaves[j])[1::])**2\n",
    "             \n",
    "#                 for j in np.concatenate((np.arange(k),np.arange(k+1,len(leaves)))) ])\n",
    "#            for k in range(len(leaves))\n",
    "#           ]\n",
    "    \n",
    "    \n",
    "#     tpi=np.sort(tpi)\n",
    "# # #    Find the smallest tpi that is greater than t_cut\n",
    "#     idx = np.searchsorted(tpi, t_cut)\n",
    "#     if idx>=len(tpi)-1:  t_min=t_cut \n",
    "#     else: t_min=tpi[idx]\n",
    "    \n",
    "    llh=-np.log(1 - np.exp(- lam)) + np.log(lam) - np.log(t_cut) - lam * t_cut / jetMass2\n",
    "    \n",
    "    llhRoot=-np.log(1 - np.exp(- lam)) + np.log(lam) - np.log(jetMass2) - lam *  t_cut/ jetMass2\n",
    "    \n",
    "#     llh=-np.log(1 - np.exp(- lam)) + np.log(lam) - np.log(t_min) - lam * t_min / jetMass2\n",
    "    \n",
    "#     llhRoot=-np.log(1 - np.exp(- lam)) + np.log(lam) - np.log(jetMass2) - lam *  t_min / jetMass2\n",
    "\n",
    "    \n",
    "    return llhRoot+(len(leaves)-2)*llh+ (Nleaves-1)*np.log(1 / (4 * np.pi))"
   ]
  },
  {
   "cell_type": "code",
   "execution_count": null,
   "metadata": {},
   "outputs": [],
   "source": []
  },
  {
   "cell_type": "code",
   "execution_count": 76,
   "metadata": {},
   "outputs": [],
   "source": [
    "def upperBoundInners(jet):\n",
    "    \"\"\" Get upper bound on logLH of all inner nodes.\n",
    "    We bound t_p in the exponential by \"jet mass\" which is the invariant mass of the sum of the leaves under each subtree.\n",
    "    We bound t_p in the denominator and t in the exponential by the max{min tp among all leaves pairings, t_cut}. A better bound but more time consuming would be to get the 1st t_p that is above t_cut. These are inner nodes, so the minimum possible value of t_p (their parent) is given by the minimum pairing of leaves above t_cut, regardless of the subtlety of t1=t_p and t2=(sqrt(tp)-sqrt(t_max))^2. Because in the worst case scenario t_p=t and we have t>t_cut.\n",
    "    \"\"\"\n",
    "    lam = jet[\"Lambda\"].numpy()\n",
    "    lamRoot = jet[\"LambdaRoot\"].numpy()\n",
    "    t_cut =jet[\"pt_cut\"]\n",
    "    leaves = jet[\"leaves\"]\n",
    "    Nleaves = len(jet[\"leaves\"])\n",
    "    \n",
    "    jet_vec = jet[\"content\"][0]\n",
    "    jetMass2 = jet_vec[0]**2-np.linalg.norm(jet_vec[1::])**2\n",
    "#     print(\"jetMass2 =\", jetMass2)\n",
    "    \n",
    "    \"\"\"Find minimum invariant mass for each leaf possible parent, i.e. for each leaf find the pair that minimizes the invariant mass\"\"\"\n",
    "    tpi = [\n",
    "                min([   (leaves[k]+leaves[j])[0]**2-np.linalg.norm((leaves[k]+leaves[j])[1::])**2\n",
    "             \n",
    "                for j in np.concatenate((np.arange(k),np.arange(k+1,len(leaves)))) ])\n",
    "           for k in range(len(leaves))\n",
    "          ]\n",
    "    \n",
    "    \n",
    "    tpi=np.sort(tpi)\n",
    "# #    Find the smallest tpi that is greater than t_cut\n",
    "    idx = np.searchsorted(tpi, t_cut)\n",
    "    if idx>=len(tpi)-1:  t_min=t_cut \n",
    "    else: t_min=tpi[idx]\n",
    "    \n",
    "#     llh=-np.log(1 - np.exp(- lam)) + np.log(lam) - np.log(t_cut) - lam * t_cut / jetMass2\n",
    "    \n",
    "#     llhRoot=-np.log(1 - np.exp(- lam)) + np.log(lam) - np.log(jetMass2) - lam *  t_cut/ jetMass2\n",
    "    \n",
    "    llh=-np.log(1 - np.exp(- lam)) + np.log(lam) - np.log(t_min) - lam * t_min / jetMass2\n",
    "    \n",
    "    llhRoot=-np.log(1 - np.exp(- lam)) + np.log(lam) - np.log(jetMass2) - lam *  t_min / jetMass2\n",
    "\n",
    "    \n",
    "    return llhRoot+(len(leaves)-2)*llh+ (Nleaves-1)*np.log(1 / (4 * np.pi))"
   ]
  },
  {
   "cell_type": "code",
   "execution_count": null,
   "metadata": {},
   "outputs": [],
   "source": []
  },
  {
   "cell_type": "code",
   "execution_count": null,
   "metadata": {},
   "outputs": [],
   "source": []
  },
  {
   "cell_type": "code",
   "execution_count": 60,
   "metadata": {},
   "outputs": [],
   "source": [
    "def upperBoundInners_2(jet):\n",
    "    \"\"\" Get upper bound on logLH of all inner nodes\"\"\"\n",
    "    lam = jet[\"Lambda\"].numpy()\n",
    "    lamRoot = jet[\"LambdaRoot\"].numpy()\n",
    "    t_cut =jet[\"pt_cut\"]\n",
    "    leaves = jet[\"leaves\"]\n",
    "    Nleaves = len(jet[\"leaves\"])\n",
    "    \n",
    "    jet_vec = jet[\"content\"][0]\n",
    "    jetMass2 = jet_vec[0]**2-np.linalg.norm(jet_vec[1::])**2\n",
    "#     print(\"jetMass2 =\", jetMass2)\n",
    "    \n",
    "    \"\"\"Find minimum invariant mass for each leaf possible parent, i.e. for each leaf find the pair that minimizes the invariant mass\"\"\"\n",
    "#     tpi = [\n",
    "#                 min([   (leaves[k]+leaves[j])[0]**2-np.linalg.norm((leaves[k]+leaves[j])[1::])**2\n",
    "             \n",
    "#                 for j in np.concatenate((np.arange(k),np.arange(k+1,len(leaves)))) ])\n",
    "#            for k in range(len(leaves))\n",
    "#           ]\n",
    "    \n",
    "    \n",
    "#     tpi=np.sort(tpi)\n",
    "# # #    Find the smallest tpi that is greater than t_cut\n",
    "#     idx = np.searchsorted(tpi, t_cut)\n",
    "#     if idx>=len(tpi)-1:  t_min=t_cut \n",
    "#     else: t_min=tpi[idx]\n",
    "\n",
    "\n",
    "    tmax=    max( [ leaves[k][0]**2-np.linalg.norm(leaves[k][1::])**2\n",
    "           for k in range(len(leaves))\n",
    "          ])\n",
    "    tp2 = (np.sqrt(t_cut) - np.sqrt(tmax)) ** 2\n",
    "    \n",
    "#     llh=-np.log(1 - np.exp(- lam)) + np.log(lam) - np.log(t_cut) - lam * t_cut / jetMass2\n",
    "    \n",
    "#     llhRoot=-np.log(1 - np.exp(- lam)) + np.log(lam) - np.log(jetMass2) - lam *  t_cut/ jetMass2\n",
    "    \n",
    "    llh=-np.log(1 - np.exp(- lam)) + np.log(lam) - np.log(tp2) - lam * tp2 / jetMass2\n",
    "    \n",
    "    llhRoot=-np.log(1 - np.exp(- lam)) + np.log(lam) - np.log(jetMass2) - lam *  tp2 / jetMass2\n",
    "\n",
    "    \n",
    "    return llhRoot+(len(leaves)-2)*llh+ (Nleaves-1)*np.log(1 / (4 * np.pi))"
   ]
  },
  {
   "cell_type": "code",
   "execution_count": 84,
   "metadata": {},
   "outputs": [
    {
     "data": {
      "text/plain": [
       "tensor(-16.9171)"
      ]
     },
     "execution_count": 84,
     "metadata": {},
     "output_type": "execute_result"
    }
   ],
   "source": [
    "upperBoundInner(Astar_gt[0])"
   ]
  },
  {
   "cell_type": "code",
   "execution_count": 80,
   "metadata": {},
   "outputs": [
    {
     "data": {
      "text/plain": [
       "2.2676185070835864"
      ]
     },
     "execution_count": 80,
     "metadata": {},
     "output_type": "execute_result"
    }
   ],
   "source": [
    "upperBoundOuter(Astar_gt[0])"
   ]
  },
  {
   "cell_type": "code",
   "execution_count": 85,
   "metadata": {},
   "outputs": [
    {
     "data": {
      "text/plain": [
       "-52.601919336416344"
      ]
     },
     "execution_count": 85,
     "metadata": {},
     "output_type": "execute_result"
    }
   ],
   "source": [
    "results[\"trellis_MLE\"][0]"
   ]
  },
  {
   "cell_type": "code",
   "execution_count": 114,
   "metadata": {},
   "outputs": [
    {
     "data": {
      "text/plain": [
       "array([1, 2, 4, 5])"
      ]
     },
     "execution_count": 114,
     "metadata": {},
     "output_type": "execute_result"
    }
   ],
   "source": [
    "np.sort([4,1,5,2])"
   ]
  },
  {
   "cell_type": "code",
   "execution_count": 77,
   "metadata": {},
   "outputs": [],
   "source": [
    "def get_bound(jets, results):\n",
    "#     diff = np.asarray([upperBoundInners(jets[i])+upperBoundOuter(jets[i])-results[\"trellis_MLE\"][i] for i in range(len(jets))])\n",
    "    basic_bound= np.asarray([upperBoundInnersBasic(jets[i])+upperBoundOuters(jets[i]) for i in range(len(jets))])\n",
    "    bound= np.asarray([upperBoundInners(jets[i])+upperBoundOuters(jets[i]) for i in range(len(jets))])\n",
    "    \n",
    "#     fraction = diff /np.asarray([results[\"trellis_MLE\"][i] for i in range(len(jets))])\n",
    "    return bound, basic_bound#, fraction"
   ]
  },
  {
   "cell_type": "code",
   "execution_count": 78,
   "metadata": {},
   "outputs": [],
   "source": [
    "Bound, basic_bound = get_bound(Astar_gt,results)"
   ]
  },
  {
   "cell_type": "code",
   "execution_count": 21,
   "metadata": {},
   "outputs": [
    {
     "data": {
      "text/plain": [
       "4430"
      ]
     },
     "execution_count": 21,
     "metadata": {},
     "output_type": "execute_result"
    }
   ],
   "source": [
    "len(results[\"trellis_MLE\"])"
   ]
  },
  {
   "cell_type": "code",
   "execution_count": 91,
   "metadata": {},
   "outputs": [
    {
     "data": {
      "text/plain": [
       "array([4, 8, 7])"
      ]
     },
     "execution_count": 91,
     "metadata": {},
     "output_type": "execute_result"
    }
   ],
   "source": [
    "sum(np.random.randint(6,size=(2,3)))"
   ]
  },
  {
   "cell_type": "code",
   "execution_count": null,
   "metadata": {},
   "outputs": [],
   "source": []
  },
  {
   "cell_type": "code",
   "execution_count": 22,
   "metadata": {},
   "outputs": [
    {
     "data": {
      "text/plain": [
       "4430"
      ]
     },
     "execution_count": 22,
     "metadata": {},
     "output_type": "execute_result"
    }
   ],
   "source": [
    "len(Bound)"
   ]
  },
  {
   "cell_type": "code",
   "execution_count": 43,
   "metadata": {},
   "outputs": [
    {
     "data": {
      "image/png": "[encoded data removed]",
      "text/plain": [
       "<Figure size 576x432 with 2 Axes>"
      ]
     },
     "metadata": {
      "needs_background": "light"
     },
     "output_type": "display_data"
    }
   ],
   "source": [
    "fig2, (axes) = plt.subplots(nrows=1, ncols=1)\n",
    "fig2.set_size_inches(8,6)\n",
    "plt.tight_layout(pad=0.4, w_pad=5, h_pad=1.0)\n",
    "markersize = 5\n",
    "\n",
    "for i in range(1):\n",
    "    \n",
    "    x = np.linspace(min(np.asarray(results[\"trellis_MLE\"])), max(np.asarray(results[\"trellis_MLE\"])), 1000)\n",
    "    axes.plot(x, x, color=\"black\", linestyle='--')\n",
    "    \n",
    "    cl1 = axes.scatter(np.asarray(results[\"trellis_MLE\"]), Bound, c=np.asarray(results[\"Nleaves\"]), marker=\"X\", s=markersize)\n",
    "    \n",
    "    cb = fig2.colorbar(cl1, ax=axes, fraction=0.15, shrink=1.0, aspect=20)\n",
    "    cb.set_label(label=\"Number of leaves\", size=25)\n",
    "    cb.ax.tick_params(labelsize=15)\n",
    "    \n",
    "\n",
    "    cl1.axes.tick_params(labelsize=25) \n",
    "#     axes.set_xlabel(r\"Trellis MAP $\\ell = log p(x,\\text{H}_{\\text{MAP}})$\", fontsize=25)\n",
    "    axes.set_xlabel(r\"$ \\ell $ = log p(x,$H_{MAP}$)\", fontsize=25)\n",
    "    axes.set_ylabel(r\" Upper Bound on $\\ell$\", fontsize=25)\n",
    "    \n",
    "    axes.grid(which='both', axis='both', linestyle='--')\n",
    "#     axes[i].set_title(r\"\"+jetLabels[i][0:-4]+\" \"+jetLabels[i][-4::], fontsize = 20)\n",
    "#     axes.legend(loc='best', fontsize=15)\n",
    "\n",
    "saveFig=False    \n",
    "if saveFig:\n",
    "    fig2.savefig(plotDir+\"UpperBoundonLogLH.pdf\", bbox_inches='tight')\n",
    "    \n",
    "plt.show()"
   ]
  },
  {
   "cell_type": "code",
   "execution_count": null,
   "metadata": {},
   "outputs": [],
   "source": []
  },
  {
   "cell_type": "code",
   "execution_count": null,
   "metadata": {},
   "outputs": [],
   "source": []
  },
  {
   "cell_type": "code",
   "execution_count": 80,
   "metadata": {},
   "outputs": [
    {
     "data": {
      "image/png": "[encoded data removed]",
      "text/plain": [
       "<Figure size 576x432 with 2 Axes>"
      ]
     },
     "metadata": {
      "needs_background": "light"
     },
     "output_type": "display_data"
    }
   ],
   "source": [
    "fig2, (axes) = plt.subplots(nrows=1, ncols=1)\n",
    "fig2.set_size_inches(8,6)\n",
    "plt.tight_layout(pad=0.4, w_pad=5, h_pad=1.0)\n",
    "markersize = 5\n",
    "\n",
    "for i in range(1):\n",
    "    \n",
    "    x = np.linspace(min(np.asarray(results[\"trellis_MLE\"])), max(np.asarray(results[\"trellis_MLE\"])), 1000)\n",
    "    axes.plot(x, x, color=\"black\", linestyle='--')\n",
    "    \n",
    "    cl1 = axes.scatter(np.asarray(results[\"trellis_MLE\"]), Bound, c=np.asarray(results[\"Nleaves\"]), marker=\"X\", s=markersize)\n",
    "    axes.scatter(np.asarray(results[\"trellis_MLE\"]), basic_bound, c='black', marker=\"X\", s=markersize)\n",
    "    \n",
    "    cb = fig2.colorbar(cl1, ax=axes, fraction=0.15, shrink=1.0, aspect=20)\n",
    "    cb.set_label(label=\"Number of leaves\", size=25)\n",
    "    cb.ax.tick_params(labelsize=15)\n",
    "    \n",
    "\n",
    "    cl1.axes.tick_params(labelsize=25) \n",
    "#     axes.set_xlabel(r\"Trellis MAP $\\ell = log p(x,\\text{H}_{\\text{MAP}})$\", fontsize=25)\n",
    "    axes.set_xlabel(r\"$ \\ell $ = log p(x,$H_{MAP}$)\", fontsize=25)\n",
    "    axes.set_ylabel(r\" Upper Bound on $\\ell$\", fontsize=25)\n",
    "    \n",
    "    axes.grid(which='both', axis='both', linestyle='--')\n",
    "#     axes[i].set_title(r\"\"+jetLabels[i][0:-4]+\" \"+jetLabels[i][-4::], fontsize = 20)\n",
    "#     axes.legend(loc='best', fontsize=15)\n",
    "\n",
    "saveFig=False    \n",
    "if saveFig:\n",
    "    fig2.savefig(plotDir+\"UpperBoundonLogLH.pdf\", bbox_inches='tight')\n",
    "    \n",
    "plt.show()"
   ]
  },
  {
   "cell_type": "code",
   "execution_count": null,
   "metadata": {},
   "outputs": [],
   "source": []
  },
  {
   "cell_type": "code",
   "execution_count": 45,
   "metadata": {},
   "outputs": [
    {
     "data": {
      "image/png": "[encoded data removed]",
      "text/plain": [
       "<Figure size 576x432 with 2 Axes>"
      ]
     },
     "metadata": {
      "needs_background": "light"
     },
     "output_type": "display_data"
    }
   ],
   "source": [
    "fig2, (axes) = plt.subplots(nrows=1, ncols=1)\n",
    "fig2.set_size_inches(8,6)\n",
    "plt.tight_layout(pad=0.4, w_pad=5, h_pad=1.0)\n",
    "markersize = 5\n",
    "\n",
    "for i in range(1):\n",
    "    \n",
    "    x = np.linspace(min(np.asarray(results[\"trellis_MLE\"])), max(np.asarray(results[\"trellis_MLE\"])), 1000)\n",
    "    axes.plot(x, x, color=\"black\", linestyle='--')\n",
    "    \n",
    "    cl1 = axes.scatter(np.asarray(results[\"trellis_MLE\"]), basic_bound, c=np.asarray(results[\"Nleaves\"]), marker=\"X\", s=markersize)\n",
    "    axes.scatter(np.asarray(results[\"trellis_MLE\"]), Bound, c='black', marker=\"X\", s=markersize)\n",
    "    \n",
    "    cb = fig2.colorbar(cl1, ax=axes, fraction=0.15, shrink=1.0, aspect=20)\n",
    "    cb.set_label(label=\"Number of leaves\", size=25)\n",
    "    cb.ax.tick_params(labelsize=15)\n",
    "    \n",
    "\n",
    "    cl1.axes.tick_params(labelsize=25) \n",
    "#     axes.set_xlabel(r\"Trellis MAP $\\ell = log p(x,\\text{H}_{\\text{MAP}})$\", fontsize=25)\n",
    "    axes.set_xlabel(r\"$ \\ell $ = log p(x,$H_{MAP}$)\", fontsize=25)\n",
    "    axes.set_ylabel(r\" Upper Bound on $\\ell$\", fontsize=25)\n",
    "    \n",
    "    axes.grid(which='both', axis='both', linestyle='--')\n",
    "#     axes[i].set_title(r\"\"+jetLabels[i][0:-4]+\" \"+jetLabels[i][-4::], fontsize = 20)\n",
    "#     axes.legend(loc='best', fontsize=15)\n",
    "\n",
    "saveFig=False    \n",
    "if saveFig:\n",
    "    fig2.savefig(plotDir+\"UpperBoundonLogLH.pdf\", bbox_inches='tight')\n",
    "    \n",
    "plt.show()"
   ]
  },
  {
   "cell_type": "code",
   "execution_count": null,
   "metadata": {},
   "outputs": [],
   "source": []
  },
  {
   "cell_type": "code",
   "execution_count": null,
   "metadata": {},
   "outputs": [],
   "source": []
  },
  {
   "cell_type": "markdown",
   "metadata": {},
   "source": [
    "### Average quantities"
   ]
  },
  {
   "cell_type": "code",
   "execution_count": 62,
   "metadata": {},
   "outputs": [
    {
     "data": {
      "text/plain": [
       "4430"
      ]
     },
     "execution_count": 62,
     "metadata": {},
     "output_type": "execute_result"
    }
   ],
   "source": [
    "len(results[\"trellis_MLE\"])"
   ]
  },
  {
   "cell_type": "code",
   "execution_count": 63,
   "metadata": {},
   "outputs": [
    {
     "name": "stdout",
     "output_type": "stream",
     "text": [
      "trellis_MLE  =  -44.117452577901844 +- 9.268461101642783\n",
      "bs_llh  =  -44.54993573551371 +- 9.513844769341212\n",
      "gd_llh  =  -45.639119682063466 +- 9.627095562802928\n",
      "gt_llh  =  -47.381278189525645 +- 10.5317352963611\n"
     ]
    }
   ],
   "source": [
    "algos = [ 'trellis_MLE', 'bs_llh','gd_llh',  'gt_llh']\n",
    "for algo in algos:\n",
    "    print(str(algo) ,\" = \", np.mean(results[str(algo)]), \"+-\", np.std(results[str(algo)]))"
   ]
  },
  {
   "cell_type": "code",
   "execution_count": 64,
   "metadata": {},
   "outputs": [],
   "source": [
    "def getBasicStats(results):\n",
    "    algos = [ 'trellis_MLE', 'bs_llh', 'gd_llh']\n",
    "    for rowalgo in algos:\n",
    "        for colalgo in algos:\n",
    "    #         print(np.asarray(results[str(rowalgo)])-np.asarray(results[str(colalgo)]))\n",
    "    #         print(rowalgo,\"/\",colalgo )\n",
    "            print(rowalgo,\"/\",colalgo ,\" = \", np.mean(np.asarray(results[str(rowalgo)])-np.asarray(results[str(colalgo)])), \"+-\", np.std(np.asarray(results[str(rowalgo)])-np.asarray(results[str(colalgo)])))"
   ]
  },
  {
   "cell_type": "code",
   "execution_count": 65,
   "metadata": {},
   "outputs": [
    {
     "name": "stdout",
     "output_type": "stream",
     "text": [
      "trellis_MLE / trellis_MLE  =  0.0 +- 0.0\n",
      "trellis_MLE / bs_llh  =  0.43248315761185785 +- 0.5120776686251568\n",
      "trellis_MLE / gd_llh  =  1.5216671041616134 +- 1.139760972129449\n",
      "bs_llh / trellis_MLE  =  -0.43248315761185785 +- 0.5120776686251568\n",
      "bs_llh / bs_llh  =  0.0 +- 0.0\n",
      "bs_llh / gd_llh  =  1.0891839465497557 +- 1.1195675860243794\n",
      "gd_llh / trellis_MLE  =  -1.5216671041616134 +- 1.139760972129449\n",
      "gd_llh / bs_llh  =  -1.0891839465497557 +- 1.1195675860243794\n",
      "gd_llh / gd_llh  =  0.0 +- 0.0\n"
     ]
    }
   ],
   "source": [
    "getBasicStats(results)"
   ]
  },
  {
   "cell_type": "code",
   "execution_count": 19,
   "metadata": {},
   "outputs": [],
   "source": [
    "def removeOutliers(scores):\n",
    "#     scores = np.asarray(bg_reject)\n",
    "    scores = np.asarray(scores)\n",
    "    p25 = np.percentile(scores, 1 / 5. * 100.)\n",
    "    p75 = np.percentile(scores, 4 / 5. * 100)\n",
    "\n",
    "    # Get mean and std for the bg rejection\n",
    "    robust_mean = np.mean([scores[i] for i in range(len(scores)) if p25 <= scores[i] <= p75])\n",
    "    robust_std = np.std([scores[i] for i in range(len(scores)) if p25 <= scores[i] <= p75])\n",
    "\n",
    "\n",
    "    indices = [i for i in range(len(scores)) if robust_mean - 3*robust_std <= scores[i] <= robust_mean + 3*robust_std]\n",
    "\n",
    "    new_scores=scores[indices]\n",
    "\n",
    "    return new_scores"
   ]
  },
  {
   "cell_type": "code",
   "execution_count": 20,
   "metadata": {},
   "outputs": [],
   "source": [
    "rmOut={}\n",
    "algos = [ 'trellis_MLE', 'bs_llh', 'gd_llh']\n",
    "for rowalgo in algos:\n",
    "    for colalgo in algos:\n",
    "     rmOut[rowalgo+\"/\"+colalgo] = removeOutliers(np.asarray(results[str(rowalgo)])-np.asarray(results[str(colalgo)]))"
   ]
  },
  {
   "cell_type": "code",
   "execution_count": 21,
   "metadata": {},
   "outputs": [],
   "source": [
    "def getStats(results):\n",
    "    for key in results.keys():\n",
    "        print(key, np.mean(results[key]), \"+-\",np.std(results[key]))"
   ]
  },
  {
   "cell_type": "code",
   "execution_count": 22,
   "metadata": {},
   "outputs": [
    {
     "name": "stdout",
     "output_type": "stream",
     "text": [
      "trellis_MLE/trellis_MLE 0.0 +- 0.0\n",
      "trellis_MLE/bs_llh 101.78805891185063 +- 45.64927975678063\n",
      "trellis_MLE/gd_llh 98.56245765847723 +- 38.5590811183189\n",
      "bs_llh/trellis_MLE -101.78805891185063 +- 45.64927975678063\n",
      "bs_llh/bs_llh 0.0 +- 0.0\n",
      "bs_llh/gd_llh -0.5501274744140213 +- 22.030789064639563\n",
      "gd_llh/trellis_MLE -98.56245765847723 +- 38.5590811183189\n",
      "gd_llh/bs_llh 0.5501274744140213 +- 22.030789064639563\n",
      "gd_llh/gd_llh 0.0 +- 0.0\n"
     ]
    }
   ],
   "source": [
    "getStats(rmOut)"
   ]
  },
  {
   "cell_type": "markdown",
   "metadata": {},
   "source": [
    "### Partition Function plots"
   ]
  },
  {
   "cell_type": "code",
   "execution_count": 66,
   "metadata": {},
   "outputs": [
    {
     "data": {
      "image/png": "[encoded data removed]",
      "text/plain": [
       "<Figure size 504x432 with 2 Axes>"
      ]
     },
     "metadata": {
      "needs_background": "light"
     },
     "output_type": "display_data"
    }
   ],
   "source": [
    "fig2, (axes) = plt.subplots(nrows=1, ncols=1)\n",
    "fig2.set_size_inches(7,6)\n",
    "plt.tight_layout(pad=0.4, w_pad=5, h_pad=1.0)\n",
    "markersize = 5\n",
    "\n",
    "for i in range(1):\n",
    "    \n",
    "#     x = np.linspace(min(np.asarray(results[\"trellis_MLE\"])), max(np.asarray(results[\"trellis_MLE\"])), 1000)\n",
    "#     axes.plot(x, x, color=\"black\", linestyle='--')\n",
    "    \n",
    "    cl1 = axes.scatter(np.asarray(results[\"trellis_MLE\"]), np.asarray(results[\"Z\"]), c=np.asarray(results[\"Nleaves\"]), marker=\"X\", s=markersize)\n",
    "    \n",
    "    cb = fig2.colorbar(cl1, ax=axes, fraction=0.15, shrink=1.0, aspect=20)\n",
    "    cb.set_label(label=\"Number of leaves\", size=25)\n",
    "    cb.ax.tick_params(labelsize=15)\n",
    "    \n",
    "\n",
    "    cl1.axes.tick_params(labelsize=25) \n",
    "#     axes.set_xlabel(r\"Trellis MAP $\\ell = log p(x,\\text{H}_{\\text{MAP}})$\", fontsize=25)\n",
    "    axes.set_xlabel(r\"$ \\ell $ = log p(x,$H_{MAP}$)\", fontsize=25)\n",
    "    axes.set_ylabel(r\" log Z = log $\\sum$ p(x,H)\", fontsize=25)\n",
    "    \n",
    "    axes.grid(which='both', axis='both', linestyle='--')\n",
    "#     axes[i].set_title(r\"\"+jetLabels[i][0:-4]+\" \"+jetLabels[i][-4::], fontsize = 20)\n",
    "#     axes.legend(loc='best', fontsize=15)\n",
    "\n",
    "saveFig=True    \n",
    "if saveFig:\n",
    "    fig2.savefig(plotDir+\"ZvsMLEscatter.pdf\", bbox_inches='tight')\n",
    "    \n",
    "plt.show()"
   ]
  },
  {
   "cell_type": "markdown",
   "metadata": {},
   "source": [
    "### Likelihood plots"
   ]
  },
  {
   "cell_type": "code",
   "execution_count": 31,
   "metadata": {},
   "outputs": [
    {
     "data": {
      "text/plain": [
       "-61.804743225562504"
      ]
     },
     "execution_count": 31,
     "metadata": {},
     "output_type": "execute_result"
    }
   ],
   "source": [
    " min(results[\"trellis_MLE\"])"
   ]
  },
  {
   "cell_type": "code",
   "execution_count": 20,
   "metadata": {},
   "outputs": [
    {
     "data": {
      "image/png": "[encoded data removed]",
      "text/plain": [
       "<Figure size 648x504 with 2 Axes>"
      ]
     },
     "metadata": {
      "needs_background": "light"
     },
     "output_type": "display_data"
    }
   ],
   "source": [
    "fig2, (axes) = plt.subplots(nrows=1, ncols=1)\n",
    "fig2.set_size_inches(9,7)\n",
    "plt.tight_layout(pad=0.4, w_pad=5, h_pad=1.0)\n",
    "markersize = 2\n",
    "\n",
    "for i in range(1):\n",
    "    \n",
    "     \n",
    "    x = np.linspace(min(results[\"gt_llh\"]), max(results[\"trellis_MLE\"]), 1000)\n",
    "    \n",
    "#     axes.scatter(results[\"gt_llh\"], results[\"gd_llh\"], color=\"red\", marker=\"X\", s=markersize, label=\"Greedy\")\n",
    "#     axes.scatter(results[\"gt_llh\"], results[\"bs_llh\"], color='green', marker=\"o\", s=markersize, label=\"Beam Search\")\n",
    "    cl1 = axes.scatter(np.asarray(results[\"gt_llh\"]), np.asarray(results[\"trellis_MLE\"]), c=np.asarray(results[\"Nleaves\"]) ,  marker=\"X\", s=markersize, label=\"Trellis MAP\")\n",
    "    \n",
    "    cb = fig2.colorbar(cl1, ax=axes, fraction=0.15, shrink=1.0, aspect=20)\n",
    "    cb.set_label(label=\"Number of leaves\", size=25)\n",
    "    cb.ax.tick_params(labelsize=15)\n",
    "    \n",
    "#     cl1 = axes.scatter(results[\"gt_llh\"], results[\"trellis_MLE\"],  c=results[\"Nleaves\"],  marker=\"X\", s=markersize, label=\"Trellis MLE\")\n",
    "#     fig2.colorbar(cl1, ax=axes, label=\"Number of leaves\")\n",
    "\n",
    "    axes.tick_params(labelsize=25) \n",
    "    axes.plot(x, x, color=\"black\", linestyle='--')\n",
    "#     axes.set_xlabel(r\"Ground Truth Jet [logLH]\", fontsize=20)\n",
    "#     axes.set_ylabel(r\"Clustered Jet [logLH]\", fontsize=20)\n",
    "#     axes.set_xlim(left=-30, right=-29)\n",
    "#     axes.set_ylim(bottom=-30, top=-29)\n",
    "    axes.grid(which='both', axis='both', linestyle='--')\n",
    "    axes.legend(loc='lower left', fontsize=25)\n",
    "#     cb.ax.tick_params(labelsize=15)\n",
    "    \n",
    "    axes.set_xlabel(r\"$ \\ell $ = log p(x,$H_{Truth}$)\", fontsize=30)\n",
    "    axes.set_ylabel(r\" $ \\ell $ = log p(x,$H^*$)\", fontsize=30)\n",
    "\n",
    "saveFig=False    \n",
    "if saveFig:\n",
    "    fig2.savefig(plotDir+\"llhScatter.pdf\", bbox_inches='tight')\n",
    "    \n",
    "plt.show()"
   ]
  },
  {
   "cell_type": "code",
   "execution_count": 68,
   "metadata": {},
   "outputs": [
    {
     "data": {
      "image/png": "[encoded data removed]",
      "text/plain": [
       "<Figure size 936x432 with 2 Axes>"
      ]
     },
     "metadata": {
      "needs_background": "light"
     },
     "output_type": "display_data"
    }
   ],
   "source": [
    "fig2, (axes) = plt.subplots(nrows=1, ncols=2)\n",
    "fig2.set_size_inches(13,6)\n",
    "plt.tight_layout(pad=0.4, w_pad=8, h_pad=1.0)\n",
    "markersize = 1\n",
    "\n",
    "for i in range(1):\n",
    "    \n",
    "     \n",
    "    x = np.linspace(min(results[\"bs_llh\"]), max(results[\"trellis_MLE\"]), 1000)\n",
    "    \n",
    "    axes[0].scatter(np.asarray(results[\"bs_llh\"]), np.asarray(results[\"trellis_MLE\"]),  color='blue',  marker=\"X\", s=markersize, label=\"Trellis MAP\")\n",
    "#     axes[0].scatter(results[\"gt_llh\"], results[\"bs_llh\"], color='green', marker=\"o\", s=markersize, label=\"Beam Search\")\n",
    "#     axes[0].scatter(results[\"gt_llh\"], results[\"gd_llh\"], color=\"red\", marker=\"X\", s=markersize, label=\"Greedy\")\n",
    "#     cl1 = axes.scatter(results[\"gt_llh\"], results[\"trellis_MLE\"],  c=results[\"Nleaves\"],  marker=\"X\", s=markersize, label=\"Trellis MLE\")\n",
    "#     fig2.colorbar(cl1, ax=axes, label=\"Number of leaves\")\n",
    "\n",
    "    axes[0].tick_params(labelsize=25) \n",
    "    axes[0].plot(x, x, color=\"black\", linestyle='--')\n",
    "    axes[0].set_xlabel(r\"$ \\ell $ = log p(x,$H_{BeamSearch}$)\", fontsize=25)\n",
    "    axes[0].set_ylabel(r\"$ \\ell $ = log p(x,$H^*_{Trellis}$)\", fontsize=25)\n",
    "#     axes[0].set_xlim(left=-15, right=10)\n",
    "    axes[0].grid(which='both', axis='both', linestyle='--')\n",
    "#     axes[0].legend(loc='lower left', fontsize=25)\n",
    "    \n",
    "    x = np.linspace(min(results[\"gd_llh\"]), max(results[\"bs_llh\"]), 1000)\n",
    "    \n",
    "    \n",
    "#     axes[1].scatter(np.asarray(results[\"gt_llh\"]), np.asarray(results[\"trellis_MLE\"]),  color='blue',  marker=\"X\", s=markersize, label=\"Trellis MAP\")\n",
    "    axes[1].scatter(results[\"gd_llh\"], results[\"bs_llh\"], color='green', marker=\"o\", s=markersize, label=\"Beam Search\")\n",
    "#     axes[1].scatter(results[\"gt_llh\"], results[\"gd_llh\"], color=\"red\", marker=\"X\", s=markersize, label=\"Greedy\")\n",
    "#     cl1 = axes.scatter(results[\"gt_llh\"], results[\"trellis_MLE\"],  c=results[\"Nleaves\"],  marker=\"X\", s=markersize, label=\"Trellis MLE\")\n",
    "#     fig2.colorbar(cl1, ax=axes, label=\"Number of leaves\")\n",
    "\n",
    "    axes[1].tick_params(labelsize=25) \n",
    "    axes[1].plot(x, x, color=\"black\", linestyle='--')\n",
    "    axes[1].set_xlabel(r\"$ \\ell $ = log p(x,$H_{Greedy}$)\", fontsize=25)\n",
    "    axes[1].set_ylabel(r\"$ \\ell $ = log p(x,$H^*_{beam Search}$)\", fontsize=25)\n",
    "#     axes[1].set_xlim(left=-15, right=10)\n",
    "    axes[1].grid(which='both', axis='both', linestyle='--')\n",
    "#     axes[1].legend(loc='lower left', fontsize=25)\n",
    "\n",
    "saveFig=False    \n",
    "if saveFig:\n",
    "    fig2.savefig(plotDir+\"llhScatter.pdf\", bbox_inches='tight')\n",
    "    \n",
    "plt.show()"
   ]
  },
  {
   "cell_type": "code",
   "execution_count": 26,
   "metadata": {},
   "outputs": [
    {
     "data": {
      "image/png": "[encoded data removed]",
      "text/plain": [
       "<Figure size 504x504 with 1 Axes>"
      ]
     },
     "metadata": {
      "needs_background": "light"
     },
     "output_type": "display_data"
    }
   ],
   "source": [
    "fig2, (axes) = plt.subplots(nrows=1, ncols=1)\n",
    "fig2.set_size_inches(7,7)\n",
    "plt.tight_layout(pad=0.4, w_pad=5, h_pad=1.0)\n",
    "markersize = 2\n",
    "\n",
    "for i in range(1):\n",
    "    \n",
    "     \n",
    "    x = np.linspace(min(results[\"gd_llh\"]), max(results[\"trellis_MLE\"]), 1000)\n",
    "    \n",
    "    axes.scatter(results[\"gt_llh\"], results[\"gd_llh\"], color=\"red\", marker=\"X\", s=markersize, label=\"Greedy\")\n",
    "    axes.scatter(results[\"gt_llh\"], results[\"bs_llh\"], color='green', marker=\"o\", s=markersize, label=\"Beam Search\")\n",
    "    axes.scatter(np.asarray(results[\"gt_llh\"]), np.asarray(results[\"trellis_MLE\"]),  color='blue',  marker=\"X\", s=markersize, label=\"Trellis MAP\")\n",
    "    \n",
    "    \n",
    "#     cl1 = axes.scatter(results[\"gt_llh\"], results[\"trellis_MLE\"],  c=results[\"Nleaves\"],  marker=\"X\", s=markersize, label=\"Trellis MLE\")\n",
    "#     fig2.colorbar(cl1, ax=axes, label=\"Number of leaves\")\n",
    "\n",
    "    axes.tick_params(labelsize=25) \n",
    "    axes.plot(x, x, color=\"black\", linestyle='--')\n",
    "#     axes.set_xlabel(r\"Ground Truth Jet [logLH]\", fontsize=20)\n",
    "#     axes.set_ylabel(r\"Clustered Jet [logLH]\", fontsize=20)\n",
    "#     axes.set_xlim(left=-15, right=10)\n",
    "    axes.grid(which='both', axis='both', linestyle='--')\n",
    "    axes.legend(loc='upper left', fontsize=25)\n",
    "#     cb.ax.tick_params(labelsize=15)\n",
    "    \n",
    "    axes.set_xlabel(r\"$ \\ell $ = log p(x,$H_{Truth}$)\", fontsize=30)\n",
    "    axes.set_ylabel(r\" $ \\ell $ = log p(x,$H^*$)\", fontsize=30)\n",
    "\n",
    "saveFig=False    \n",
    "if saveFig:\n",
    "    fig2.savefig(plotDir+\"llhScatter.pdf\", bbox_inches='tight')\n",
    "    \n",
    "plt.show()"
   ]
  },
  {
   "cell_type": "markdown",
   "metadata": {},
   "source": [
    "# Posterior distribution from sampling"
   ]
  },
  {
   "cell_type": "code",
   "execution_count": 19,
   "metadata": {},
   "outputs": [],
   "source": [
    "from utils import get_logger\n",
    "logger = get_logger(level=logging.WARNING)"
   ]
  },
  {
   "cell_type": "code",
   "execution_count": 20,
   "metadata": {},
   "outputs": [],
   "source": [
    "def trainTestSplit(gt_jets,\n",
    "                   bs_jets,\n",
    "                   greedy_jets, \n",
    "                   TrainTestRatio = 0.8 ,\n",
    "                   NleavesMin = 9\n",
    "                  ):\n",
    "    \"\"\" Keep only trees with leaves between NleavesMin and NleavesMax\"\"\"\n",
    "    smallJetIndex =[i for i,gt_jet in enumerate(gt_jets)  if NleavesMin<=len(gt_jet[\"leaves\"])<NleavesMin+1]\n",
    "    \n",
    "    if len(smallJetIndex)>0:\n",
    "    \n",
    "        train_gt = np.asarray(gt_jets)[smallJetIndex[0:int(TrainTestRatio*len(smallJetIndex))]]\n",
    "        test_gt = np.asarray(gt_jets)[smallJetIndex[int(TrainTestRatio*len(smallJetIndex))::]]\n",
    "        test_BSO_jet = np.asarray(bs_jets)[smallJetIndex[int(TrainTestRatio*len(smallJetIndex))::]]  \n",
    "        test_Greedy_jet = np.asarray(greedy_jets)[smallJetIndex[int(TrainTestRatio*len(smallJetIndex))::]]  \n",
    "        \n",
    "    else:\n",
    "        print(\"There are no jets in the dataset with the required number of leaves \")\n",
    "        \n",
    "    return train_gt, test_gt, test_BSO_jet, test_Greedy_jet"
   ]
  },
  {
   "cell_type": "code",
   "execution_count": 21,
   "metadata": {},
   "outputs": [],
   "source": [
    "# NleavesMin=9\n",
    "\n",
    "# train_gt, test_gt, test_BSO_jet, test_Greedy_jet = trainTestSplit(gt_jets,\n",
    "#                    bs_jets,\n",
    "#                    greedy_jets, \n",
    "#                    TrainTestRatio = 0.8 ,\n",
    "#                     NleavesMin = NleavesMin,\n",
    "#                   )"
   ]
  },
  {
   "cell_type": "code",
   "execution_count": 22,
   "metadata": {},
   "outputs": [],
   "source": [
    "def posteriorDist( gt_jets, \n",
    "                  bs_jets, \n",
    "                  greedy_jets,\n",
    "                  Nsamples = 1,\n",
    "                  NleavesMin =9,\n",
    "                  NleavesMax=10, \n",
    "                  MaxNjets = 1):\n",
    "    \"\"\"Sample trees to build the posterior distribution\"\"\"\n",
    "\n",
    "    \"\"\"Create and fill trellis\"\"\"\n",
    "    results, trellis =  runTrellis(gt_jets, \n",
    "               bs_jets, \n",
    "               greedy_jets,\n",
    "               NleavesMin =NleavesMin, \n",
    "               NleavesMax= NleavesMax, \n",
    "               MaxNjets = MaxNjets)\n",
    "    \n",
    "    \n",
    "    \"\"\"Sampling\"\"\"\n",
    "    treedist = np.asarray(trellis.sample_trees(trellis.root, Nsamples))\n",
    "    \n",
    "    treedistLH = np.exp(treedist)\n",
    "    \n",
    "    return results, treedist, treedistLH"
   ]
  },
  {
   "cell_type": "code",
   "execution_count": 23,
   "metadata": {},
   "outputs": [
    {
     "data": {
      "text/plain": [
       "<module 'run_physics_experiment_invM' from '/Users/sebastianmacaluso/Dropbox/Documents/Physics_projects/simulator/hierarchical-trellis/src/run_physics_experiment_invM.py'>"
      ]
     },
     "execution_count": 23,
     "metadata": {},
     "output_type": "execute_result"
    }
   ],
   "source": [
    "importlib.reload(hierarchical_trellis_node)\n",
    "importlib.reload(jet_node)\n",
    "importlib.reload(hierarchical_trellis)\n",
    "importlib.reload(jet_trellis)\n",
    "importlib.reload(rpe)"
   ]
  },
  {
   "cell_type": "code",
   "execution_count": null,
   "metadata": {},
   "outputs": [],
   "source": []
  },
  {
   "cell_type": "code",
   "execution_count": 24,
   "metadata": {},
   "outputs": [],
   "source": [
    "logger = get_logger(level=logging.WARNING)"
   ]
  },
  {
   "cell_type": "code",
   "execution_count": 25,
   "metadata": {
    "scrolled": false
   },
   "outputs": [
    {
     "ename": "NameError",
     "evalue": "name 'test_gt' is not defined",
     "output_type": "error",
     "traceback": [
      "\u001b[0;31m---------------------------------------------------------------------------\u001b[0m",
      "\u001b[0;31mNameError\u001b[0m                                 Traceback (most recent call last)",
      "\u001b[0;32m<ipython-input-25-48bb6d96d09b>\u001b[0m in \u001b[0;36m<module>\u001b[0;34m\u001b[0m\n\u001b[1;32m      5\u001b[0m \u001b[0;31m# MaxNjets = 1\u001b[0m\u001b[0;34m\u001b[0m\u001b[0;34m\u001b[0m\u001b[0;34m\u001b[0m\u001b[0m\n\u001b[1;32m      6\u001b[0m \u001b[0;34m\u001b[0m\u001b[0m\n\u001b[0;32m----> 7\u001b[0;31m resultsPost , treedist, treedistLH = posteriorDist(test_gt, \n\u001b[0m\u001b[1;32m      8\u001b[0m                                                    \u001b[0mtest_BSO_jet\u001b[0m\u001b[0;34m,\u001b[0m\u001b[0;34m\u001b[0m\u001b[0;34m\u001b[0m\u001b[0m\n\u001b[1;32m      9\u001b[0m                                                    \u001b[0mtest_Greedy_jet\u001b[0m\u001b[0;34m,\u001b[0m\u001b[0;34m\u001b[0m\u001b[0;34m\u001b[0m\u001b[0m\n",
      "\u001b[0;31mNameError\u001b[0m: name 'test_gt' is not defined"
     ]
    }
   ],
   "source": [
    "# For testing\n",
    "Nsamples = 1\n",
    "NleavesMin =8\n",
    "NleavesMax=9\n",
    "# MaxNjets = 1\n",
    "\n",
    "resultsPost , treedist, treedistLH = posteriorDist(test_gt, \n",
    "                                                   test_BSO_jet,\n",
    "                                                   test_Greedy_jet,\n",
    "                  Nsamples = Nsamples,\n",
    "                  NleavesMin =NleavesMin,\n",
    "                  NleavesMax=NleavesMax, \n",
    "                  MaxNjets = 1)"
   ]
  },
  {
   "cell_type": "code",
   "execution_count": 53,
   "metadata": {},
   "outputs": [],
   "source": [
    "def savePosterior(treedist,resultsPost, Nsamples = Nsamples, NleavesMin=NleavesMin, NleavesMax=NleavesMax, Nstart=\"\"):\n",
    "#     outdir = \"../../Simulation-driven-Hierarchical-Trellis/src/experiments/\"\n",
    "    outdir = \"../../hierarchical-trellis/src/experiments/\"\n",
    "    out_filename = os.path.join(outdir, \"PosteriorInvM_ExactGraph\"+label+\"_Samples_\"+str(Nsamples)+\"_\"+str(NleavesMin)+\"_\"+str(Nstart)+\".pkl\")\n",
    "    \n",
    "    with open(out_filename, \"wb\") as f:\n",
    "        pickle.dump((treedist,resultsPost), f, protocol=2)"
   ]
  },
  {
   "cell_type": "code",
   "execution_count": 50,
   "metadata": {},
   "outputs": [],
   "source": [
    "def loadPosterior(Nsamples = None,NleavesMin=None,NleavesMax=None, Nstart=\"\"):\n",
    "\n",
    "    outdir = \"experiments/\"\n",
    "\n",
    "    in_filename = os.path.join(outdir, \"PosteriorInvM_\"+label+\"_Samples_\"+str(Nsamples)+\"_\"+str(NleavesMin)+\"_\"+str(NleavesMax)+str(Nstart)+\".pkl\")\n",
    "    with open(in_filename, \"rb\") as fd:\n",
    "        treedist,resultsPost = pickle.load(fd, encoding='latin-1')\n",
    "    return  treedist,resultsPost"
   ]
  },
  {
   "cell_type": "markdown",
   "metadata": {},
   "source": [
    "### Plots"
   ]
  },
  {
   "cell_type": "code",
   "execution_count": null,
   "metadata": {},
   "outputs": [],
   "source": []
  },
  {
   "cell_type": "code",
   "execution_count": 26,
   "metadata": {},
   "outputs": [],
   "source": [
    "def perBinLH(treedist, edges):\n",
    "    \"\"\" Add the likelihood of all trees that fall within a bin\"\"\"\n",
    "    treedistLH = np.exp(treedist)\n",
    "    binLH = []\n",
    "    for i in range(len(edges)-1):\n",
    "        temp=0\n",
    "        for m in range(len(treedist)):\n",
    "            if edges[i]<treedist[m]<edges[i+1]:\n",
    "                temp+=treedistLH[m]\n",
    "        binLH.append(temp)\n",
    "        \n",
    "    return np.asarray(binLH)"
   ]
  },
  {
   "cell_type": "code",
   "execution_count": null,
   "metadata": {},
   "outputs": [],
   "source": []
  },
  {
   "cell_type": "code",
   "execution_count": 27,
   "metadata": {},
   "outputs": [],
   "source": [
    "def posteriorHist(treedist, resultsPost, bins=10):\n",
    "    \n",
    "    fig2 = plt.figure()\n",
    "    gs = fig2.add_gridspec(2, 1, height_ratios=[8, 0.9]) \n",
    "    # gs = gridspec.GridSpec(2, 1, height_ratios=[1, 3]) \n",
    "\n",
    "    fig2, (axes) = plt.subplots(nrows=1, ncols=1)\n",
    "    fig2.set_size_inches(8, 8)\n",
    "    plt.tight_layout(pad=0.4, w_pad=5, h_pad=5.0)\n",
    "    markersize = 200\n",
    "     \n",
    "    axes0 = plt.subplot(gs[0])    \n",
    "    \n",
    "    pdf, edges = np.histogram(treedist, density=True, bins=bins)\n",
    "#     print(pdf)    \n",
    "    edgesCenter = [(edges[i+1]+edges[i])/2 for i in range(len(edges)-1)]\n",
    "\n",
    "    err = np.sqrt(pdf/len(treedist)/(bins[-1]-bins[-2]))\n",
    "\n",
    "    axes0.errorbar(edgesCenter, pdf, marker=\"o\", yerr=err, color = \"black\",linestyle =\"\",  drawstyle = 'steps-mid', label=\"Sampled\")\n",
    "\n",
    "    \n",
    "    \n",
    "    LHset = np.asarray(list(set(treedist)))\n",
    "    newData = perBinLH(LHset, edges)/np.exp(resultsPost[\"Z\"])\n",
    "\n",
    "    \n",
    "    axes0.bar(edgesCenter,newData/ (bins[-1]-bins[-2]),width = (bins[-1]-bins[-2]), color=\"green\", alpha=0.8, label=\"Expected\")\n",
    "    \n",
    "    axes0.axvline(resultsPost[\"gt_llh\"][0], color='red', linestyle='dashed', linewidth=3, label = \"Ground Truth\")\n",
    "    \n",
    "    axes0.grid(which='both', axis='both', linestyle='--')\n",
    "    axes0.tick_params(labelsize=25) \n",
    "    axes0.legend(loc='upper left', fontsize=25)\n",
    "    axes0.set_xlabel(r\" $ \\ell $ = log p(x,H)\", fontsize=30)\n",
    "    axes0.set_ylabel(r\"p($\\ell \\,|$ x) \", fontsize=30)\n",
    "\n",
    "\n",
    "    saveFig=True    \n",
    "    if saveFig:\n",
    "        fig2.savefig(plotDir+\"posteriorSample\"+str(Nsamples)+\"_\"+str(NleavesMin)+\"_\"+str(NleavesMax)+\".pdf\", bbox_inches='tight')\n",
    "    \n",
    "#     plt.show()"
   ]
  },
  {
   "cell_type": "code",
   "execution_count": 28,
   "metadata": {},
   "outputs": [
    {
     "ename": "NameError",
     "evalue": "name 'test_gt' is not defined",
     "output_type": "error",
     "traceback": [
      "\u001b[0;31m---------------------------------------------------------------------------\u001b[0m",
      "\u001b[0;31mNameError\u001b[0m                                 Traceback (most recent call last)",
      "\u001b[0;32m<ipython-input-28-081ca1406acd>\u001b[0m in \u001b[0;36m<module>\u001b[0;34m\u001b[0m\n\u001b[0;32m----> 1\u001b[0;31m \u001b[0mlen\u001b[0m\u001b[0;34m(\u001b[0m\u001b[0mtest_gt\u001b[0m\u001b[0;34m)\u001b[0m\u001b[0;34m\u001b[0m\u001b[0;34m\u001b[0m\u001b[0m\n\u001b[0m",
      "\u001b[0;31mNameError\u001b[0m: name 'test_gt' is not defined"
     ]
    }
   ],
   "source": [
    "len(test_gt)"
   ]
  },
  {
   "cell_type": "code",
   "execution_count": 37,
   "metadata": {},
   "outputs": [],
   "source": [
    "Nstart = 2000\n",
    "test_gt = np.asarray(gt_jets[Nstart::])\n",
    "test_bs = np.asarray(bs_jets[Nstart::])\n",
    "test_gd = np.asarray(greedy_jets[Nstart::])"
   ]
  },
  {
   "cell_type": "code",
   "execution_count": null,
   "metadata": {},
   "outputs": [],
   "source": []
  },
  {
   "cell_type": "code",
   "execution_count": 30,
   "metadata": {},
   "outputs": [
    {
     "data": {
      "text/plain": [
       "-31.49799370765686"
      ]
     },
     "execution_count": 30,
     "metadata": {},
     "output_type": "execute_result"
    }
   ],
   "source": [
    "test_gt[0][\"sumlogLH\"]"
   ]
  },
  {
   "cell_type": "code",
   "execution_count": null,
   "metadata": {},
   "outputs": [],
   "source": []
  },
  {
   "cell_type": "code",
   "execution_count": 43,
   "metadata": {},
   "outputs": [
    {
     "name": "stdout",
     "output_type": "stream",
     "text": [
      "Creating trellis for jet # 0\n"
     ]
    }
   ],
   "source": [
    "Nsamples = 100000\n",
    "NleavesMin =5\n",
    "NleavesMax=6\n",
    "# MaxNjets = 1\n",
    "Nstart = 0\n",
    "\n",
    "resultsPost , treedist, treedistLH = posteriorDist( test_gt[Nstart::], \n",
    "                  test_bs[Nstart::], \n",
    "                  test_gd[Nstart::],\n",
    "                  Nsamples = Nsamples,\n",
    "                  NleavesMin =NleavesMin,\n",
    "                  NleavesMax=NleavesMax, \n",
    "                  MaxNjets = 1)"
   ]
  },
  {
   "cell_type": "code",
   "execution_count": null,
   "metadata": {},
   "outputs": [],
   "source": []
  },
  {
   "cell_type": "code",
   "execution_count": 54,
   "metadata": {},
   "outputs": [],
   "source": [
    "savePosterior(treedist,resultsPost, Nsamples = Nsamples, NleavesMin=NleavesMin, NleavesMax=NleavesMax, Nstart = str(Nstart))"
   ]
  },
  {
   "cell_type": "code",
   "execution_count": 27,
   "metadata": {},
   "outputs": [],
   "source": [
    "treedist, resultsPost =  loadPosterior(Nsamples = Nsamples,  NleavesMin=NleavesMin, NleavesMax=NleavesMax, Nstart=Nstart)"
   ]
  },
  {
   "cell_type": "code",
   "execution_count": 55,
   "metadata": {},
   "outputs": [
    {
     "data": {
      "text/plain": [
       "<Figure size 432x288 with 0 Axes>"
      ]
     },
     "metadata": {},
     "output_type": "display_data"
    },
    {
     "data": {
      "image/png": "[encoded data removed]",
      "text/plain": [
       "<Figure size 576x576 with 1 Axes>"
      ]
     },
     "metadata": {
      "needs_background": "light"
     },
     "output_type": "display_data"
    }
   ],
   "source": [
    "posteriorHist(treedist,  resultsPost, bins = np.linspace(-36,-29,num =100))"
   ]
  },
  {
   "cell_type": "code",
   "execution_count": null,
   "metadata": {},
   "outputs": [],
   "source": []
  },
  {
   "cell_type": "code",
   "execution_count": null,
   "metadata": {},
   "outputs": [],
   "source": []
  },
  {
   "cell_type": "code",
   "execution_count": 33,
   "metadata": {},
   "outputs": [
    {
     "ename": "TypeError",
     "evalue": "list indices must be integers or slices, not list",
     "output_type": "error",
     "traceback": [
      "\u001b[0;31m---------------------------------------------------------------------------\u001b[0m",
      "\u001b[0;31mTypeError\u001b[0m                                 Traceback (most recent call last)",
      "\u001b[0;32m<ipython-input-33-6769542797d7>\u001b[0m in \u001b[0;36m<module>\u001b[0;34m\u001b[0m\n\u001b[1;32m     14\u001b[0m                   \u001b[0mNleavesMin\u001b[0m \u001b[0;34m=\u001b[0m\u001b[0mNleavesMin\u001b[0m\u001b[0;34m,\u001b[0m\u001b[0;34m\u001b[0m\u001b[0;34m\u001b[0m\u001b[0m\n\u001b[1;32m     15\u001b[0m                   \u001b[0mNleavesMax\u001b[0m\u001b[0;34m=\u001b[0m\u001b[0mNleavesMax\u001b[0m\u001b[0;34m,\u001b[0m\u001b[0;34m\u001b[0m\u001b[0;34m\u001b[0m\u001b[0m\n\u001b[0;32m---> 16\u001b[0;31m                   MaxNjets = 1)\n\u001b[0m\u001b[1;32m     17\u001b[0m \u001b[0;34m\u001b[0m\u001b[0m\n\u001b[1;32m     18\u001b[0m \u001b[0;34m\u001b[0m\u001b[0m\n",
      "\u001b[0;32m<ipython-input-22-02ba60f0d23c>\u001b[0m in \u001b[0;36mposteriorDist\u001b[0;34m(gt_jets, bs_jets, greedy_jets, Nsamples, NleavesMin, NleavesMax, MaxNjets)\u001b[0m\n\u001b[1;32m     14\u001b[0m                \u001b[0mNleavesMin\u001b[0m \u001b[0;34m=\u001b[0m\u001b[0mNleavesMin\u001b[0m\u001b[0;34m,\u001b[0m\u001b[0;34m\u001b[0m\u001b[0;34m\u001b[0m\u001b[0m\n\u001b[1;32m     15\u001b[0m                \u001b[0mNleavesMax\u001b[0m\u001b[0;34m=\u001b[0m \u001b[0mNleavesMax\u001b[0m\u001b[0;34m,\u001b[0m\u001b[0;34m\u001b[0m\u001b[0;34m\u001b[0m\u001b[0m\n\u001b[0;32m---> 16\u001b[0;31m                MaxNjets = MaxNjets)\n\u001b[0m\u001b[1;32m     17\u001b[0m \u001b[0;34m\u001b[0m\u001b[0m\n\u001b[1;32m     18\u001b[0m \u001b[0;34m\u001b[0m\u001b[0m\n",
      "\u001b[0;32m<ipython-input-18-dfe0581aa81a>\u001b[0m in \u001b[0;36mrunTrellis\u001b[0;34m(gt_jets, bs_jets, greedy_jets, NleavesMin, NleavesMax, MaxNjets)\u001b[0m\n\u001b[1;32m     38\u001b[0m \u001b[0;34m\u001b[0m\u001b[0m\n\u001b[1;32m     39\u001b[0m         \u001b[0mGT_jets\u001b[0m \u001b[0;34m=\u001b[0m \u001b[0mnp\u001b[0m\u001b[0;34m.\u001b[0m\u001b[0masarray\u001b[0m\u001b[0;34m(\u001b[0m\u001b[0mgt_jets\u001b[0m\u001b[0;34m)\u001b[0m\u001b[0;34m[\u001b[0m\u001b[0msmallJetIndex\u001b[0m\u001b[0;34m]\u001b[0m\u001b[0;34m\u001b[0m\u001b[0;34m\u001b[0m\u001b[0m\n\u001b[0;32m---> 40\u001b[0;31m         \u001b[0mBSO_jet\u001b[0m \u001b[0;34m=\u001b[0m \u001b[0mbs_jets\u001b[0m\u001b[0;34m[\u001b[0m\u001b[0msmallJetIndex\u001b[0m\u001b[0;34m]\u001b[0m\u001b[0;34m\u001b[0m\u001b[0;34m\u001b[0m\u001b[0m\n\u001b[0m\u001b[1;32m     41\u001b[0m         \u001b[0mGreedy_jet\u001b[0m \u001b[0;34m=\u001b[0m \u001b[0mgreedy_jets\u001b[0m\u001b[0;34m[\u001b[0m\u001b[0msmallJetIndex\u001b[0m\u001b[0;34m]\u001b[0m\u001b[0;34m\u001b[0m\u001b[0;34m\u001b[0m\u001b[0m\n\u001b[1;32m     42\u001b[0m \u001b[0;34m\u001b[0m\u001b[0m\n",
      "\u001b[0;31mTypeError\u001b[0m: list indices must be integers or slices, not list"
     ]
    }
   ],
   "source": [
    "Nsamples = 10\n",
    "NleavesMin =9\n",
    "NleavesMax=10\n",
    "# MaxNjets = 1\n",
    "Nstart = 0\n",
    "\n",
    "\n",
    "start = time.time()\n",
    "\n",
    "resultsPost , treedist, treedistLH = posteriorDist( test_gt[Nstart::], \n",
    "                  test_bs[Nstart::], \n",
    "                  test_gd[Nstart::],\n",
    "                  Nsamples = Nsamples,\n",
    "                  NleavesMin =NleavesMin,\n",
    "                  NleavesMax=NleavesMax, \n",
    "                  MaxNjets = 1)\n",
    "\n",
    "\n",
    "end = time.time()-start"
   ]
  },
  {
   "cell_type": "code",
   "execution_count": 50,
   "metadata": {},
   "outputs": [
    {
     "data": {
      "text/plain": [
       "0.06310049700737"
      ]
     },
     "execution_count": 50,
     "metadata": {},
     "output_type": "execute_result"
    }
   ],
   "source": [
    "end/1000"
   ]
  },
  {
   "cell_type": "code",
   "execution_count": null,
   "metadata": {},
   "outputs": [],
   "source": []
  },
  {
   "cell_type": "code",
   "execution_count": null,
   "metadata": {},
   "outputs": [],
   "source": []
  },
  {
   "cell_type": "markdown",
   "metadata": {},
   "source": [
    "## Sample Tree logLH and dictionary"
   ]
  },
  {
   "cell_type": "code",
   "execution_count": null,
   "metadata": {},
   "outputs": [],
   "source": []
  },
  {
   "cell_type": "code",
   "execution_count": 48,
   "metadata": {},
   "outputs": [],
   "source": [
    "def posteriorTrees( gt_jets, \n",
    "                  bs_jets, \n",
    "                  greedy_jets,\n",
    "                  Nsamples = 1,\n",
    "                  NleavesMin =9,\n",
    "                  NleavesMax=10, \n",
    "                  MaxNjets = 1):\n",
    "    \"\"\"Sample trees to build the posterior distribution\"\"\"\n",
    "\n",
    "    \"\"\"Create and fill trellis\"\"\"\n",
    "    results, trellis =  runTrellis(gt_jets, \n",
    "               bs_jets, \n",
    "               greedy_jets,\n",
    "               NleavesMin =NleavesMin, \n",
    "               NleavesMax= NleavesMax, \n",
    "               MaxNjets = MaxNjets)\n",
    "    \n",
    "    \n",
    "    \"\"\"Sampling\"\"\"\n",
    "    treedist, jetdist = np.asarray(trellis.sampleTree(trellis.root, Nsamples))\n",
    "    \n",
    "#     treedistLH = np.exp(treedist)\n",
    "    \n",
    "    return results, treedist, jetdist"
   ]
  },
  {
   "cell_type": "code",
   "execution_count": 192,
   "metadata": {},
   "outputs": [
    {
     "data": {
      "text/plain": [
       "<module 'run_physics_experiment_invM' from '/Users/sebastianmacaluso/Dropbox/Documents/Physics_projects/simulator/hierarchical-trellis/src/run_physics_experiment_invM.py'>"
      ]
     },
     "execution_count": 192,
     "metadata": {},
     "output_type": "execute_result"
    }
   ],
   "source": [
    "importlib.reload(hierarchical_trellis_node)\n",
    "importlib.reload(jet_node)\n",
    "importlib.reload(hierarchical_trellis)\n",
    "importlib.reload(jet_trellis)\n",
    "importlib.reload(rpe)"
   ]
  },
  {
   "cell_type": "code",
   "execution_count": null,
   "metadata": {},
   "outputs": [],
   "source": []
  },
  {
   "cell_type": "code",
   "execution_count": 193,
   "metadata": {},
   "outputs": [],
   "source": [
    "logger = get_logger(level=logging.WARNING)"
   ]
  },
  {
   "cell_type": "code",
   "execution_count": 196,
   "metadata": {
    "scrolled": false
   },
   "outputs": [
    {
     "name": "stdout",
     "output_type": "stream",
     "text": [
      "Creating trellis for jet # 0\n",
      "Tot_time =  1.667536735534668\n"
     ]
    }
   ],
   "source": [
    "# For testing\n",
    "Nsamples = 1\n",
    "NleavesMin =9\n",
    "NleavesMax=10\n",
    "# MaxNjets = 1\n",
    "\n",
    "start =time.time()\n",
    "\n",
    "resultsPost , treedist, jetdist = posteriorTrees( gt_jets, \n",
    "                  bs_jets, \n",
    "                  greedy_jets,\n",
    "                  Nsamples = Nsamples,\n",
    "                  NleavesMin =NleavesMin,\n",
    "                  NleavesMax=NleavesMax, \n",
    "                  MaxNjets = 1)\n",
    "\n",
    "print(\"Tot_time = \",time.time()-start)"
   ]
  },
  {
   "cell_type": "code",
   "execution_count": 181,
   "metadata": {},
   "outputs": [
    {
     "data": {
      "text/plain": [
       "9"
      ]
     },
     "execution_count": 181,
     "metadata": {},
     "output_type": "execute_result"
    }
   ],
   "source": [
    "len(jetdist[0][\"leaves\"])"
   ]
  },
  {
   "cell_type": "code",
   "execution_count": 182,
   "metadata": {},
   "outputs": [
    {
     "data": {
      "text/plain": [
       "[-56.15912098535465]"
      ]
     },
     "execution_count": 182,
     "metadata": {},
     "output_type": "execute_result"
    }
   ],
   "source": [
    "[sum(jetdist[i][\"logLH\"]) for i in range(len(jetdist))]"
   ]
  },
  {
   "cell_type": "code",
   "execution_count": 183,
   "metadata": {},
   "outputs": [
    {
     "data": {
      "text/plain": [
       "array([[150.28670557,  91.454086  ,  86.32935603,  82.1809349 ],\n",
       "       [  3.04718527,   1.89997253,   1.74872138,   1.6162211 ],\n",
       "       [  6.91591023,   4.24317273,   3.90854673,   3.810552  ],\n",
       "       [ 69.31191398,  39.36957628,  39.57004844,  40.99284443],\n",
       "       [ 20.42856902,  13.72615669,  10.09770702,  11.25179847],\n",
       "       [100.73261558,  52.44697441,  60.41086757,  61.16588593],\n",
       "       [ 16.80851689,   9.98290325,  10.19013404,   8.88550465],\n",
       "       [ 11.30351647,   6.11806067,   5.68455702,   7.53482518],\n",
       "       [ 22.28848456,  11.69920243,  13.00016666,  13.50153816]])"
      ]
     },
     "execution_count": 183,
     "metadata": {},
     "output_type": "execute_result"
    }
   ],
   "source": [
    "jetdist[0][\"leaves\"]"
   ]
  },
  {
   "cell_type": "markdown",
   "metadata": {},
   "source": [
    "## MAP jet"
   ]
  },
  {
   "cell_type": "code",
   "execution_count": 177,
   "metadata": {},
   "outputs": [],
   "source": [
    "def buildMAPjet(gt_jets, \n",
    "                  bs_jets, \n",
    "                  greedy_jets,\n",
    "                  NleavesMin =9,\n",
    "                  NleavesMax=10, \n",
    "                  MaxNjets = 1):\n",
    "    \n",
    "    results, trellis =  runTrellis(gt_jets, \n",
    "                   bs_jets, \n",
    "                   greedy_jets,\n",
    "                   NleavesMin =NleavesMin, \n",
    "                   NleavesMax= NleavesMax, \n",
    "                   MaxNjets = MaxNjets)\n",
    "\n",
    "    MAPjet= trellis.traverseMAPtree(trellis.root)\n",
    "\n",
    "    return MAPjet"
   ]
  },
  {
   "cell_type": "code",
   "execution_count": 178,
   "metadata": {},
   "outputs": [
    {
     "name": "stdout",
     "output_type": "stream",
     "text": [
      "Creating trellis for jet # 0\n",
      "Tot_time =  1.5333588123321533\n"
     ]
    }
   ],
   "source": [
    "NleavesMin =9\n",
    "NleavesMax=10\n",
    "MaxNjets = 1\n",
    "\n",
    "start = time.time()\n",
    "\n",
    "MAPjet = buildMAPjet(gt_jets, \n",
    "                  bs_jets, \n",
    "                  greedy_jets,\n",
    "                  NleavesMin = NleavesMin,\n",
    "                  NleavesMax = NleavesMax, \n",
    "                  MaxNjets = MaxNjets)\n",
    "\n",
    "print(\"Tot_time = \",time.time()-start)"
   ]
  },
  {
   "cell_type": "code",
   "execution_count": 179,
   "metadata": {},
   "outputs": [
    {
     "data": {
      "text/plain": [
       "-52.601919336416344"
      ]
     },
     "execution_count": 179,
     "metadata": {},
     "output_type": "execute_result"
    }
   ],
   "source": [
    "MAPjet[\"logLH\"]"
   ]
  },
  {
   "cell_type": "code",
   "execution_count": null,
   "metadata": {},
   "outputs": [],
   "source": []
  },
  {
   "cell_type": "code",
   "execution_count": null,
   "metadata": {},
   "outputs": [],
   "source": []
  },
  {
   "cell_type": "markdown",
   "metadata": {},
   "source": [
    "## Tree multiplicity vs Number of leaves"
   ]
  },
  {
   "cell_type": "code",
   "execution_count": 184,
   "metadata": {},
   "outputs": [],
   "source": [
    "def Ntrees(Nleaves):\n",
    "    Tot=1\n",
    "    for k in range(2*Nleaves-3,1,-2):\n",
    "        Tot*=k\n",
    "    return Tot"
   ]
  },
  {
   "cell_type": "code",
   "execution_count": 185,
   "metadata": {},
   "outputs": [
    {
     "name": "stdout",
     "output_type": "stream",
     "text": [
      "3\n",
      "15\n",
      "105\n",
      "945\n",
      "10395\n",
      "135135\n",
      "2027025\n",
      "34459425\n",
      "654729075\n",
      "13749310575\n",
      "316234143225\n",
      "7905853580625\n",
      "213458046676875\n",
      "6190283353629375\n",
      "191898783962510625\n",
      "6332659870762850625\n",
      "221643095476699771875\n"
     ]
    }
   ],
   "source": [
    "for m in range(3,20):\n",
    "    print(Ntrees(m))"
   ]
  },
  {
   "cell_type": "code",
   "execution_count": 187,
   "metadata": {},
   "outputs": [],
   "source": [
    "# Timing:"
   ]
  },
  {
   "cell_type": "code",
   "execution_count": 188,
   "metadata": {},
   "outputs": [
    {
     "data": {
      "text/plain": [
       "0.020833333333333336"
      ]
     },
     "execution_count": 188,
     "metadata": {},
     "output_type": "execute_result"
    }
   ],
   "source": [
    "1.5/3600 * 10**6   *0.1/2000# There should be a speed up from going to c++ and pararelizing"
   ]
  },
  {
   "cell_type": "code",
   "execution_count": null,
   "metadata": {},
   "outputs": [],
   "source": []
  },
  {
   "cell_type": "code",
   "execution_count": null,
   "metadata": {},
   "outputs": [],
   "source": []
  },
  {
   "cell_type": "code",
   "execution_count": null,
   "metadata": {},
   "outputs": [],
   "source": []
  },
  {
   "cell_type": "code",
   "execution_count": null,
   "metadata": {},
   "outputs": [],
   "source": []
  },
  {
   "cell_type": "code",
   "execution_count": null,
   "metadata": {},
   "outputs": [],
   "source": []
  },
  {
   "cell_type": "code",
   "execution_count": 302,
   "metadata": {},
   "outputs": [],
   "source": [
    "Ntrees=[]\n",
    "UniqueList = []\n",
    "for i in range(2000,20000,2000):\n",
    "    Ntrees.append(i)\n",
    "    UniqueList.append(len(list(set(treedist[0:i]))))"
   ]
  },
  {
   "cell_type": "code",
   "execution_count": 303,
   "metadata": {},
   "outputs": [
    {
     "data": {
      "text/plain": [
       "Text(0.5, 0, 'Number of samples')"
      ]
     },
     "execution_count": 303,
     "metadata": {},
     "output_type": "execute_result"
    },
    {
     "data": {
      "image/png": "[encoded data removed]",
      "text/plain": [
       "<Figure size 576x576 with 1 Axes>"
      ]
     },
     "metadata": {
      "needs_background": "light"
     },
     "output_type": "display_data"
    }
   ],
   "source": [
    "plt.scatter(Ntrees,UniqueList)\n",
    "plt.grid()\n",
    "plt.ylabel(r\"Unique likelihood values  \", fontsize=20)\n",
    "plt.xlabel(r\"Number of samples\",fontsize=20)"
   ]
  },
  {
   "cell_type": "code",
   "execution_count": null,
   "metadata": {},
   "outputs": [],
   "source": []
  },
  {
   "cell_type": "code",
   "execution_count": null,
   "metadata": {},
   "outputs": [],
   "source": []
  },
  {
   "cell_type": "code",
   "execution_count": 300,
   "metadata": {},
   "outputs": [],
   "source": [
    "Ntrees=[]\n",
    "UniqueList = []\n",
    "for i in range(10000,300000,10000):\n",
    "    Ntrees.append(i)\n",
    "    UniqueList.append(len(list(set(treedist[0:i]))))"
   ]
  },
  {
   "cell_type": "code",
   "execution_count": 301,
   "metadata": {},
   "outputs": [
    {
     "data": {
      "text/plain": [
       "Text(0.5, 0, 'Number of samples')"
      ]
     },
     "execution_count": 301,
     "metadata": {},
     "output_type": "execute_result"
    },
    {
     "data": {
      "image/png": "[encoded data removed]",
      "text/plain": [
       "<Figure size 576x576 with 1 Axes>"
      ]
     },
     "metadata": {
      "needs_background": "light"
     },
     "output_type": "display_data"
    }
   ],
   "source": [
    "plt.scatter(Ntrees,UniqueList)\n",
    "plt.grid()\n",
    "plt.ylabel(r\"Unique likelihood values  \", fontsize=20)\n",
    "plt.xlabel(r\"Number of samples\",fontsize=20)"
   ]
  },
  {
   "cell_type": "code",
   "execution_count": null,
   "metadata": {},
   "outputs": [],
   "source": []
  },
  {
   "cell_type": "code",
   "execution_count": null,
   "metadata": {},
   "outputs": [],
   "source": []
  },
  {
   "cell_type": "code",
   "execution_count": 63,
   "metadata": {},
   "outputs": [
    {
     "data": {
      "text/plain": [
       "3"
      ]
     },
     "execution_count": 63,
     "metadata": {},
     "output_type": "execute_result"
    }
   ],
   "source": []
  },
  {
   "cell_type": "code",
   "execution_count": null,
   "metadata": {},
   "outputs": [],
   "source": []
  },
  {
   "cell_type": "code",
   "execution_count": null,
   "metadata": {},
   "outputs": [],
   "source": []
  },
  {
   "cell_type": "code",
   "execution_count": null,
   "metadata": {},
   "outputs": [],
   "source": []
  }
 ],
 "metadata": {
  "kernelspec": {
   "display_name": "Python 3",
   "language": "python",
   "name": "python3"
  },
  "language_info": {
   "codemirror_mode": {
    "name": "ipython",
    "version": 3
   },
   "file_extension": ".py",
   "mimetype": "text/x-python",
   "name": "python",
   "nbconvert_exporter": "python",
   "pygments_lexer": "ipython3",
   "version": "3.7.3"
  }
 },
 "nbformat": 4,
 "nbformat_minor": 2
}
